{
 "cells": [
  {
   "cell_type": "code",
   "execution_count": null,
   "id": "cdc528ea-d01d-429d-980b-0c43c6538c4c",
   "metadata": {},
   "outputs": [],
   "source": [
    "# Report on challenges faced\n",
    " \"\"\"\n",
    "CHALLENGES FACED AND SOLUTIONS:\n",
    "\n",
    "1. **Anonymized Features**: \n",
    "   - Challenge: All 200 features are anonymized, making domain-specific feature engineering difficult.\n",
    "   - Solution: Focused on statistical properties and used tree-based models that can handle anonymous features well.\n",
    "\n",
    "2. **Class Imbalance**:\n",
    "   - Challenge: The target variable shows significant imbalance (approx 90:10 ratio).\n",
    "   - Solution: Used stratified sampling and models that handle imbalance well (LightGBM, XGBoost with appropriate metrics).\n",
    "\n",
    "3. **High Dimensionality**:\n",
    "   - Challenge: 200 features with potentially many irrelevant ones.\n",
    "   - Solution: Used feature importance from tree-based models to identify key features.\n",
    "\n",
    "4. **Potential Outliers**:\n",
    "   - Challenge: Anonymous features may contain outliers affecting model performance.\n",
    "   - Solution: Used RobustScaler instead of StandardScaler for better outlier handling.\n",
    "\n",
    "5. **Model Selection**:\n",
    "   - Challenge: Choosing the right model for production deployment.\n",
    "   - Solution: Compared multiple models using cross-validation and selected based on ROC AUC score.\n",
    "\n",
    "6. **Computational Complexity**:\n",
    "   - Challenge: Large dataset with 200 features requires efficient algorithms.\n",
    "   - Solution: Used LightGBM and XGBoost which are efficient for high-dimensional data.\n",
    "\"\"\"\n",
    "\n"
   ]
  },
  {
   "cell_type": "code",
   "execution_count": null,
   "id": "f469b95f-9d07-4607-ac7f-c8c8062f2685",
   "metadata": {},
   "outputs": [],
   "source": [
    "# Final recommendations\n",
    "# final_recommendations = \n",
    "\"\"\"\n",
    "FINAL RECOMMENDATIONS:\n",
    "\n",
    "1. **Best Model**: Based on cross-validation results, {best_model_name} performed best with ROC AUC score of {roc_auc_score:.4f}.\n",
    "\n",
    "2. **Production Deployment**: \n",
    "   - Use {best_model_name} for production as it showed the best balance between performance and computational efficiency.\n",
    "   - Implement monitoring for model drift due to the anonymized nature of features.\n",
    "\n",
    "3. **Feature Importance**: \n",
    "   - The top 20 features identified should be monitored closely as they drive the predictions.\n",
    "   - Consider feature reduction in production to improve inference speed.\n",
    "\n",
    "4. **Class Imbalance Handling**:\n",
    "   - In production, consider using appropriate threshold tuning based on business requirements.\n",
    "   - Implement sampling strategies if retraining is needed.\n",
    "\n",
    "5. **Monitoring**:\n",
    "   - Set up continuous monitoring of model performance metrics.\n",
    "   - Implement A/B testing framework for model updates.\n",
    "# \"\"\"#.format(\n",
    "#     best_model_name=best_model_name,\n",
    "#     roc_auc_score=cv_results_df.loc[best_model_name, 'mean_roc_auc']\n",
    "# )\n",
    "\n",
    "# print(final_recommendations)"
   ]
  },
  {
   "cell_type": "code",
   "execution_count": null,
   "id": "82ca9c01-c1d8-48de-8176-75664ce2b90b",
   "metadata": {},
   "outputs": [],
   "source": [
    "# Generate complete report\n",
    "# complete_report = \n",
    "\"\"\"\n",
    "COMPLETE DATA ANALYSIS AND MODELING REPORT\n",
    "\n",
    "PROJECT: PRCP-1003-Customer Transaction Prediction\n",
    "\n",
    "DATASET OVERVIEW:\n",
    "- Total samples: {samples}\n",
    "- Features: 200 anonymized features\n",
    "- Target variable: Binary (0: No transaction, 1: Transaction)\n",
    "- Class distribution: {class_dist}\n",
    "\n",
    "DATA QUALITY:\n",
    "- Missing values: {missing_values}\n",
    "- Data types: All numerical features\n",
    "\n",
    "MODEL PERFORMANCE SUMMARY:\n",
    "{model_performance}\n",
    "\n",
    "CROSS-VALIDATION RESULTS (ROC AUC):\n",
    "{cv_results}\n",
    "\n",
    "BEST MODEL: {best_model}\n",
    "- ROC AUC Score: {best_score:.4f}\n",
    "- Key metrics: \n",
    "  * Precision: {precision:.4f}\n",
    "  * Recall: {recall:.4f}\n",
    "  * F1-Score: {f1:.4f}\n",
    "\n",
    "KEY CHALLENGES:\n",
    "1. Anonymized features limiting domain-specific insights\n",
    "2. Significant class imbalance\n",
    "3. High dimensionality\n",
    "4. Potential outlier presence\n",
    "\n",
    "SOLUTIONS IMPLEMENTED:\n",
    "1. Used tree-based models robust to feature anonymity\n",
    "2. Employed stratified sampling and appropriate evaluation metrics\n",
    "3. Feature importance analysis for dimensionality insight\n",
    "4. Robust scaling for outlier handling\n",
    "\n",
    "PRODUCTION RECOMMENDATIONS:\n",
    "1. Deploy {best_model} with monitoring for model drift\n",
    "2. Focus on top 20 important features for business insights\n",
    "3. Implement threshold tuning based on business costs\n",
    "4. Set up continuous performance monitoring\n",
    "# \"\"\".#format(\n",
    "#     samples=df.shape[0],\n",
    "#     class_dist=df['target'].value_counts(normalize=True).to_dict(),\n",
    "#     missing_values=df.isnull().sum().sum(),\n",
    "#     model_performance=results_df.to_string(),\n",
    "#     cv_results=cv_results_df.to_string(),\n",
    "#     best_model=best_model_name,\n",
    "#     best_score=cv_results_df.loc[best_model_name, 'mean_roc_auc'],\n",
    "#     precision=precision_score(y_test, y_pred),\n",
    "#     recall=recall_score(y_test, y_pred),\n",
    "#     f1=f1_score(y_test, y_pred)\n",
    "# )\n",
    "\n",
    "#print(complete_report)\n",
    "\n",
    "'''Key Insights and Findings:\n",
    "Class Imbalance: The dataset shows significant imbalance (approximately 90:10 ratio between class 0 and 1), which is common in transaction prediction problems.\n",
    "\n",
    "Feature Importance: Despite feature anonymization, tree-based models can identify the most predictive features for transaction behavior.\n",
    "\n",
    "Model Performance: Gradient boosting models (LightGBM, XGBoost) typically outperform traditional models in such high-dimensional, anonymized feature scenarios.\n",
    "\n",
    "Scalability: LightGBM often provides the best trade-off between performance and computational efficiency for production deployment.\n",
    "\n",
    "Evaluation Metric: ROC AUC is the most appropriate metric given the class imbalance, as it evaluates performance across all classification thresholds.'''"
   ]
  },
  {
   "cell_type": "code",
   "execution_count": 1,
   "id": "a51f7bbe-6423-4d7e-956a-5f87e8be9559",
   "metadata": {},
   "outputs": [],
   "source": [
    "# Import necessary libraries\n",
    "import pandas as pd\n",
    "import numpy as np\n",
    "import matplotlib.pyplot as plt\n",
    "import seaborn as sns\n",
    "from sklearn.model_selection import train_test_split, cross_val_score, StratifiedKFold\n",
    "from sklearn.preprocessing import StandardScaler, RobustScaler\n",
    "from sklearn.impute import SimpleImputer\n",
    "from sklearn.linear_model import LogisticRegression\n",
    "from sklearn.ensemble import RandomForestClassifier, GradientBoostingClassifier\n",
    "from sklearn.svm import SVC\n",
    "from xgboost import XGBClassifier\n",
    "from lightgbm import LGBMClassifier\n",
    "from sklearn.metrics import (accuracy_score, precision_score, recall_score, \n",
    "                           f1_score, roc_auc_score, confusion_matrix, \n",
    "                           classification_report, roc_curve, auc)\n",
    "import warnings\n",
    "warnings.filterwarnings('ignore')\n",
    "\n",
    "# Set style for plots\n",
    "plt.style.use('ggplot')\n",
    "sns.set_palette(\"Set2\")"
   ]
  },
  {
   "cell_type": "code",
   "execution_count": null,
   "id": "5412691b-c9aa-403b-ab03-98c0e8ed18cf",
   "metadata": {},
   "outputs": [],
   "source": []
  },
  {
   "cell_type": "code",
   "execution_count": 2,
   "id": "582162e6-a83b-42ba-b4f9-d24eba658ce9",
   "metadata": {},
   "outputs": [],
   "source": [
    "# Load the dataset\n",
    "df = pd.read_csv('train(1).csv')  "
   ]
  },
  {
   "cell_type": "code",
   "execution_count": 3,
   "id": "6f39a449-65f5-4197-be42-c3b5390aa776",
   "metadata": {},
   "outputs": [
    {
     "name": "stdout",
     "output_type": "stream",
     "text": [
      "Dataset Shape: (200000, 202)\n",
      "\n",
      "First 5 rows:\n",
      "   ID_code  target    var_0   var_1    var_2   var_3    var_4   var_5   var_6  \\\n",
      "0  train_0       0   8.9255 -6.7863  11.9081  5.0930  11.4607 -9.2834  5.1187   \n",
      "1  train_1       0  11.5006 -4.1473  13.8588  5.3890  12.3622  7.0433  5.6208   \n",
      "2  train_2       0   8.6093 -2.7457  12.0805  7.8928  10.5825 -9.0837  6.9427   \n",
      "3  train_3       0  11.0604 -2.1518   8.9522  7.1957  12.5846 -1.8361  5.8428   \n",
      "4  train_4       0   9.8369 -1.4834  12.8746  6.6375  12.2772  2.4486  5.9405   \n",
      "\n",
      "     var_7  ...  var_190  var_191  var_192  var_193  var_194  var_195  \\\n",
      "0  18.6266  ...   4.4354   3.9642   3.1364   1.6910  18.5227  -2.3978   \n",
      "1  16.5338  ...   7.6421   7.7214   2.5837  10.9516  15.4305   2.0339   \n",
      "2  14.6155  ...   2.9057   9.7905   1.6704   1.6858  21.6042   3.1417   \n",
      "3  14.9250  ...   4.4666   4.7433   0.7178   1.4214  23.0347  -1.2706   \n",
      "4  19.2514  ...  -1.4905   9.5214  -0.1508   9.1942  13.2876  -1.5121   \n",
      "\n",
      "   var_196  var_197  var_198  var_199  \n",
      "0   7.8784   8.5635  12.7803  -1.0914  \n",
      "1   8.1267   8.7889  18.3560   1.9518  \n",
      "2  -6.5213   8.2675  14.7222   0.3965  \n",
      "3  -2.9275  10.2922  17.9697  -8.9996  \n",
      "4   3.9267   9.5031  17.9974  -8.8104  \n",
      "\n",
      "[5 rows x 202 columns]\n"
     ]
    }
   ],
   "source": [
    "print(\"Dataset Shape:\", df.shape)\n",
    "print(\"\\nFirst 5 rows:\")\n",
    "print(df.head())"
   ]
  },
  {
   "cell_type": "code",
   "execution_count": 4,
   "id": "3fe969ea-cb33-49b1-a793-051371d39365",
   "metadata": {},
   "outputs": [
    {
     "name": "stdout",
     "output_type": "stream",
     "text": [
      "\n",
      "Dataset Info:\n",
      "<class 'pandas.core.frame.DataFrame'>\n",
      "RangeIndex: 200000 entries, 0 to 199999\n",
      "Columns: 202 entries, ID_code to var_199\n",
      "dtypes: float64(200), int64(1), object(1)\n",
      "memory usage: 308.2+ MB\n",
      "None\n"
     ]
    }
   ],
   "source": [
    "print(\"\\nDataset Info:\")\n",
    "print(df.info())"
   ]
  },
  {
   "cell_type": "code",
   "execution_count": 5,
   "id": "10066641-f1ce-47ec-bf30-3d27461005f5",
   "metadata": {},
   "outputs": [
    {
     "name": "stdout",
     "output_type": "stream",
     "text": [
      "\n",
      "Missing Values:\n",
      "0\n"
     ]
    }
   ],
   "source": [
    "print(\"\\nMissing Values:\")\n",
    "print(df.isnull().sum().sum())"
   ]
  },
  {
   "cell_type": "code",
   "execution_count": 6,
   "id": "2e628cfc-bdb9-40da-ba15-bed8337fd35d",
   "metadata": {},
   "outputs": [
    {
     "name": "stdout",
     "output_type": "stream",
     "text": [
      "\n",
      "Target Distribution:\n",
      "target\n",
      "0    179902\n",
      "1     20098\n",
      "Name: count, dtype: int64\n"
     ]
    }
   ],
   "source": [
    "print(\"\\nTarget Distribution:\")\n",
    "print(df['target'].value_counts())"
   ]
  },
  {
   "cell_type": "code",
   "execution_count": 7,
   "id": "066c0b3e-1e20-4758-8728-78cc0d6f9b4e",
   "metadata": {},
   "outputs": [
    {
     "name": "stdout",
     "output_type": "stream",
     "text": [
      "\n",
      "Target Distribution Percentage:\n",
      "target\n",
      "0    89.951\n",
      "1    10.049\n",
      "Name: proportion, dtype: float64\n"
     ]
    }
   ],
   "source": [
    "print(\"\\nTarget Distribution Percentage:\")\n",
    "print(df['target'].value_counts(normalize=True) * 100)"
   ]
  },
  {
   "cell_type": "code",
   "execution_count": 8,
   "id": "12ff18f5-b5e6-45b0-9a3a-330f210adbf6",
   "metadata": {},
   "outputs": [],
   "source": [
    "X = df.drop(['ID_code', 'target'], axis=1)\n",
    "y = df['target']"
   ]
  },
  {
   "cell_type": "code",
   "execution_count": 9,
   "id": "01d75824-6d8c-4968-b414-b1f878ffd569",
   "metadata": {},
   "outputs": [
    {
     "name": "stdout",
     "output_type": "stream",
     "text": [
      "Missing values in features: 0\n"
     ]
    }
   ],
   "source": [
    "print(\"Missing values in features:\", X.isnull().sum().sum())"
   ]
  },
  {
   "cell_type": "code",
   "execution_count": 10,
   "id": "98737348-9d64-49be-b96b-702fbe326820",
   "metadata": {},
   "outputs": [],
   "source": [
    "if X.isnull().sum().sum() > 0:\n",
    "    imputer = SimpleImputer(strategy='median')\n",
    "    X = pd.DataFrame(imputer.fit_transform(X), columns=X.columns)\n",
    "\n",
    "# Scale the features\n",
    "scaler = RobustScaler()  # Robust to outliers\n",
    "X_scaled = scaler.fit_transform(X)\n",
    "X_scaled = pd.DataFrame(X_scaled, columns=X.columns)\n",
    "\n",
    "# Split the data\n",
    "X_train, X_test, y_train, y_test = train_test_split(\n",
    "    X_scaled, y, test_size=0.2, random_state=42, stratify=y\n",
    ")"
   ]
  },
  {
   "cell_type": "code",
   "execution_count": 11,
   "id": "1efa1f05-032e-46f3-b614-4adb78329cda",
   "metadata": {},
   "outputs": [
    {
     "name": "stdout",
     "output_type": "stream",
     "text": [
      "Training set shape: (160000, 200)\n",
      "Test set shape: (40000, 200)\n"
     ]
    }
   ],
   "source": [
    "print(f\"Training set shape: {X_train.shape}\")\n",
    "print(f\"Test set shape: {X_test.shape}\")"
   ]
  },
  {
   "cell_type": "code",
   "execution_count": 12,
   "id": "e1f0614b-6b6b-403a-bccb-a5a5f986109f",
   "metadata": {},
   "outputs": [
    {
     "name": "stdout",
     "output_type": "stream",
     "text": [
      "Basic Statistics:\n",
      "               var_0          var_1          var_2          var_3  \\\n",
      "count  200000.000000  200000.000000  200000.000000  200000.000000   \n",
      "mean       10.679914      -1.627622      10.715192       6.796529   \n",
      "std         3.040051       4.050044       2.640894       2.043319   \n",
      "min         0.408400     -15.043400       2.117100      -0.040200   \n",
      "25%         8.453850      -4.740025       8.722475       5.254075   \n",
      "50%        10.524750      -1.608050      10.580000       6.825000   \n",
      "75%        12.758200       1.358625      12.516700       8.324100   \n",
      "max        20.315000      10.376800      19.353000      13.188300   \n",
      "\n",
      "               var_4          var_5          var_6          var_7  \\\n",
      "count  200000.000000  200000.000000  200000.000000  200000.000000   \n",
      "mean       11.078333      -5.065317       5.408949      16.545850   \n",
      "std         1.623150       7.863267       0.866607       3.418076   \n",
      "min         5.074800     -32.562600       2.347300       5.349700   \n",
      "25%         9.883175     -11.200350       4.767700      13.943800   \n",
      "50%        11.108250      -4.833150       5.385100      16.456800   \n",
      "75%        12.261125       0.924800       6.003000      19.102900   \n",
      "max        16.671400      17.251600       8.447700      27.691800   \n",
      "\n",
      "               var_8          var_9  ...        var_190        var_191  \\\n",
      "count  200000.000000  200000.000000  ...  200000.000000  200000.000000   \n",
      "mean        0.284162       7.567236  ...       3.234440       7.438408   \n",
      "std         3.332634       1.235070  ...       4.559922       3.023272   \n",
      "min       -10.505500       3.970500  ...     -14.093300      -2.691700   \n",
      "25%        -2.317800       6.618800  ...      -0.058825       5.157400   \n",
      "50%         0.393700       7.629600  ...       3.203600       7.347750   \n",
      "75%         2.937900       8.584425  ...       6.406200       9.512525   \n",
      "max        10.151300      11.150600  ...      18.440900      16.716500   \n",
      "\n",
      "             var_192        var_193        var_194        var_195  \\\n",
      "count  200000.000000  200000.000000  200000.000000  200000.000000   \n",
      "mean        1.927839       3.331774      17.993784      -0.142088   \n",
      "std         1.478423       3.992030       3.135162       1.429372   \n",
      "min        -3.814500     -11.783400       8.694400      -5.261000   \n",
      "25%         0.889775       0.584600      15.629800      -1.170700   \n",
      "50%         1.901300       3.396350      17.957950      -0.172700   \n",
      "75%         2.949500       6.205800      20.396525       0.829600   \n",
      "max         8.402400      18.281800      27.928800       4.272900   \n",
      "\n",
      "             var_196        var_197        var_198        var_199  \n",
      "count  200000.000000  200000.000000  200000.000000  200000.000000  \n",
      "mean        2.303335       8.908158      15.870720      -3.326537  \n",
      "std         5.454369       0.921625       3.010945      10.438015  \n",
      "min       -14.209600       5.960600       6.299300     -38.852800  \n",
      "25%        -1.946925       8.252800      13.829700     -11.208475  \n",
      "50%         2.408900       8.888200      15.934050      -2.819550  \n",
      "75%         6.556725       9.593300      18.064725       4.836800  \n",
      "max        18.321500      12.000400      26.079100      28.500700  \n",
      "\n",
      "[8 rows x 200 columns]\n"
     ]
    }
   ],
   "source": [
    "print(\"Basic Statistics:\")\n",
    "print(X.describe())"
   ]
  },
  {
   "cell_type": "code",
   "execution_count": 13,
   "id": "8b6397fe-bcb1-4d80-a93e-12168d974797",
   "metadata": {},
   "outputs": [
    {
     "data": {
      "image/png": "[encoded data removed]",
      "text/plain": [
       "<Figure size 1200x800 with 2 Axes>"
      ]
     },
     "metadata": {},
     "output_type": "display_data"
    }
   ],
   "source": [
    "plt.figure(figsize=(12, 8))\n",
    "corr_matrix = X.iloc[:, :20].corr() \n",
    "sns.heatmap(corr_matrix, cmap='coolwarm', center=0)\n",
    "plt.title('Correlation Matrix (First 20 Features)')\n",
    "plt.show()"
   ]
  },
  {
   "cell_type": "code",
   "execution_count": 14,
   "id": "bfacc089-0145-4555-88e7-4623a86b7178",
   "metadata": {},
   "outputs": [
    {
     "data": {
      "image/png": "[encoded data removed]",
      "text/plain": [
       "<Figure size 1000x600 with 1 Axes>"
      ]
     },
     "metadata": {},
     "output_type": "display_data"
    }
   ],
   "source": [
    "plt.figure(figsize=(10, 6))\n",
    "sns.countplot(x=y)\n",
    "plt.title('Target Variable Distribution')\n",
    "plt.xlabel('Target (0: No Transaction, 1: Transaction)')\n",
    "plt.ylabel('Count')\n",
    "plt.show()"
   ]
  },
  {
   "cell_type": "code",
   "execution_count": 15,
   "id": "5a8769e7-47c0-475f-a1ec-6e722cdcb067",
   "metadata": {},
   "outputs": [
    {
     "name": "stdout",
     "output_type": "stream",
     "text": [
      "Class imbalance ratio: 8.95\n"
     ]
    }
   ],
   "source": [
    "class_ratio = y.value_counts()[0] / y.value_counts()[1]\n",
    "print(f\"Class imbalance ratio: {class_ratio:.2f}\")"
   ]
  },
  {
   "cell_type": "code",
   "execution_count": 16,
   "id": "50133056-1430-4613-9dbb-64e776f22369",
   "metadata": {},
   "outputs": [],
   "source": [
    "models = {\n",
    "    'Logistic Regression': LogisticRegression(random_state=42, max_iter=1000),\n",
    "    'Random Forest': RandomForestClassifier(random_state=42, n_estimators=100),\n",
    "    'Gradient Boosting': GradientBoostingClassifier(random_state=42, n_estimators=100),\n",
    "    'XGBoost': XGBClassifier(random_state=42, n_estimators=100, use_label_encoder=False, eval_metric='logloss'),\n",
    "    'LightGBM': LGBMClassifier(random_state=42, n_estimators=100)\n",
    "}"
   ]
  },
  {
   "cell_type": "code",
   "execution_count": null,
   "id": "bd001879-7e6f-40e5-aaf9-815dbab7dbc7",
   "metadata": {},
   "outputs": [
    {
     "name": "stdout",
     "output_type": "stream",
     "text": [
      "Training Logistic Regression...\n",
      "Training Random Forest...\n"
     ]
    }
   ],
   "source": [
    "results = {}\n",
    "for name, model in models.items():\n",
    "    print(f\"Training {name}...\")\n",
    "    model.fit(X_train, y_train)\n",
    "    y_pred = model.predict(X_test)\n",
    "    y_pred_proba = model.predict_proba(X_test)[:, 1]\n",
    "    \n",
    "    # Calculate metrics\n",
    "    results[name] = {\n",
    "        'accuracy': accuracy_score(y_test, y_pred),\n",
    "        'precision': precision_score(y_test, y_pred),\n",
    "        'recall': recall_score(y_test, y_pred),\n",
    "        'f1_score': f1_score(y_test, y_pred),\n",
    "        'roc_auc': roc_auc_score(y_test, y_pred_proba)\n",
    "    }"
   ]
  },
  {
   "cell_type": "code",
   "execution_count": null,
   "id": "e4284399-5a60-4b64-882f-1e2ae97942f5",
   "metadata": {},
   "outputs": [],
   "source": [
    "results_df = pd.DataFrame(results).T\n",
    "print(\"\\nModel Performance Comparison:\")\n",
    "print(results_df)"
   ]
  },
  {
   "cell_type": "code",
   "execution_count": null,
   "id": "37ca483f-7af7-4126-96de-e71dcc6b6d86",
   "metadata": {},
   "outputs": [],
   "source": [
    "cv = StratifiedKFold(n_splits=5, shuffle=True, random_state=42)"
   ]
  },
  {
   "cell_type": "code",
   "execution_count": null,
   "id": "64ee46ab-6e2a-40da-bb64-6baa75def4be",
   "metadata": {},
   "outputs": [],
   "source": [
    "cv_results = {}\n",
    "for name, model in models.items():\n",
    "    print(f\"Performing CV for {name}...\")\n",
    "    cv_scores = cross_val_score(model, X_scaled, y, cv=cv, scoring='roc_auc')\n",
    "    cv_results[name] = {\n",
    "        'mean_roc_auc': cv_scores.mean(),\n",
    "        'std_roc_auc': cv_scores.std()\n",
    "    }\n",
    "\n",
    "cv_results_df = pd.DataFrame(cv_results).T\n",
    "print(\"\\nCross-Validation Results (ROC AUC):\")\n",
    "print(cv_results_df)"
   ]
  },
  {
   "cell_type": "code",
   "execution_count": null,
   "id": "9f584d8d-164a-4dab-9726-fdad3aaa256b",
   "metadata": {},
   "outputs": [],
   "source": [
    "best_model = models['LightGBM'] \n",
    "best_model.fit(X_train, y_train)"
   ]
  },
  {
   "cell_type": "code",
   "execution_count": null,
   "id": "5f0f7495-11d9-47dd-b438-cd1a39ab97ba",
   "metadata": {},
   "outputs": [],
   "source": [
    "feature_importance = pd.DataFrame({\n",
    "    'feature': X.columns,\n",
    "    'importance': best_model.feature_importances_\n",
    "}).sort_values('importance', ascending=False)"
   ]
  },
  {
   "cell_type": "code",
   "execution_count": null,
   "id": "f386bfd9-c452-47c6-9858-6fc7506ba62b",
   "metadata": {},
   "outputs": [],
   "source": [
    "plt.figure(figsize=(12, 8))\n",
    "sns.barplot(x='importance', y='feature', data=feature_importance.head(20))\n",
    "plt.title('Top 20 Most Important Features')\n",
    "plt.xlabel('Importance')\n",
    "plt.ylabel('Feature')\n",
    "plt.show()"
   ]
  },
  {
   "cell_type": "code",
   "execution_count": null,
   "id": "db6f2bbe-9153-4c6e-9939-dc3068eab254",
   "metadata": {},
   "outputs": [],
   "source": [
    "best_model_name = cv_results_df['mean_roc_auc'].idxmax()\n",
    "best_model = models[best_model_name]\n",
    "best_model.fit(X_train, y_train)"
   ]
  },
  {
   "cell_type": "code",
   "execution_count": null,
   "id": "29d79093-5ceb-4a46-89eb-8dc5c5d7e78f",
   "metadata": {},
   "outputs": [],
   "source": [
    "y_pred = best_model.predict(X_test)\n",
    "y_pred_proba = best_model.predict_proba(X_test)[:, 1]"
   ]
  },
  {
   "cell_type": "code",
   "execution_count": null,
   "id": "697841a9-68a1-4f09-b16f-2d0a1be9a23b",
   "metadata": {},
   "outputs": [],
   "source": [
    "print(f\"\\nDetailed Evaluation for {best_model_name}:\")\n",
    "print(\"Classification Report:\")\n",
    "print(classification_report(y_test, y_pred))\n",
    "print(f\"ROC AUC Score: {roc_auc_score(y_test, y_pred_proba):.4f}\")"
   ]
  },
  {
   "cell_type": "code",
   "execution_count": null,
   "id": "e1ed3529-7c95-4d1d-9f9b-7a3af9be105e",
   "metadata": {},
   "outputs": [],
   "source": [
    "plt.figure(figsize=(8, 6))\n",
    "cm = confusion_matrix(y_test, y_pred)\n",
    "sns.heatmap(cm, annot=True, fmt='d', cmap='Blues')\n",
    "plt.title(f'Confusion Matrix - {best_model_name}')\n",
    "plt.ylabel('Actual')\n",
    "plt.xlabel('Predicted')\n",
    "plt.show()"
   ]
  },
  {
   "cell_type": "code",
   "execution_count": null,
   "id": "2fc88f3a-58eb-4ac3-aed4-0b5386339efe",
   "metadata": {},
   "outputs": [],
   "source": [
    "fpr, tpr, _ = roc_curve(y_test, y_pred_proba)\n",
    "roc_auc = auc(fpr, tpr)"
   ]
  },
  {
   "cell_type": "code",
   "execution_count": null,
   "id": "987a358c-f960-4888-97b4-9c17e0a23ea0",
   "metadata": {},
   "outputs": [],
   "source": [
    "plt.figure(figsize=(8, 6))\n",
    "plt.plot(fpr, tpr, color='darkorange', lw=2, label=f'ROC curve (area = {roc_auc:.2f})')\n",
    "plt.plot([0, 1], [0, 1], color='navy', lw=2, linestyle='--')\n",
    "plt.xlim([0.0, 1.0])\n",
    "plt.ylim([0.0, 1.05])\n",
    "plt.xlabel('False Positive Rate')\n",
    "plt.ylabel('True Positive Rate')\n",
    "plt.title(f'ROC Curve - {best_model_name}')\n",
    "plt.legend(loc=\"lower right\")\n",
    "plt.show()"
   ]
  },
  {
   "cell_type": "code",
   "execution_count": null,
   "id": "2d79f04b-77c4-4875-9ddb-4edd5169268c",
   "metadata": {},
   "outputs": [],
   "source": []
  }
 ],
 "metadata": {
  "kernelspec": {
   "display_name": "Python 3 (ipykernel)",
   "language": "python",
   "name": "python3"
  },
  "language_info": {
   "codemirror_mode": {
    "name": "ipython",
    "version": 3
   },
   "file_extension": ".py",
   "mimetype": "text/x-python",
   "name": "python",
   "nbconvert_exporter": "python",
   "pygments_lexer": "ipython3",
   "version": "3.13.5"
  }
 },
 "nbformat": 4,
 "nbformat_minor": 5
}
