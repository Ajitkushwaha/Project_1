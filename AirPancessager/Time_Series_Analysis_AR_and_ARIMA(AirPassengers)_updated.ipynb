{
 "cells": [
  {
   "cell_type": "markdown",
   "metadata": {
    "id": "UHChvaQjPvJ0"
   },
   "source": [
    "# What is Time Series?\n",
    "* Across industries, organizations commonly use time series data, which refers to any information collected over a regular interval of time in their operations. Examples include daily stock prices, energy consumption rates, social media engagement metrics, and retail demand among others. Analyzing time series data yields insights like trends, seasonal patterns and forecasts into future events that can help generate profits. For example, by understanding the seasonal trends in demand for retail products, companies can plan promotions to maximize sales throughout the year.\n",
    "* There are multiple time series algorithms that are optimized for forecasting continuous values, such as temperature or product sales. A time series model can predict trends based only on the original dataset collected over a period of time.\n",
    "\n",
    "**White noise**\n",
    "* A time series is white noise if the variables are independent and identically distributed with a mean of zero. This means that all variables have the same variance (sigma^2) and each value has a zero correlation with all other values in the series.\n",
    "\n",
    "\n",
    "**Data patterns**\n",
    "\n",
    "**cycle**\n",
    "* A cyclic pattern occurs when data rise and fall, but this does not happen within the fixed time and the duration of these fluctuations is usually at least 2 years\n",
    "![](cycle.png)\n",
    "\n",
    "**Trend**\n",
    "* A trend pattern exists when there is a long-term increase or decrease in the series. The trend can be linear, exponential\n",
    "![](trend.png)\n",
    "\n",
    "**Seasonal**\n",
    "* Seasonality exists when data is influenced by seasonal factors, such as a day of the week, a month, and one-quarter of the year. A seasonal pattern exists of a fixed known period.\n",
    "![](sea.png)\n",
    "\n",
    "**Random**\n",
    "* which do not follow any trend, cycle or seasonal patterns\n",
    "![](ran.png)\n",
    "\n",
    "\n",
    "**Types**\n",
    "* Types of time series models are moving average, ARIMA etc.The crucial thing is to choose the right forecasting method as per the characteristics of the time series data. The following are some of the basic time series models:\n",
    "\n",
    "\n",
    "\n",
    "**MA(Moving Average)**\n",
    "* A moving average is defined as an average of fixed number of items in the time series which move through the series by dropping the top items of the previous averaged group and adding the next in each successive average.\n",
    "Yt depends only on random error terms\n",
    "     \tYt = f( εt, εt-1, εt-2, εt-3, ..)\n",
    "\t\tor\n",
    " \tYt = β + εt + θ1 εt-1 + θ2εt-2 + θ3 εt-3 +…\n",
    "\n",
    "\n",
    "\n",
    "**AR(Auto Regressive)**\n",
    "* Autoregression is a time series model that uses observations from previous time steps as input to a regression equation to predict the value at the next time step. It is a very simple idea that can result in accurate forecasts on a range of time series problems.\n",
    "* Yt depends only of past values.\n",
    "* Yt-1, Yt-2, Yt-3 etc\n",
    "              * Yt  = f(Yt-1, Yt-2, Yt-3… )\n",
    "              * Yt = β0 + β1Yt-1 + β2Yt-2 + β3Yt-3 …\n",
    "\n",
    "\n",
    "**ARMA**\n",
    "* Time series, autoregressive–moving-average (ARMA) models provide a parsimonious description of a (weakly) stationary stochastic process in terms of two polynomials, one for the autoregression (AR) and the second for the moving average (MA).\n",
    "* Combines AR and MA\n",
    "\t* Yt = β0 + β1Yt-1 + β2Yt-2 + β3Yt-3 …εt + θ1 εt-1 + θ2εt-2 + θ3 εt-3 +…\n",
    "\n",
    "\n",
    "**ARIMA**\n",
    "* Autoregressive Integrated Moving Average (ARIMA) model is another widely used forecasting technique that involves the combination of two or more time series models. This model is suitable for multivariate non-stationary data. ARIMA method is based on the concepts of autoregression, autocorrelation, and moving average.\n",
    "\n",
    "\n",
    "\n",
    "\n"
   ]
  },
  {
   "cell_type": "markdown",
   "metadata": {
    "id": "iR6i0sLiwFGo"
   },
   "source": [
    "### Create a Time Series Model to predict the future air passenger traffic"
   ]
  },
  {
   "cell_type": "code",
   "execution_count": null,
   "metadata": {
    "id": "UO9RWLyWPvKb"
   },
   "outputs": [],
   "source": [
    "## Importing librries\n",
    "import pandas as pd\n",
    "import warnings\n",
    "warnings.filterwarnings('ignore')"
   ]
  },
  {
   "cell_type": "code",
   "execution_count": null,
   "metadata": {
    "id": "8pBxwl_7wFGq"
   },
   "outputs": [],
   "source": [
    "## loading the data\n",
    "data=pd.read_csv('AirPassengers.csv')\n",
    "# we have data of airline passengers travelled between January 1949 and December 1960"
   ]
  },
  {
   "cell_type": "code",
   "execution_count": null,
   "metadata": {
    "colab": {
     "base_uri": "https://localhost:8080/",
     "height": 206
    },
    "collapsed": true,
    "executionInfo": {
     "elapsed": 581,
     "status": "ok",
     "timestamp": 1693463306749,
     "user": {
      "displayName": "Rama Chandra Kotturu",
      "userId": "02243285469857073193"
     },
     "user_tz": -330
    },
    "id": "gNs3ffeyPvKh",
    "jupyter": {
     "outputs_hidden": true
    },
    "outputId": "2bbc78e3-58bb-45f2-efd0-4473716c8f82"
   },
   "outputs": [
    {
     "data": {
      "text/html": [
       "\n",
       "  <div id=\"df-baf45514-7f1b-4b2c-9735-b030eb385170\" class=\"colab-df-container\">\n",
       "    <div>\n",
       "<style scoped>\n",
       "    .dataframe tbody tr th:only-of-type {\n",
       "        vertical-align: middle;\n",
       "    }\n",
       "\n",
       "    .dataframe tbody tr th {\n",
       "        vertical-align: top;\n",
       "    }\n",
       "\n",
       "    .dataframe thead th {\n",
       "        text-align: right;\n",
       "    }\n",
       "</style>\n",
       "<table border=\"1\" class=\"dataframe\">\n",
       "  <thead>\n",
       "    <tr style=\"text-align: right;\">\n",
       "      <th></th>\n",
       "      <th>Month</th>\n",
       "      <th>#Passengers</th>\n",
       "    </tr>\n",
       "  </thead>\n",
       "  <tbody>\n",
       "    <tr>\n",
       "      <th>0</th>\n",
       "      <td>1949-01</td>\n",
       "      <td>112</td>\n",
       "    </tr>\n",
       "    <tr>\n",
       "      <th>1</th>\n",
       "      <td>1949-02</td>\n",
       "      <td>118</td>\n",
       "    </tr>\n",
       "    <tr>\n",
       "      <th>2</th>\n",
       "      <td>1949-03</td>\n",
       "      <td>132</td>\n",
       "    </tr>\n",
       "    <tr>\n",
       "      <th>3</th>\n",
       "      <td>1949-04</td>\n",
       "      <td>129</td>\n",
       "    </tr>\n",
       "    <tr>\n",
       "      <th>4</th>\n",
       "      <td>1949-05</td>\n",
       "      <td>121</td>\n",
       "    </tr>\n",
       "  </tbody>\n",
       "</table>\n",
       "</div>\n",
       "    <div class=\"colab-df-buttons\">\n",
       "\n",
       "  <div class=\"colab-df-container\">\n",
       "    <button class=\"colab-df-convert\" onclick=\"convertToInteractive('df-baf45514-7f1b-4b2c-9735-b030eb385170')\"\n",
       "            title=\"Convert this dataframe to an interactive table.\"\n",
       "            style=\"display:none;\">\n",
       "\n",
       "  <svg xmlns=\"http://www.w3.org/2000/svg\" height=\"24px\" viewBox=\"0 -960 960 960\">\n",
       "    <path d=\"M120-120v-720h720v720H120Zm60-500h600v-160H180v160Zm220 220h160v-160H400v160Zm0 220h160v-160H400v160ZM180-400h160v-160H180v160Zm440 0h160v-160H620v160ZM180-180h160v-160H180v160Zm440 0h160v-160H620v160Z\"/>\n",
       "  </svg>\n",
       "    </button>\n",
       "\n",
       "  <style>\n",
       "    .colab-df-container {\n",
       "      display:flex;\n",
       "      gap: 12px;\n",
       "    }\n",
       "\n",
       "    .colab-df-convert {\n",
       "      background-color: #E8F0FE;\n",
       "      border: none;\n",
       "      border-radius: 50%;\n",
       "      cursor: pointer;\n",
       "      display: none;\n",
       "      fill: #1967D2;\n",
       "      height: 32px;\n",
       "      padding: 0 0 0 0;\n",
       "      width: 32px;\n",
       "    }\n",
       "\n",
       "    .colab-df-convert:hover {\n",
       "      background-color: #E2EBFA;\n",
       "      box-shadow: 0px 1px 2px rgba(60, 64, 67, 0.3), 0px 1px 3px 1px rgba(60, 64, 67, 0.15);\n",
       "      fill: #174EA6;\n",
       "    }\n",
       "\n",
       "    .colab-df-buttons div {\n",
       "      margin-bottom: 4px;\n",
       "    }\n",
       "\n",
       "    [theme=dark] .colab-df-convert {\n",
       "      background-color: #3B4455;\n",
       "      fill: #D2E3FC;\n",
       "    }\n",
       "\n",
       "    [theme=dark] .colab-df-convert:hover {\n",
       "      background-color: #434B5C;\n",
       "      box-shadow: 0px 1px 3px 1px rgba(0, 0, 0, 0.15);\n",
       "      filter: drop-shadow(0px 1px 2px rgba(0, 0, 0, 0.3));\n",
       "      fill: #FFFFFF;\n",
       "    }\n",
       "  </style>\n",
       "\n",
       "    <script>\n",
       "      const buttonEl =\n",
       "        document.querySelector('#df-baf45514-7f1b-4b2c-9735-b030eb385170 button.colab-df-convert');\n",
       "      buttonEl.style.display =\n",
       "        google.colab.kernel.accessAllowed ? 'block' : 'none';\n",
       "\n",
       "      async function convertToInteractive(key) {\n",
       "        const element = document.querySelector('#df-baf45514-7f1b-4b2c-9735-b030eb385170');\n",
       "        const dataTable =\n",
       "          await google.colab.kernel.invokeFunction('convertToInteractive',\n",
       "                                                    [key], {});\n",
       "        if (!dataTable) return;\n",
       "\n",
       "        const docLinkHtml = 'Like what you see? Visit the ' +\n",
       "          '<a target=\"_blank\" href=https://colab.research.google.com/notebooks/data_table.ipynb>data table notebook</a>'\n",
       "          + ' to learn more about interactive tables.';\n",
       "        element.innerHTML = '';\n",
       "        dataTable['output_type'] = 'display_data';\n",
       "        await google.colab.output.renderOutput(dataTable, element);\n",
       "        const docLink = document.createElement('div');\n",
       "        docLink.innerHTML = docLinkHtml;\n",
       "        element.appendChild(docLink);\n",
       "      }\n",
       "    </script>\n",
       "  </div>\n",
       "\n",
       "\n",
       "<div id=\"df-73b09688-afb3-46fb-97f7-0dd5567569f7\">\n",
       "  <button class=\"colab-df-quickchart\" onclick=\"quickchart('df-73b09688-afb3-46fb-97f7-0dd5567569f7')\"\n",
       "            title=\"Suggest charts.\"\n",
       "            style=\"display:none;\">\n",
       "\n",
       "<svg xmlns=\"http://www.w3.org/2000/svg\" height=\"24px\"viewBox=\"0 0 24 24\"\n",
       "     width=\"24px\">\n",
       "    <g>\n",
       "        <path d=\"M19 3H5c-1.1 0-2 .9-2 2v14c0 1.1.9 2 2 2h14c1.1 0 2-.9 2-2V5c0-1.1-.9-2-2-2zM9 17H7v-7h2v7zm4 0h-2V7h2v10zm4 0h-2v-4h2v4z\"/>\n",
       "    </g>\n",
       "</svg>\n",
       "  </button>\n",
       "\n",
       "<style>\n",
       "  .colab-df-quickchart {\n",
       "    background-color: #E8F0FE;\n",
       "    border: none;\n",
       "    border-radius: 50%;\n",
       "    cursor: pointer;\n",
       "    display: none;\n",
       "    fill: #1967D2;\n",
       "    height: 32px;\n",
       "    padding: 0 0 0 0;\n",
       "    width: 32px;\n",
       "  }\n",
       "\n",
       "  .colab-df-quickchart:hover {\n",
       "    background-color: #E2EBFA;\n",
       "    box-shadow: 0px 1px 2px rgba(60, 64, 67, 0.3), 0px 1px 3px 1px rgba(60, 64, 67, 0.15);\n",
       "    fill: #174EA6;\n",
       "  }\n",
       "\n",
       "  [theme=dark] .colab-df-quickchart {\n",
       "    background-color: #3B4455;\n",
       "    fill: #D2E3FC;\n",
       "  }\n",
       "\n",
       "  [theme=dark] .colab-df-quickchart:hover {\n",
       "    background-color: #434B5C;\n",
       "    box-shadow: 0px 1px 3px 1px rgba(0, 0, 0, 0.15);\n",
       "    filter: drop-shadow(0px 1px 2px rgba(0, 0, 0, 0.3));\n",
       "    fill: #FFFFFF;\n",
       "  }\n",
       "</style>\n",
       "\n",
       "  <script>\n",
       "    async function quickchart(key) {\n",
       "      const charts = await google.colab.kernel.invokeFunction(\n",
       "          'suggestCharts', [key], {});\n",
       "    }\n",
       "    (() => {\n",
       "      let quickchartButtonEl =\n",
       "        document.querySelector('#df-73b09688-afb3-46fb-97f7-0dd5567569f7 button');\n",
       "      quickchartButtonEl.style.display =\n",
       "        google.colab.kernel.accessAllowed ? 'block' : 'none';\n",
       "    })();\n",
       "  </script>\n",
       "</div>\n",
       "    </div>\n",
       "  </div>\n"
      ],
      "text/plain": [
       "     Month  #Passengers\n",
       "0  1949-01          112\n",
       "1  1949-02          118\n",
       "2  1949-03          132\n",
       "3  1949-04          129\n",
       "4  1949-05          121"
      ]
     },
     "execution_count": 3,
     "metadata": {},
     "output_type": "execute_result"
    }
   ],
   "source": [
    "data.head()#first five rows"
   ]
  },
  {
   "cell_type": "code",
   "execution_count": null,
   "metadata": {
    "colab": {
     "base_uri": "https://localhost:8080/",
     "height": 206
    },
    "collapsed": true,
    "executionInfo": {
     "elapsed": 646,
     "status": "ok",
     "timestamp": 1693463349225,
     "user": {
      "displayName": "Rama Chandra Kotturu",
      "userId": "02243285469857073193"
     },
     "user_tz": -330
    },
    "id": "a6Pq7vJIPvKk",
    "jupyter": {
     "outputs_hidden": true
    },
    "outputId": "ec2111a4-3e0a-4aca-c860-639900819063"
   },
   "outputs": [
    {
     "data": {
      "text/html": [
       "\n",
       "  <div id=\"df-850bb3d1-5352-4eb5-9ede-dc1013b34ca9\" class=\"colab-df-container\">\n",
       "    <div>\n",
       "<style scoped>\n",
       "    .dataframe tbody tr th:only-of-type {\n",
       "        vertical-align: middle;\n",
       "    }\n",
       "\n",
       "    .dataframe tbody tr th {\n",
       "        vertical-align: top;\n",
       "    }\n",
       "\n",
       "    .dataframe thead th {\n",
       "        text-align: right;\n",
       "    }\n",
       "</style>\n",
       "<table border=\"1\" class=\"dataframe\">\n",
       "  <thead>\n",
       "    <tr style=\"text-align: right;\">\n",
       "      <th></th>\n",
       "      <th>Month</th>\n",
       "      <th>#Passengers</th>\n",
       "    </tr>\n",
       "  </thead>\n",
       "  <tbody>\n",
       "    <tr>\n",
       "      <th>139</th>\n",
       "      <td>1960-08</td>\n",
       "      <td>606</td>\n",
       "    </tr>\n",
       "    <tr>\n",
       "      <th>140</th>\n",
       "      <td>1960-09</td>\n",
       "      <td>508</td>\n",
       "    </tr>\n",
       "    <tr>\n",
       "      <th>141</th>\n",
       "      <td>1960-10</td>\n",
       "      <td>461</td>\n",
       "    </tr>\n",
       "    <tr>\n",
       "      <th>142</th>\n",
       "      <td>1960-11</td>\n",
       "      <td>390</td>\n",
       "    </tr>\n",
       "    <tr>\n",
       "      <th>143</th>\n",
       "      <td>1960-12</td>\n",
       "      <td>432</td>\n",
       "    </tr>\n",
       "  </tbody>\n",
       "</table>\n",
       "</div>\n",
       "    <div class=\"colab-df-buttons\">\n",
       "\n",
       "  <div class=\"colab-df-container\">\n",
       "    <button class=\"colab-df-convert\" onclick=\"convertToInteractive('df-850bb3d1-5352-4eb5-9ede-dc1013b34ca9')\"\n",
       "            title=\"Convert this dataframe to an interactive table.\"\n",
       "            style=\"display:none;\">\n",
       "\n",
       "  <svg xmlns=\"http://www.w3.org/2000/svg\" height=\"24px\" viewBox=\"0 -960 960 960\">\n",
       "    <path d=\"M120-120v-720h720v720H120Zm60-500h600v-160H180v160Zm220 220h160v-160H400v160Zm0 220h160v-160H400v160ZM180-400h160v-160H180v160Zm440 0h160v-160H620v160ZM180-180h160v-160H180v160Zm440 0h160v-160H620v160Z\"/>\n",
       "  </svg>\n",
       "    </button>\n",
       "\n",
       "  <style>\n",
       "    .colab-df-container {\n",
       "      display:flex;\n",
       "      gap: 12px;\n",
       "    }\n",
       "\n",
       "    .colab-df-convert {\n",
       "      background-color: #E8F0FE;\n",
       "      border: none;\n",
       "      border-radius: 50%;\n",
       "      cursor: pointer;\n",
       "      display: none;\n",
       "      fill: #1967D2;\n",
       "      height: 32px;\n",
       "      padding: 0 0 0 0;\n",
       "      width: 32px;\n",
       "    }\n",
       "\n",
       "    .colab-df-convert:hover {\n",
       "      background-color: #E2EBFA;\n",
       "      box-shadow: 0px 1px 2px rgba(60, 64, 67, 0.3), 0px 1px 3px 1px rgba(60, 64, 67, 0.15);\n",
       "      fill: #174EA6;\n",
       "    }\n",
       "\n",
       "    .colab-df-buttons div {\n",
       "      margin-bottom: 4px;\n",
       "    }\n",
       "\n",
       "    [theme=dark] .colab-df-convert {\n",
       "      background-color: #3B4455;\n",
       "      fill: #D2E3FC;\n",
       "    }\n",
       "\n",
       "    [theme=dark] .colab-df-convert:hover {\n",
       "      background-color: #434B5C;\n",
       "      box-shadow: 0px 1px 3px 1px rgba(0, 0, 0, 0.15);\n",
       "      filter: drop-shadow(0px 1px 2px rgba(0, 0, 0, 0.3));\n",
       "      fill: #FFFFFF;\n",
       "    }\n",
       "  </style>\n",
       "\n",
       "    <script>\n",
       "      const buttonEl =\n",
       "        document.querySelector('#df-850bb3d1-5352-4eb5-9ede-dc1013b34ca9 button.colab-df-convert');\n",
       "      buttonEl.style.display =\n",
       "        google.colab.kernel.accessAllowed ? 'block' : 'none';\n",
       "\n",
       "      async function convertToInteractive(key) {\n",
       "        const element = document.querySelector('#df-850bb3d1-5352-4eb5-9ede-dc1013b34ca9');\n",
       "        const dataTable =\n",
       "          await google.colab.kernel.invokeFunction('convertToInteractive',\n",
       "                                                    [key], {});\n",
       "        if (!dataTable) return;\n",
       "\n",
       "        const docLinkHtml = 'Like what you see? Visit the ' +\n",
       "          '<a target=\"_blank\" href=https://colab.research.google.com/notebooks/data_table.ipynb>data table notebook</a>'\n",
       "          + ' to learn more about interactive tables.';\n",
       "        element.innerHTML = '';\n",
       "        dataTable['output_type'] = 'display_data';\n",
       "        await google.colab.output.renderOutput(dataTable, element);\n",
       "        const docLink = document.createElement('div');\n",
       "        docLink.innerHTML = docLinkHtml;\n",
       "        element.appendChild(docLink);\n",
       "      }\n",
       "    </script>\n",
       "  </div>\n",
       "\n",
       "\n",
       "<div id=\"df-6e8c01ba-2dad-4691-8067-1faced2f5abc\">\n",
       "  <button class=\"colab-df-quickchart\" onclick=\"quickchart('df-6e8c01ba-2dad-4691-8067-1faced2f5abc')\"\n",
       "            title=\"Suggest charts.\"\n",
       "            style=\"display:none;\">\n",
       "\n",
       "<svg xmlns=\"http://www.w3.org/2000/svg\" height=\"24px\"viewBox=\"0 0 24 24\"\n",
       "     width=\"24px\">\n",
       "    <g>\n",
       "        <path d=\"M19 3H5c-1.1 0-2 .9-2 2v14c0 1.1.9 2 2 2h14c1.1 0 2-.9 2-2V5c0-1.1-.9-2-2-2zM9 17H7v-7h2v7zm4 0h-2V7h2v10zm4 0h-2v-4h2v4z\"/>\n",
       "    </g>\n",
       "</svg>\n",
       "  </button>\n",
       "\n",
       "<style>\n",
       "  .colab-df-quickchart {\n",
       "    background-color: #E8F0FE;\n",
       "    border: none;\n",
       "    border-radius: 50%;\n",
       "    cursor: pointer;\n",
       "    display: none;\n",
       "    fill: #1967D2;\n",
       "    height: 32px;\n",
       "    padding: 0 0 0 0;\n",
       "    width: 32px;\n",
       "  }\n",
       "\n",
       "  .colab-df-quickchart:hover {\n",
       "    background-color: #E2EBFA;\n",
       "    box-shadow: 0px 1px 2px rgba(60, 64, 67, 0.3), 0px 1px 3px 1px rgba(60, 64, 67, 0.15);\n",
       "    fill: #174EA6;\n",
       "  }\n",
       "\n",
       "  [theme=dark] .colab-df-quickchart {\n",
       "    background-color: #3B4455;\n",
       "    fill: #D2E3FC;\n",
       "  }\n",
       "\n",
       "  [theme=dark] .colab-df-quickchart:hover {\n",
       "    background-color: #434B5C;\n",
       "    box-shadow: 0px 1px 3px 1px rgba(0, 0, 0, 0.15);\n",
       "    filter: drop-shadow(0px 1px 2px rgba(0, 0, 0, 0.3));\n",
       "    fill: #FFFFFF;\n",
       "  }\n",
       "</style>\n",
       "\n",
       "  <script>\n",
       "    async function quickchart(key) {\n",
       "      const charts = await google.colab.kernel.invokeFunction(\n",
       "          'suggestCharts', [key], {});\n",
       "    }\n",
       "    (() => {\n",
       "      let quickchartButtonEl =\n",
       "        document.querySelector('#df-6e8c01ba-2dad-4691-8067-1faced2f5abc button');\n",
       "      quickchartButtonEl.style.display =\n",
       "        google.colab.kernel.accessAllowed ? 'block' : 'none';\n",
       "    })();\n",
       "  </script>\n",
       "</div>\n",
       "    </div>\n",
       "  </div>\n"
      ],
      "text/plain": [
       "       Month  #Passengers\n",
       "139  1960-08          606\n",
       "140  1960-09          508\n",
       "141  1960-10          461\n",
       "142  1960-11          390\n",
       "143  1960-12          432"
      ]
     },
     "execution_count": 4,
     "metadata": {},
     "output_type": "execute_result"
    }
   ],
   "source": [
    "data.tail()#last 5 rows"
   ]
  },
  {
   "cell_type": "code",
   "execution_count": null,
   "metadata": {
    "colab": {
     "base_uri": "https://localhost:8080/"
    },
    "executionInfo": {
     "elapsed": 11,
     "status": "ok",
     "timestamp": 1693463409501,
     "user": {
      "displayName": "Rama Chandra Kotturu",
      "userId": "02243285469857073193"
     },
     "user_tz": -330
    },
    "id": "OpCNGYRhSKS2",
    "outputId": "9735c419-535d-4968-f3e1-9bc2b888bdff"
   },
   "outputs": [
    {
     "data": {
      "text/plain": [
       "622"
      ]
     },
     "execution_count": 5,
     "metadata": {},
     "output_type": "execute_result"
    }
   ],
   "source": [
    "data['#Passengers'].max()"
   ]
  },
  {
   "cell_type": "code",
   "execution_count": 61,
   "metadata": {
    "colab": {
     "base_uri": "https://localhost:8080/",
     "height": 238
    },
    "executionInfo": {
     "elapsed": 554,
     "status": "ok",
     "timestamp": 1693467402680,
     "user": {
      "displayName": "Rama Chandra Kotturu",
      "userId": "02243285469857073193"
     },
     "user_tz": -330
    },
    "id": "w4t6m49LhaGS",
    "outputId": "8e17e2a1-0b73-4047-d06f-9dcf82465083"
   },
   "outputs": [
    {
     "data": {
      "text/html": [
       "\n",
       "  <div id=\"df-580fbf3a-27d4-4efd-b454-c148c817fc9c\" class=\"colab-df-container\">\n",
       "    <div>\n",
       "<style scoped>\n",
       "    .dataframe tbody tr th:only-of-type {\n",
       "        vertical-align: middle;\n",
       "    }\n",
       "\n",
       "    .dataframe tbody tr th {\n",
       "        vertical-align: top;\n",
       "    }\n",
       "\n",
       "    .dataframe thead th {\n",
       "        text-align: right;\n",
       "    }\n",
       "</style>\n",
       "<table border=\"1\" class=\"dataframe\">\n",
       "  <thead>\n",
       "    <tr style=\"text-align: right;\">\n",
       "      <th></th>\n",
       "      <th>Passengers</th>\n",
       "    </tr>\n",
       "    <tr>\n",
       "      <th>Month</th>\n",
       "      <th></th>\n",
       "    </tr>\n",
       "  </thead>\n",
       "  <tbody>\n",
       "    <tr>\n",
       "      <th>1949-01-01</th>\n",
       "      <td>112</td>\n",
       "    </tr>\n",
       "    <tr>\n",
       "      <th>1949-02-01</th>\n",
       "      <td>118</td>\n",
       "    </tr>\n",
       "    <tr>\n",
       "      <th>1949-03-01</th>\n",
       "      <td>132</td>\n",
       "    </tr>\n",
       "    <tr>\n",
       "      <th>1949-04-01</th>\n",
       "      <td>129</td>\n",
       "    </tr>\n",
       "    <tr>\n",
       "      <th>1949-05-01</th>\n",
       "      <td>121</td>\n",
       "    </tr>\n",
       "  </tbody>\n",
       "</table>\n",
       "</div>\n",
       "    <div class=\"colab-df-buttons\">\n",
       "\n",
       "  <div class=\"colab-df-container\">\n",
       "    <button class=\"colab-df-convert\" onclick=\"convertToInteractive('df-580fbf3a-27d4-4efd-b454-c148c817fc9c')\"\n",
       "            title=\"Convert this dataframe to an interactive table.\"\n",
       "            style=\"display:none;\">\n",
       "\n",
       "  <svg xmlns=\"http://www.w3.org/2000/svg\" height=\"24px\" viewBox=\"0 -960 960 960\">\n",
       "    <path d=\"M120-120v-720h720v720H120Zm60-500h600v-160H180v160Zm220 220h160v-160H400v160Zm0 220h160v-160H400v160ZM180-400h160v-160H180v160Zm440 0h160v-160H620v160ZM180-180h160v-160H180v160Zm440 0h160v-160H620v160Z\"/>\n",
       "  </svg>\n",
       "    </button>\n",
       "\n",
       "  <style>\n",
       "    .colab-df-container {\n",
       "      display:flex;\n",
       "      gap: 12px;\n",
       "    }\n",
       "\n",
       "    .colab-df-convert {\n",
       "      background-color: #E8F0FE;\n",
       "      border: none;\n",
       "      border-radius: 50%;\n",
       "      cursor: pointer;\n",
       "      display: none;\n",
       "      fill: #1967D2;\n",
       "      height: 32px;\n",
       "      padding: 0 0 0 0;\n",
       "      width: 32px;\n",
       "    }\n",
       "\n",
       "    .colab-df-convert:hover {\n",
       "      background-color: #E2EBFA;\n",
       "      box-shadow: 0px 1px 2px rgba(60, 64, 67, 0.3), 0px 1px 3px 1px rgba(60, 64, 67, 0.15);\n",
       "      fill: #174EA6;\n",
       "    }\n",
       "\n",
       "    .colab-df-buttons div {\n",
       "      margin-bottom: 4px;\n",
       "    }\n",
       "\n",
       "    [theme=dark] .colab-df-convert {\n",
       "      background-color: #3B4455;\n",
       "      fill: #D2E3FC;\n",
       "    }\n",
       "\n",
       "    [theme=dark] .colab-df-convert:hover {\n",
       "      background-color: #434B5C;\n",
       "      box-shadow: 0px 1px 3px 1px rgba(0, 0, 0, 0.15);\n",
       "      filter: drop-shadow(0px 1px 2px rgba(0, 0, 0, 0.3));\n",
       "      fill: #FFFFFF;\n",
       "    }\n",
       "  </style>\n",
       "\n",
       "    <script>\n",
       "      const buttonEl =\n",
       "        document.querySelector('#df-580fbf3a-27d4-4efd-b454-c148c817fc9c button.colab-df-convert');\n",
       "      buttonEl.style.display =\n",
       "        google.colab.kernel.accessAllowed ? 'block' : 'none';\n",
       "\n",
       "      async function convertToInteractive(key) {\n",
       "        const element = document.querySelector('#df-580fbf3a-27d4-4efd-b454-c148c817fc9c');\n",
       "        const dataTable =\n",
       "          await google.colab.kernel.invokeFunction('convertToInteractive',\n",
       "                                                    [key], {});\n",
       "        if (!dataTable) return;\n",
       "\n",
       "        const docLinkHtml = 'Like what you see? Visit the ' +\n",
       "          '<a target=\"_blank\" href=https://colab.research.google.com/notebooks/data_table.ipynb>data table notebook</a>'\n",
       "          + ' to learn more about interactive tables.';\n",
       "        element.innerHTML = '';\n",
       "        dataTable['output_type'] = 'display_data';\n",
       "        await google.colab.output.renderOutput(dataTable, element);\n",
       "        const docLink = document.createElement('div');\n",
       "        docLink.innerHTML = docLinkHtml;\n",
       "        element.appendChild(docLink);\n",
       "      }\n",
       "    </script>\n",
       "  </div>\n",
       "\n",
       "\n",
       "<div id=\"df-e3edd480-f7d8-4373-963f-c97bf8ccdec7\">\n",
       "  <button class=\"colab-df-quickchart\" onclick=\"quickchart('df-e3edd480-f7d8-4373-963f-c97bf8ccdec7')\"\n",
       "            title=\"Suggest charts.\"\n",
       "            style=\"display:none;\">\n",
       "\n",
       "<svg xmlns=\"http://www.w3.org/2000/svg\" height=\"24px\"viewBox=\"0 0 24 24\"\n",
       "     width=\"24px\">\n",
       "    <g>\n",
       "        <path d=\"M19 3H5c-1.1 0-2 .9-2 2v14c0 1.1.9 2 2 2h14c1.1 0 2-.9 2-2V5c0-1.1-.9-2-2-2zM9 17H7v-7h2v7zm4 0h-2V7h2v10zm4 0h-2v-4h2v4z\"/>\n",
       "    </g>\n",
       "</svg>\n",
       "  </button>\n",
       "\n",
       "<style>\n",
       "  .colab-df-quickchart {\n",
       "    background-color: #E8F0FE;\n",
       "    border: none;\n",
       "    border-radius: 50%;\n",
       "    cursor: pointer;\n",
       "    display: none;\n",
       "    fill: #1967D2;\n",
       "    height: 32px;\n",
       "    padding: 0 0 0 0;\n",
       "    width: 32px;\n",
       "  }\n",
       "\n",
       "  .colab-df-quickchart:hover {\n",
       "    background-color: #E2EBFA;\n",
       "    box-shadow: 0px 1px 2px rgba(60, 64, 67, 0.3), 0px 1px 3px 1px rgba(60, 64, 67, 0.15);\n",
       "    fill: #174EA6;\n",
       "  }\n",
       "\n",
       "  [theme=dark] .colab-df-quickchart {\n",
       "    background-color: #3B4455;\n",
       "    fill: #D2E3FC;\n",
       "  }\n",
       "\n",
       "  [theme=dark] .colab-df-quickchart:hover {\n",
       "    background-color: #434B5C;\n",
       "    box-shadow: 0px 1px 3px 1px rgba(0, 0, 0, 0.15);\n",
       "    filter: drop-shadow(0px 1px 2px rgba(0, 0, 0, 0.3));\n",
       "    fill: #FFFFFF;\n",
       "  }\n",
       "</style>\n",
       "\n",
       "  <script>\n",
       "    async function quickchart(key) {\n",
       "      const charts = await google.colab.kernel.invokeFunction(\n",
       "          'suggestCharts', [key], {});\n",
       "    }\n",
       "    (() => {\n",
       "      let quickchartButtonEl =\n",
       "        document.querySelector('#df-e3edd480-f7d8-4373-963f-c97bf8ccdec7 button');\n",
       "      quickchartButtonEl.style.display =\n",
       "        google.colab.kernel.accessAllowed ? 'block' : 'none';\n",
       "    })();\n",
       "  </script>\n",
       "</div>\n",
       "    </div>\n",
       "  </div>\n"
      ],
      "text/plain": [
       "            Passengers\n",
       "Month                 \n",
       "1949-01-01         112\n",
       "1949-02-01         118\n",
       "1949-03-01         132\n",
       "1949-04-01         129\n",
       "1949-05-01         121"
      ]
     },
     "execution_count": 61,
     "metadata": {},
     "output_type": "execute_result"
    }
   ],
   "source": [
    "data.head()"
   ]
  },
  {
   "cell_type": "code",
   "execution_count": null,
   "metadata": {
    "colab": {
     "base_uri": "https://localhost:8080/"
    },
    "executionInfo": {
     "elapsed": 4,
     "status": "ok",
     "timestamp": 1693463429043,
     "user": {
      "displayName": "Rama Chandra Kotturu",
      "userId": "02243285469857073193"
     },
     "user_tz": -330
    },
    "id": "U7ElEpWCSQNH",
    "outputId": "3e247d79-dd05-4d45-b2a8-fff9301ce49f"
   },
   "outputs": [
    {
     "data": {
      "text/plain": [
       "104"
      ]
     },
     "execution_count": 6,
     "metadata": {},
     "output_type": "execute_result"
    }
   ],
   "source": [
    "\n",
    "data['#Passengers'].min()"
   ]
  },
  {
   "cell_type": "code",
   "execution_count": null,
   "metadata": {
    "colab": {
     "base_uri": "https://localhost:8080/"
    },
    "executionInfo": {
     "elapsed": 620,
     "status": "ok",
     "timestamp": 1693463439118,
     "user": {
      "displayName": "Rama Chandra Kotturu",
      "userId": "02243285469857073193"
     },
     "user_tz": -330
    },
    "id": "j30sCuJRPvKn",
    "outputId": "66c098a1-fbd2-46ad-bac7-9143851e6201"
   },
   "outputs": [
    {
     "name": "stdout",
     "output_type": "stream",
     "text": [
      "<class 'pandas.core.frame.DataFrame'>\n",
      "RangeIndex: 144 entries, 0 to 143\n",
      "Data columns (total 2 columns):\n",
      " #   Column       Non-Null Count  Dtype \n",
      "---  ------       --------------  ----- \n",
      " 0   Month        144 non-null    object\n",
      " 1   #Passengers  144 non-null    int64 \n",
      "dtypes: int64(1), object(1)\n",
      "memory usage: 2.4+ KB\n"
     ]
    }
   ],
   "source": [
    "data.info()#info about datatype and null value"
   ]
  },
  {
   "cell_type": "code",
   "execution_count": null,
   "metadata": {
    "id": "pEuZd1zLwFGt"
   },
   "outputs": [],
   "source": [
    "# Month is actually given as string here. It must be in date-time format"
   ]
  },
  {
   "cell_type": "code",
   "execution_count": null,
   "metadata": {
    "id": "t1Drg0vhUPKi"
   },
   "outputs": [],
   "source": [
    "data['Dates']='Nan'"
   ]
  },
  {
   "cell_type": "code",
   "execution_count": null,
   "metadata": {
    "id": "MiCvEvomUU1D"
   },
   "outputs": [],
   "source": [
    "data['Dates']=pd.date_range(start='1949-01',end='1961-01',freq='M')"
   ]
  },
  {
   "cell_type": "code",
   "execution_count": null,
   "metadata": {
    "colab": {
     "base_uri": "https://localhost:8080/",
     "height": 206
    },
    "executionInfo": {
     "elapsed": 7,
     "status": "ok",
     "timestamp": 1693464060831,
     "user": {
      "displayName": "Rama Chandra Kotturu",
      "userId": "02243285469857073193"
     },
     "user_tz": -330
    },
    "id": "6f3p6es9UZF5",
    "outputId": "76c27567-b51e-4879-ee72-f607cb6327ee"
   },
   "outputs": [
    {
     "data": {
      "text/html": [
       "\n",
       "  <div id=\"df-3921397d-61d5-4323-a278-7b597ba39eb4\" class=\"colab-df-container\">\n",
       "    <div>\n",
       "<style scoped>\n",
       "    .dataframe tbody tr th:only-of-type {\n",
       "        vertical-align: middle;\n",
       "    }\n",
       "\n",
       "    .dataframe tbody tr th {\n",
       "        vertical-align: top;\n",
       "    }\n",
       "\n",
       "    .dataframe thead th {\n",
       "        text-align: right;\n",
       "    }\n",
       "</style>\n",
       "<table border=\"1\" class=\"dataframe\">\n",
       "  <thead>\n",
       "    <tr style=\"text-align: right;\">\n",
       "      <th></th>\n",
       "      <th>Month</th>\n",
       "      <th>#Passengers</th>\n",
       "      <th>Dates</th>\n",
       "    </tr>\n",
       "  </thead>\n",
       "  <tbody>\n",
       "    <tr>\n",
       "      <th>0</th>\n",
       "      <td>1949-01</td>\n",
       "      <td>112</td>\n",
       "      <td>1949-01-31</td>\n",
       "    </tr>\n",
       "    <tr>\n",
       "      <th>1</th>\n",
       "      <td>1949-02</td>\n",
       "      <td>118</td>\n",
       "      <td>1949-02-28</td>\n",
       "    </tr>\n",
       "    <tr>\n",
       "      <th>2</th>\n",
       "      <td>1949-03</td>\n",
       "      <td>132</td>\n",
       "      <td>1949-03-31</td>\n",
       "    </tr>\n",
       "    <tr>\n",
       "      <th>3</th>\n",
       "      <td>1949-04</td>\n",
       "      <td>129</td>\n",
       "      <td>1949-04-30</td>\n",
       "    </tr>\n",
       "    <tr>\n",
       "      <th>4</th>\n",
       "      <td>1949-05</td>\n",
       "      <td>121</td>\n",
       "      <td>1949-05-31</td>\n",
       "    </tr>\n",
       "  </tbody>\n",
       "</table>\n",
       "</div>\n",
       "    <div class=\"colab-df-buttons\">\n",
       "\n",
       "  <div class=\"colab-df-container\">\n",
       "    <button class=\"colab-df-convert\" onclick=\"convertToInteractive('df-3921397d-61d5-4323-a278-7b597ba39eb4')\"\n",
       "            title=\"Convert this dataframe to an interactive table.\"\n",
       "            style=\"display:none;\">\n",
       "\n",
       "  <svg xmlns=\"http://www.w3.org/2000/svg\" height=\"24px\" viewBox=\"0 -960 960 960\">\n",
       "    <path d=\"M120-120v-720h720v720H120Zm60-500h600v-160H180v160Zm220 220h160v-160H400v160Zm0 220h160v-160H400v160ZM180-400h160v-160H180v160Zm440 0h160v-160H620v160ZM180-180h160v-160H180v160Zm440 0h160v-160H620v160Z\"/>\n",
       "  </svg>\n",
       "    </button>\n",
       "\n",
       "  <style>\n",
       "    .colab-df-container {\n",
       "      display:flex;\n",
       "      gap: 12px;\n",
       "    }\n",
       "\n",
       "    .colab-df-convert {\n",
       "      background-color: #E8F0FE;\n",
       "      border: none;\n",
       "      border-radius: 50%;\n",
       "      cursor: pointer;\n",
       "      display: none;\n",
       "      fill: #1967D2;\n",
       "      height: 32px;\n",
       "      padding: 0 0 0 0;\n",
       "      width: 32px;\n",
       "    }\n",
       "\n",
       "    .colab-df-convert:hover {\n",
       "      background-color: #E2EBFA;\n",
       "      box-shadow: 0px 1px 2px rgba(60, 64, 67, 0.3), 0px 1px 3px 1px rgba(60, 64, 67, 0.15);\n",
       "      fill: #174EA6;\n",
       "    }\n",
       "\n",
       "    .colab-df-buttons div {\n",
       "      margin-bottom: 4px;\n",
       "    }\n",
       "\n",
       "    [theme=dark] .colab-df-convert {\n",
       "      background-color: #3B4455;\n",
       "      fill: #D2E3FC;\n",
       "    }\n",
       "\n",
       "    [theme=dark] .colab-df-convert:hover {\n",
       "      background-color: #434B5C;\n",
       "      box-shadow: 0px 1px 3px 1px rgba(0, 0, 0, 0.15);\n",
       "      filter: drop-shadow(0px 1px 2px rgba(0, 0, 0, 0.3));\n",
       "      fill: #FFFFFF;\n",
       "    }\n",
       "  </style>\n",
       "\n",
       "    <script>\n",
       "      const buttonEl =\n",
       "        document.querySelector('#df-3921397d-61d5-4323-a278-7b597ba39eb4 button.colab-df-convert');\n",
       "      buttonEl.style.display =\n",
       "        google.colab.kernel.accessAllowed ? 'block' : 'none';\n",
       "\n",
       "      async function convertToInteractive(key) {\n",
       "        const element = document.querySelector('#df-3921397d-61d5-4323-a278-7b597ba39eb4');\n",
       "        const dataTable =\n",
       "          await google.colab.kernel.invokeFunction('convertToInteractive',\n",
       "                                                    [key], {});\n",
       "        if (!dataTable) return;\n",
       "\n",
       "        const docLinkHtml = 'Like what you see? Visit the ' +\n",
       "          '<a target=\"_blank\" href=https://colab.research.google.com/notebooks/data_table.ipynb>data table notebook</a>'\n",
       "          + ' to learn more about interactive tables.';\n",
       "        element.innerHTML = '';\n",
       "        dataTable['output_type'] = 'display_data';\n",
       "        await google.colab.output.renderOutput(dataTable, element);\n",
       "        const docLink = document.createElement('div');\n",
       "        docLink.innerHTML = docLinkHtml;\n",
       "        element.appendChild(docLink);\n",
       "      }\n",
       "    </script>\n",
       "  </div>\n",
       "\n",
       "\n",
       "<div id=\"df-b20aba7b-ae02-4d65-966a-0051efc37718\">\n",
       "  <button class=\"colab-df-quickchart\" onclick=\"quickchart('df-b20aba7b-ae02-4d65-966a-0051efc37718')\"\n",
       "            title=\"Suggest charts.\"\n",
       "            style=\"display:none;\">\n",
       "\n",
       "<svg xmlns=\"http://www.w3.org/2000/svg\" height=\"24px\"viewBox=\"0 0 24 24\"\n",
       "     width=\"24px\">\n",
       "    <g>\n",
       "        <path d=\"M19 3H5c-1.1 0-2 .9-2 2v14c0 1.1.9 2 2 2h14c1.1 0 2-.9 2-2V5c0-1.1-.9-2-2-2zM9 17H7v-7h2v7zm4 0h-2V7h2v10zm4 0h-2v-4h2v4z\"/>\n",
       "    </g>\n",
       "</svg>\n",
       "  </button>\n",
       "\n",
       "<style>\n",
       "  .colab-df-quickchart {\n",
       "    background-color: #E8F0FE;\n",
       "    border: none;\n",
       "    border-radius: 50%;\n",
       "    cursor: pointer;\n",
       "    display: none;\n",
       "    fill: #1967D2;\n",
       "    height: 32px;\n",
       "    padding: 0 0 0 0;\n",
       "    width: 32px;\n",
       "  }\n",
       "\n",
       "  .colab-df-quickchart:hover {\n",
       "    background-color: #E2EBFA;\n",
       "    box-shadow: 0px 1px 2px rgba(60, 64, 67, 0.3), 0px 1px 3px 1px rgba(60, 64, 67, 0.15);\n",
       "    fill: #174EA6;\n",
       "  }\n",
       "\n",
       "  [theme=dark] .colab-df-quickchart {\n",
       "    background-color: #3B4455;\n",
       "    fill: #D2E3FC;\n",
       "  }\n",
       "\n",
       "  [theme=dark] .colab-df-quickchart:hover {\n",
       "    background-color: #434B5C;\n",
       "    box-shadow: 0px 1px 3px 1px rgba(0, 0, 0, 0.15);\n",
       "    filter: drop-shadow(0px 1px 2px rgba(0, 0, 0, 0.3));\n",
       "    fill: #FFFFFF;\n",
       "  }\n",
       "</style>\n",
       "\n",
       "  <script>\n",
       "    async function quickchart(key) {\n",
       "      const charts = await google.colab.kernel.invokeFunction(\n",
       "          'suggestCharts', [key], {});\n",
       "    }\n",
       "    (() => {\n",
       "      let quickchartButtonEl =\n",
       "        document.querySelector('#df-b20aba7b-ae02-4d65-966a-0051efc37718 button');\n",
       "      quickchartButtonEl.style.display =\n",
       "        google.colab.kernel.accessAllowed ? 'block' : 'none';\n",
       "    })();\n",
       "  </script>\n",
       "</div>\n",
       "    </div>\n",
       "  </div>\n"
      ],
      "text/plain": [
       "     Month  #Passengers      Dates\n",
       "0  1949-01          112 1949-01-31\n",
       "1  1949-02          118 1949-02-28\n",
       "2  1949-03          132 1949-03-31\n",
       "3  1949-04          129 1949-04-30\n",
       "4  1949-05          121 1949-05-31"
      ]
     },
     "execution_count": 22,
     "metadata": {},
     "output_type": "execute_result"
    }
   ],
   "source": [
    "data.head()"
   ]
  },
  {
   "cell_type": "code",
   "execution_count": null,
   "metadata": {
    "colab": {
     "base_uri": "https://localhost:8080/"
    },
    "executionInfo": {
     "elapsed": 11,
     "status": "ok",
     "timestamp": 1693463848213,
     "user": {
      "displayName": "Rama Chandra Kotturu",
      "userId": "02243285469857073193"
     },
     "user_tz": -330
    },
    "id": "4_SbXlHtTliT",
    "outputId": "da080b4d-4e9b-4873-abdd-7d35fb5709dd"
   },
   "outputs": [
    {
     "data": {
      "text/plain": [
       "DatetimeIndex(['1949-01-31', '1949-02-28', '1949-03-31', '1949-04-30',\n",
       "               '1949-05-31', '1949-06-30', '1949-07-31', '1949-08-31',\n",
       "               '1949-09-30', '1949-10-31',\n",
       "               ...\n",
       "               '1960-02-29', '1960-03-31', '1960-04-30', '1960-05-31',\n",
       "               '1960-06-30', '1960-07-31', '1960-08-31', '1960-09-30',\n",
       "               '1960-10-31', '1960-11-30'],\n",
       "              dtype='datetime64[ns]', length=143, freq='M')"
      ]
     },
     "execution_count": 10,
     "metadata": {},
     "output_type": "execute_result"
    }
   ],
   "source": [
    "pd.date_range(start='1949-01',end='1960-12',freq='M')"
   ]
  },
  {
   "cell_type": "code",
   "execution_count": null,
   "metadata": {
    "id": "s1xsw6ahPvKs"
   },
   "outputs": [],
   "source": [
    "## parse_dates: parsing the date (Converts the string representation of a date to Date object)\n",
    "# index_col: using date column as index\n",
    "\n",
    "data=pd.read_csv('AirPassengers.csv',parse_dates=[0],index_col='Month')"
   ]
  },
  {
   "cell_type": "code",
   "execution_count": null,
   "metadata": {
    "id": "WpmJKJWUU8pQ"
   },
   "outputs": [],
   "source": []
  },
  {
   "cell_type": "markdown",
   "metadata": {
    "id": "Jai9mIByPvK0"
   },
   "source": [
    "# Basic checks"
   ]
  },
  {
   "cell_type": "code",
   "execution_count": null,
   "metadata": {
    "colab": {
     "base_uri": "https://localhost:8080/",
     "height": 238
    },
    "collapsed": true,
    "executionInfo": {
     "elapsed": 13,
     "status": "ok",
     "timestamp": 1693464080456,
     "user": {
      "displayName": "Rama Chandra Kotturu",
      "userId": "02243285469857073193"
     },
     "user_tz": -330
    },
    "id": "XHukVkFPPvK5",
    "jupyter": {
     "outputs_hidden": true
    },
    "outputId": "1c1f2599-aacf-41de-da5e-a45faa8de052"
   },
   "outputs": [
    {
     "data": {
      "text/html": [
       "\n",
       "  <div id=\"df-42b71e4c-e9f5-400a-88d8-b4475e7d565f\" class=\"colab-df-container\">\n",
       "    <div>\n",
       "<style scoped>\n",
       "    .dataframe tbody tr th:only-of-type {\n",
       "        vertical-align: middle;\n",
       "    }\n",
       "\n",
       "    .dataframe tbody tr th {\n",
       "        vertical-align: top;\n",
       "    }\n",
       "\n",
       "    .dataframe thead th {\n",
       "        text-align: right;\n",
       "    }\n",
       "</style>\n",
       "<table border=\"1\" class=\"dataframe\">\n",
       "  <thead>\n",
       "    <tr style=\"text-align: right;\">\n",
       "      <th></th>\n",
       "      <th>#Passengers</th>\n",
       "    </tr>\n",
       "    <tr>\n",
       "      <th>Month</th>\n",
       "      <th></th>\n",
       "    </tr>\n",
       "  </thead>\n",
       "  <tbody>\n",
       "    <tr>\n",
       "      <th>1949-01-01</th>\n",
       "      <td>112</td>\n",
       "    </tr>\n",
       "    <tr>\n",
       "      <th>1949-02-01</th>\n",
       "      <td>118</td>\n",
       "    </tr>\n",
       "    <tr>\n",
       "      <th>1949-03-01</th>\n",
       "      <td>132</td>\n",
       "    </tr>\n",
       "    <tr>\n",
       "      <th>1949-04-01</th>\n",
       "      <td>129</td>\n",
       "    </tr>\n",
       "    <tr>\n",
       "      <th>1949-05-01</th>\n",
       "      <td>121</td>\n",
       "    </tr>\n",
       "  </tbody>\n",
       "</table>\n",
       "</div>\n",
       "    <div class=\"colab-df-buttons\">\n",
       "\n",
       "  <div class=\"colab-df-container\">\n",
       "    <button class=\"colab-df-convert\" onclick=\"convertToInteractive('df-42b71e4c-e9f5-400a-88d8-b4475e7d565f')\"\n",
       "            title=\"Convert this dataframe to an interactive table.\"\n",
       "            style=\"display:none;\">\n",
       "\n",
       "  <svg xmlns=\"http://www.w3.org/2000/svg\" height=\"24px\" viewBox=\"0 -960 960 960\">\n",
       "    <path d=\"M120-120v-720h720v720H120Zm60-500h600v-160H180v160Zm220 220h160v-160H400v160Zm0 220h160v-160H400v160ZM180-400h160v-160H180v160Zm440 0h160v-160H620v160ZM180-180h160v-160H180v160Zm440 0h160v-160H620v160Z\"/>\n",
       "  </svg>\n",
       "    </button>\n",
       "\n",
       "  <style>\n",
       "    .colab-df-container {\n",
       "      display:flex;\n",
       "      gap: 12px;\n",
       "    }\n",
       "\n",
       "    .colab-df-convert {\n",
       "      background-color: #E8F0FE;\n",
       "      border: none;\n",
       "      border-radius: 50%;\n",
       "      cursor: pointer;\n",
       "      display: none;\n",
       "      fill: #1967D2;\n",
       "      height: 32px;\n",
       "      padding: 0 0 0 0;\n",
       "      width: 32px;\n",
       "    }\n",
       "\n",
       "    .colab-df-convert:hover {\n",
       "      background-color: #E2EBFA;\n",
       "      box-shadow: 0px 1px 2px rgba(60, 64, 67, 0.3), 0px 1px 3px 1px rgba(60, 64, 67, 0.15);\n",
       "      fill: #174EA6;\n",
       "    }\n",
       "\n",
       "    .colab-df-buttons div {\n",
       "      margin-bottom: 4px;\n",
       "    }\n",
       "\n",
       "    [theme=dark] .colab-df-convert {\n",
       "      background-color: #3B4455;\n",
       "      fill: #D2E3FC;\n",
       "    }\n",
       "\n",
       "    [theme=dark] .colab-df-convert:hover {\n",
       "      background-color: #434B5C;\n",
       "      box-shadow: 0px 1px 3px 1px rgba(0, 0, 0, 0.15);\n",
       "      filter: drop-shadow(0px 1px 2px rgba(0, 0, 0, 0.3));\n",
       "      fill: #FFFFFF;\n",
       "    }\n",
       "  </style>\n",
       "\n",
       "    <script>\n",
       "      const buttonEl =\n",
       "        document.querySelector('#df-42b71e4c-e9f5-400a-88d8-b4475e7d565f button.colab-df-convert');\n",
       "      buttonEl.style.display =\n",
       "        google.colab.kernel.accessAllowed ? 'block' : 'none';\n",
       "\n",
       "      async function convertToInteractive(key) {\n",
       "        const element = document.querySelector('#df-42b71e4c-e9f5-400a-88d8-b4475e7d565f');\n",
       "        const dataTable =\n",
       "          await google.colab.kernel.invokeFunction('convertToInteractive',\n",
       "                                                    [key], {});\n",
       "        if (!dataTable) return;\n",
       "\n",
       "        const docLinkHtml = 'Like what you see? Visit the ' +\n",
       "          '<a target=\"_blank\" href=https://colab.research.google.com/notebooks/data_table.ipynb>data table notebook</a>'\n",
       "          + ' to learn more about interactive tables.';\n",
       "        element.innerHTML = '';\n",
       "        dataTable['output_type'] = 'display_data';\n",
       "        await google.colab.output.renderOutput(dataTable, element);\n",
       "        const docLink = document.createElement('div');\n",
       "        docLink.innerHTML = docLinkHtml;\n",
       "        element.appendChild(docLink);\n",
       "      }\n",
       "    </script>\n",
       "  </div>\n",
       "\n",
       "\n",
       "<div id=\"df-7f46ef29-0289-4440-9ca7-fbf02aa9cf89\">\n",
       "  <button class=\"colab-df-quickchart\" onclick=\"quickchart('df-7f46ef29-0289-4440-9ca7-fbf02aa9cf89')\"\n",
       "            title=\"Suggest charts.\"\n",
       "            style=\"display:none;\">\n",
       "\n",
       "<svg xmlns=\"http://www.w3.org/2000/svg\" height=\"24px\"viewBox=\"0 0 24 24\"\n",
       "     width=\"24px\">\n",
       "    <g>\n",
       "        <path d=\"M19 3H5c-1.1 0-2 .9-2 2v14c0 1.1.9 2 2 2h14c1.1 0 2-.9 2-2V5c0-1.1-.9-2-2-2zM9 17H7v-7h2v7zm4 0h-2V7h2v10zm4 0h-2v-4h2v4z\"/>\n",
       "    </g>\n",
       "</svg>\n",
       "  </button>\n",
       "\n",
       "<style>\n",
       "  .colab-df-quickchart {\n",
       "    background-color: #E8F0FE;\n",
       "    border: none;\n",
       "    border-radius: 50%;\n",
       "    cursor: pointer;\n",
       "    display: none;\n",
       "    fill: #1967D2;\n",
       "    height: 32px;\n",
       "    padding: 0 0 0 0;\n",
       "    width: 32px;\n",
       "  }\n",
       "\n",
       "  .colab-df-quickchart:hover {\n",
       "    background-color: #E2EBFA;\n",
       "    box-shadow: 0px 1px 2px rgba(60, 64, 67, 0.3), 0px 1px 3px 1px rgba(60, 64, 67, 0.15);\n",
       "    fill: #174EA6;\n",
       "  }\n",
       "\n",
       "  [theme=dark] .colab-df-quickchart {\n",
       "    background-color: #3B4455;\n",
       "    fill: #D2E3FC;\n",
       "  }\n",
       "\n",
       "  [theme=dark] .colab-df-quickchart:hover {\n",
       "    background-color: #434B5C;\n",
       "    box-shadow: 0px 1px 3px 1px rgba(0, 0, 0, 0.15);\n",
       "    filter: drop-shadow(0px 1px 2px rgba(0, 0, 0, 0.3));\n",
       "    fill: #FFFFFF;\n",
       "  }\n",
       "</style>\n",
       "\n",
       "  <script>\n",
       "    async function quickchart(key) {\n",
       "      const charts = await google.colab.kernel.invokeFunction(\n",
       "          'suggestCharts', [key], {});\n",
       "    }\n",
       "    (() => {\n",
       "      let quickchartButtonEl =\n",
       "        document.querySelector('#df-7f46ef29-0289-4440-9ca7-fbf02aa9cf89 button');\n",
       "      quickchartButtonEl.style.display =\n",
       "        google.colab.kernel.accessAllowed ? 'block' : 'none';\n",
       "    })();\n",
       "  </script>\n",
       "</div>\n",
       "    </div>\n",
       "  </div>\n"
      ],
      "text/plain": [
       "            #Passengers\n",
       "Month                  \n",
       "1949-01-01          112\n",
       "1949-02-01          118\n",
       "1949-03-01          132\n",
       "1949-04-01          129\n",
       "1949-05-01          121"
      ]
     },
     "execution_count": 24,
     "metadata": {},
     "output_type": "execute_result"
    }
   ],
   "source": [
    "data.head()#first five rows\n"
   ]
  },
  {
   "cell_type": "code",
   "execution_count": null,
   "metadata": {
    "id": "Jt5nqjUWPvLB"
   },
   "outputs": [],
   "source": [
    "data.rename(columns = {'#Passengers': 'Passengers'}, inplace = True)"
   ]
  },
  {
   "cell_type": "code",
   "execution_count": null,
   "metadata": {
    "id": "NIRkAd6YwFGv"
   },
   "outputs": [],
   "source": [
    "data['Passengers']"
   ]
  },
  {
   "cell_type": "code",
   "execution_count": null,
   "metadata": {
    "colab": {
     "base_uri": "https://localhost:8080/",
     "height": 300
    },
    "collapsed": true,
    "executionInfo": {
     "elapsed": 19,
     "status": "ok",
     "timestamp": 1693464164434,
     "user": {
      "displayName": "Rama Chandra Kotturu",
      "userId": "02243285469857073193"
     },
     "user_tz": -330
    },
    "id": "TBS9mnCxPvLF",
    "jupyter": {
     "outputs_hidden": true
    },
    "outputId": "a92c8681-eede-4659-c593-6f622ee77b2c"
   },
   "outputs": [
    {
     "data": {
      "text/html": [
       "\n",
       "  <div id=\"df-3059df71-a74f-4780-ad22-66b68d7be2c7\" class=\"colab-df-container\">\n",
       "    <div>\n",
       "<style scoped>\n",
       "    .dataframe tbody tr th:only-of-type {\n",
       "        vertical-align: middle;\n",
       "    }\n",
       "\n",
       "    .dataframe tbody tr th {\n",
       "        vertical-align: top;\n",
       "    }\n",
       "\n",
       "    .dataframe thead th {\n",
       "        text-align: right;\n",
       "    }\n",
       "</style>\n",
       "<table border=\"1\" class=\"dataframe\">\n",
       "  <thead>\n",
       "    <tr style=\"text-align: right;\">\n",
       "      <th></th>\n",
       "      <th>Passengers</th>\n",
       "    </tr>\n",
       "  </thead>\n",
       "  <tbody>\n",
       "    <tr>\n",
       "      <th>count</th>\n",
       "      <td>144.000000</td>\n",
       "    </tr>\n",
       "    <tr>\n",
       "      <th>mean</th>\n",
       "      <td>280.298611</td>\n",
       "    </tr>\n",
       "    <tr>\n",
       "      <th>std</th>\n",
       "      <td>119.966317</td>\n",
       "    </tr>\n",
       "    <tr>\n",
       "      <th>min</th>\n",
       "      <td>104.000000</td>\n",
       "    </tr>\n",
       "    <tr>\n",
       "      <th>25%</th>\n",
       "      <td>180.000000</td>\n",
       "    </tr>\n",
       "    <tr>\n",
       "      <th>50%</th>\n",
       "      <td>265.500000</td>\n",
       "    </tr>\n",
       "    <tr>\n",
       "      <th>75%</th>\n",
       "      <td>360.500000</td>\n",
       "    </tr>\n",
       "    <tr>\n",
       "      <th>max</th>\n",
       "      <td>622.000000</td>\n",
       "    </tr>\n",
       "  </tbody>\n",
       "</table>\n",
       "</div>\n",
       "    <div class=\"colab-df-buttons\">\n",
       "\n",
       "  <div class=\"colab-df-container\">\n",
       "    <button class=\"colab-df-convert\" onclick=\"convertToInteractive('df-3059df71-a74f-4780-ad22-66b68d7be2c7')\"\n",
       "            title=\"Convert this dataframe to an interactive table.\"\n",
       "            style=\"display:none;\">\n",
       "\n",
       "  <svg xmlns=\"http://www.w3.org/2000/svg\" height=\"24px\" viewBox=\"0 -960 960 960\">\n",
       "    <path d=\"M120-120v-720h720v720H120Zm60-500h600v-160H180v160Zm220 220h160v-160H400v160Zm0 220h160v-160H400v160ZM180-400h160v-160H180v160Zm440 0h160v-160H620v160ZM180-180h160v-160H180v160Zm440 0h160v-160H620v160Z\"/>\n",
       "  </svg>\n",
       "    </button>\n",
       "\n",
       "  <style>\n",
       "    .colab-df-container {\n",
       "      display:flex;\n",
       "      gap: 12px;\n",
       "    }\n",
       "\n",
       "    .colab-df-convert {\n",
       "      background-color: #E8F0FE;\n",
       "      border: none;\n",
       "      border-radius: 50%;\n",
       "      cursor: pointer;\n",
       "      display: none;\n",
       "      fill: #1967D2;\n",
       "      height: 32px;\n",
       "      padding: 0 0 0 0;\n",
       "      width: 32px;\n",
       "    }\n",
       "\n",
       "    .colab-df-convert:hover {\n",
       "      background-color: #E2EBFA;\n",
       "      box-shadow: 0px 1px 2px rgba(60, 64, 67, 0.3), 0px 1px 3px 1px rgba(60, 64, 67, 0.15);\n",
       "      fill: #174EA6;\n",
       "    }\n",
       "\n",
       "    .colab-df-buttons div {\n",
       "      margin-bottom: 4px;\n",
       "    }\n",
       "\n",
       "    [theme=dark] .colab-df-convert {\n",
       "      background-color: #3B4455;\n",
       "      fill: #D2E3FC;\n",
       "    }\n",
       "\n",
       "    [theme=dark] .colab-df-convert:hover {\n",
       "      background-color: #434B5C;\n",
       "      box-shadow: 0px 1px 3px 1px rgba(0, 0, 0, 0.15);\n",
       "      filter: drop-shadow(0px 1px 2px rgba(0, 0, 0, 0.3));\n",
       "      fill: #FFFFFF;\n",
       "    }\n",
       "  </style>\n",
       "\n",
       "    <script>\n",
       "      const buttonEl =\n",
       "        document.querySelector('#df-3059df71-a74f-4780-ad22-66b68d7be2c7 button.colab-df-convert');\n",
       "      buttonEl.style.display =\n",
       "        google.colab.kernel.accessAllowed ? 'block' : 'none';\n",
       "\n",
       "      async function convertToInteractive(key) {\n",
       "        const element = document.querySelector('#df-3059df71-a74f-4780-ad22-66b68d7be2c7');\n",
       "        const dataTable =\n",
       "          await google.colab.kernel.invokeFunction('convertToInteractive',\n",
       "                                                    [key], {});\n",
       "        if (!dataTable) return;\n",
       "\n",
       "        const docLinkHtml = 'Like what you see? Visit the ' +\n",
       "          '<a target=\"_blank\" href=https://colab.research.google.com/notebooks/data_table.ipynb>data table notebook</a>'\n",
       "          + ' to learn more about interactive tables.';\n",
       "        element.innerHTML = '';\n",
       "        dataTable['output_type'] = 'display_data';\n",
       "        await google.colab.output.renderOutput(dataTable, element);\n",
       "        const docLink = document.createElement('div');\n",
       "        docLink.innerHTML = docLinkHtml;\n",
       "        element.appendChild(docLink);\n",
       "      }\n",
       "    </script>\n",
       "  </div>\n",
       "\n",
       "\n",
       "<div id=\"df-473041c2-178a-4d31-bcf5-a7bb2250e9fc\">\n",
       "  <button class=\"colab-df-quickchart\" onclick=\"quickchart('df-473041c2-178a-4d31-bcf5-a7bb2250e9fc')\"\n",
       "            title=\"Suggest charts.\"\n",
       "            style=\"display:none;\">\n",
       "\n",
       "<svg xmlns=\"http://www.w3.org/2000/svg\" height=\"24px\"viewBox=\"0 0 24 24\"\n",
       "     width=\"24px\">\n",
       "    <g>\n",
       "        <path d=\"M19 3H5c-1.1 0-2 .9-2 2v14c0 1.1.9 2 2 2h14c1.1 0 2-.9 2-2V5c0-1.1-.9-2-2-2zM9 17H7v-7h2v7zm4 0h-2V7h2v10zm4 0h-2v-4h2v4z\"/>\n",
       "    </g>\n",
       "</svg>\n",
       "  </button>\n",
       "\n",
       "<style>\n",
       "  .colab-df-quickchart {\n",
       "    background-color: #E8F0FE;\n",
       "    border: none;\n",
       "    border-radius: 50%;\n",
       "    cursor: pointer;\n",
       "    display: none;\n",
       "    fill: #1967D2;\n",
       "    height: 32px;\n",
       "    padding: 0 0 0 0;\n",
       "    width: 32px;\n",
       "  }\n",
       "\n",
       "  .colab-df-quickchart:hover {\n",
       "    background-color: #E2EBFA;\n",
       "    box-shadow: 0px 1px 2px rgba(60, 64, 67, 0.3), 0px 1px 3px 1px rgba(60, 64, 67, 0.15);\n",
       "    fill: #174EA6;\n",
       "  }\n",
       "\n",
       "  [theme=dark] .colab-df-quickchart {\n",
       "    background-color: #3B4455;\n",
       "    fill: #D2E3FC;\n",
       "  }\n",
       "\n",
       "  [theme=dark] .colab-df-quickchart:hover {\n",
       "    background-color: #434B5C;\n",
       "    box-shadow: 0px 1px 3px 1px rgba(0, 0, 0, 0.15);\n",
       "    filter: drop-shadow(0px 1px 2px rgba(0, 0, 0, 0.3));\n",
       "    fill: #FFFFFF;\n",
       "  }\n",
       "</style>\n",
       "\n",
       "  <script>\n",
       "    async function quickchart(key) {\n",
       "      const charts = await google.colab.kernel.invokeFunction(\n",
       "          'suggestCharts', [key], {});\n",
       "    }\n",
       "    (() => {\n",
       "      let quickchartButtonEl =\n",
       "        document.querySelector('#df-473041c2-178a-4d31-bcf5-a7bb2250e9fc button');\n",
       "      quickchartButtonEl.style.display =\n",
       "        google.colab.kernel.accessAllowed ? 'block' : 'none';\n",
       "    })();\n",
       "  </script>\n",
       "</div>\n",
       "    </div>\n",
       "  </div>\n"
      ],
      "text/plain": [
       "       Passengers\n",
       "count  144.000000\n",
       "mean   280.298611\n",
       "std    119.966317\n",
       "min    104.000000\n",
       "25%    180.000000\n",
       "50%    265.500000\n",
       "75%    360.500000\n",
       "max    622.000000"
      ]
     },
     "execution_count": 26,
     "metadata": {},
     "output_type": "execute_result"
    }
   ],
   "source": [
    "data.describe()##used to view some basic statistical details like percentile, mean, std etc."
   ]
  },
  {
   "cell_type": "markdown",
   "metadata": {
    "id": "5n41q_JFPvLH"
   },
   "source": [
    "# EDA"
   ]
  },
  {
   "cell_type": "code",
   "execution_count": null,
   "metadata": {
    "colab": {
     "base_uri": "https://localhost:8080/",
     "height": 581
    },
    "collapsed": true,
    "executionInfo": {
     "elapsed": 1500,
     "status": "ok",
     "timestamp": 1693465182741,
     "user": {
      "displayName": "Rama Chandra Kotturu",
      "userId": "02243285469857073193"
     },
     "user_tz": -330
    },
    "id": "1cKfSV7yPvLJ",
    "jupyter": {
     "outputs_hidden": true
    },
    "outputId": "17e7f216-5f95-45b4-aa5e-475a488bb9dd"
   },
   "outputs": [
    {
     "data": {
      "image/png": "[encoded data removed]",
      "text/plain": [
       "<Figure size 2500x1500 with 1 Axes>"
      ]
     },
     "metadata": {},
     "output_type": "display_data"
    }
   ],
   "source": [
    "import matplotlib.pyplot as plt\n",
    "plt.figure(figsize=(25,15),facecolor='white')#canvas  size\n",
    "plt.plot(data)#line plot\n",
    "plt.tight_layout()\n",
    "## from plot we can see the series given is not stationary"
   ]
  },
  {
   "cell_type": "markdown",
   "metadata": {
    "id": "Z21N8nnFPvLM"
   },
   "source": [
    "## Stationarity"
   ]
  },
  {
   "cell_type": "markdown",
   "metadata": {
    "id": "XWPlYwNnPvLN"
   },
   "source": [
    "* Stationarity means that the statistical properties of a time series (or rather the process generating it) do not change over time.\n",
    "* Stationarity is important because many useful analytical tools and statistical tests and models rely on it."
   ]
  },
  {
   "cell_type": "markdown",
   "metadata": {
    "id": "jFpHTq9tPvLO"
   },
   "source": [
    "* Constant mean\n",
    "* Constant variance\n",
    "* Constant covariance between periods of identical distance"
   ]
  },
  {
   "cell_type": "markdown",
   "metadata": {
    "id": "kaKG7T53PvLQ"
   },
   "source": [
    "* All it states is that the covariance between time periods of identical lengths (let’s say 10 days/hours/minutes) should be identical to the covariance of some other period of the same length:\n",
    "\n",
    "![image-2.png](attachment:image-2.png)\n",
    "\n"
   ]
  },
  {
   "cell_type": "markdown",
   "metadata": {
    "id": "i6nUJAojPvLR"
   },
   "source": [
    "**Why do we need Stationarity?**\n",
    "- Stationary processes are easier to analyze\n",
    "- Stationarity is assumed by most of the algorithms\n",
    "- It is essential to remove any trend or seasonality before modeling the time series data because if the statistical properties do not change over time, it is easier to model the data accurately. One of the popular ways of making the series stationary is differencing."
   ]
  },
  {
   "cell_type": "markdown",
   "metadata": {
    "id": "7zudgz6HPvLY"
   },
   "source": [
    "**How to check if given series is stationary or not:**\n",
    "- One way is to check autocorrelation.\n",
    "- Autocorrelation is the similarity between observations as a function of the time lag between them."
   ]
  },
  {
   "cell_type": "markdown",
   "metadata": {
    "id": "7tm6yxI3PvLa"
   },
   "source": [
    "* When plotting the value of the ACF for increasing lags (a plot called a correlogram), the values tend to degrade to zero quickly for stationary time series, while for non-stationary data the degradation will happen more slowly."
   ]
  },
  {
   "cell_type": "code",
   "execution_count": null,
   "metadata": {
    "colab": {
     "base_uri": "https://localhost:8080/",
     "height": 887
    },
    "executionInfo": {
     "elapsed": 1525,
     "status": "ok",
     "timestamp": 1693464424700,
     "user": {
      "displayName": "Rama Chandra Kotturu",
      "userId": "02243285469857073193"
     },
     "user_tz": -330
    },
    "id": "yqNUV5uZPvLe",
    "outputId": "4c3d11d3-f5b8-41f6-f925-5c3e18ce907b"
   },
   "outputs": [
    {
     "data": {
      "image/png": "[encoded data removed]",
      "text/plain": [
       "<Figure size 640x480 with 1 Axes>"
      ]
     },
     "execution_count": 28,
     "metadata": {},
     "output_type": "execute_result"
    },
    {
     "data": {
      "image/png": "[encoded data removed]",
      "text/plain": [
       "<Figure size 640x480 with 1 Axes>"
      ]
     },
     "metadata": {},
     "output_type": "display_data"
    }
   ],
   "source": [
    "## Plotting the autocorrelation function\n",
    "from statsmodels.graphics.tsaplots import plot_acf\n",
    "plot_acf(data)\n"
   ]
  },
  {
   "cell_type": "raw",
   "metadata": {
    "id": "8LVkB1ELPvLb"
   },
   "source": [
    "From the autocorrelation plot, it is clear that given series is not stationary."
   ]
  },
  {
   "cell_type": "raw",
   "metadata": {
    "id": "6292aaLKwFGy"
   },
   "source": [
    "We can perform the ADfuller test, a test based on hypothesis, where if the p-value is less than 0.05, then we can consider the time series is stationary, and if the P-value is greater than 0.05, then the time series is non-stationary."
   ]
  },
  {
   "cell_type": "code",
   "execution_count": null,
   "metadata": {
    "id": "SR7CB6aDwFGy"
   },
   "outputs": [],
   "source": [
    "# ADfuller Test to check stationarity\n",
    "\n",
    "from statsmodels.tsa.stattools import adfuller\n",
    "dftest = adfuller(data.Passengers, autolag = 'AIC')\n",
    "print(\"1. ADF : \",dftest[0])\n",
    "print(\"2. P-Value : \", dftest[1])\n",
    "print(\"3. Num Of Lags : \", dftest[2])\n",
    "print(\"4. Num Of Observations Used For ADF Regression and Critical Values Calculation :\", dftest[3])\n",
    "print(\"5. Critical Values :\")\n",
    "for key, val in dftest[4].items():\n",
    "    print(\"\\t\",key, \": \", val)"
   ]
  },
  {
   "cell_type": "raw",
   "metadata": {
    "id": "ELX8WEgcwFGy"
   },
   "source": [
    "P-value is higher for our dataset, and we can say that the evidence of rejecting the null hypothesis is low; hence the time series is non-stationary."
   ]
  },
  {
   "cell_type": "code",
   "execution_count": null,
   "metadata": {
    "id": "zjoWZte_PvLi"
   },
   "outputs": [],
   "source": [
    "## making it stationary by taking difference of 1\n",
    "data1=data.diff(periods=1) #This means calculating the change in your row(s)/column(s) over a set number of periods. Or simply,\n",
    "#pandas diff will subtract 1 cell value from another cell value within the same index."
   ]
  },
  {
   "cell_type": "code",
   "execution_count": null,
   "metadata": {
    "collapsed": true,
    "id": "BN2HiWjDPvLk",
    "jupyter": {
     "outputs_hidden": true
    }
   },
   "outputs": [],
   "source": [
    "data1 # Series integrated to the order of 1"
   ]
  },
  {
   "cell_type": "code",
   "execution_count": null,
   "metadata": {
    "id": "VeJx92rCPvLl"
   },
   "outputs": [],
   "source": [
    "data1=data1.iloc[1:] #null value discarded\n",
    "data1"
   ]
  },
  {
   "cell_type": "code",
   "execution_count": null,
   "metadata": {
    "id": "5XlNQ3DBPvLo"
   },
   "outputs": [],
   "source": [
    "plot_acf(data1); # autocorrelation plot"
   ]
  },
  {
   "cell_type": "code",
   "execution_count": null,
   "metadata": {
    "id": "4mR4e0xdRlJ7"
   },
   "outputs": [],
   "source": [
    "data2=data1.diff(periods=1) # differencing applied to data1"
   ]
  },
  {
   "cell_type": "code",
   "execution_count": null,
   "metadata": {
    "colab": {
     "base_uri": "https://localhost:8080/",
     "height": 238
    },
    "executionInfo": {
     "elapsed": 17,
     "status": "ok",
     "timestamp": 1693464633341,
     "user": {
      "displayName": "Rama Chandra Kotturu",
      "userId": "02243285469857073193"
     },
     "user_tz": -330
    },
    "id": "DgL128K6W4HW",
    "outputId": "9a766261-9129-45b8-d4f5-615dd3fc4512"
   },
   "outputs": [
    {
     "data": {
      "text/html": [
       "\n",
       "  <div id=\"df-2d604575-2a56-4930-ba73-ef86e38211d1\" class=\"colab-df-container\">\n",
       "    <div>\n",
       "<style scoped>\n",
       "    .dataframe tbody tr th:only-of-type {\n",
       "        vertical-align: middle;\n",
       "    }\n",
       "\n",
       "    .dataframe tbody tr th {\n",
       "        vertical-align: top;\n",
       "    }\n",
       "\n",
       "    .dataframe thead th {\n",
       "        text-align: right;\n",
       "    }\n",
       "</style>\n",
       "<table border=\"1\" class=\"dataframe\">\n",
       "  <thead>\n",
       "    <tr style=\"text-align: right;\">\n",
       "      <th></th>\n",
       "      <th>Passengers</th>\n",
       "    </tr>\n",
       "    <tr>\n",
       "      <th>Month</th>\n",
       "      <th></th>\n",
       "    </tr>\n",
       "  </thead>\n",
       "  <tbody>\n",
       "    <tr>\n",
       "      <th>1949-02-01</th>\n",
       "      <td>NaN</td>\n",
       "    </tr>\n",
       "    <tr>\n",
       "      <th>1949-03-01</th>\n",
       "      <td>8.0</td>\n",
       "    </tr>\n",
       "    <tr>\n",
       "      <th>1949-04-01</th>\n",
       "      <td>-17.0</td>\n",
       "    </tr>\n",
       "    <tr>\n",
       "      <th>1949-05-01</th>\n",
       "      <td>-5.0</td>\n",
       "    </tr>\n",
       "    <tr>\n",
       "      <th>1949-06-01</th>\n",
       "      <td>22.0</td>\n",
       "    </tr>\n",
       "  </tbody>\n",
       "</table>\n",
       "</div>\n",
       "    <div class=\"colab-df-buttons\">\n",
       "\n",
       "  <div class=\"colab-df-container\">\n",
       "    <button class=\"colab-df-convert\" onclick=\"convertToInteractive('df-2d604575-2a56-4930-ba73-ef86e38211d1')\"\n",
       "            title=\"Convert this dataframe to an interactive table.\"\n",
       "            style=\"display:none;\">\n",
       "\n",
       "  <svg xmlns=\"http://www.w3.org/2000/svg\" height=\"24px\" viewBox=\"0 -960 960 960\">\n",
       "    <path d=\"M120-120v-720h720v720H120Zm60-500h600v-160H180v160Zm220 220h160v-160H400v160Zm0 220h160v-160H400v160ZM180-400h160v-160H180v160Zm440 0h160v-160H620v160ZM180-180h160v-160H180v160Zm440 0h160v-160H620v160Z\"/>\n",
       "  </svg>\n",
       "    </button>\n",
       "\n",
       "  <style>\n",
       "    .colab-df-container {\n",
       "      display:flex;\n",
       "      gap: 12px;\n",
       "    }\n",
       "\n",
       "    .colab-df-convert {\n",
       "      background-color: #E8F0FE;\n",
       "      border: none;\n",
       "      border-radius: 50%;\n",
       "      cursor: pointer;\n",
       "      display: none;\n",
       "      fill: #1967D2;\n",
       "      height: 32px;\n",
       "      padding: 0 0 0 0;\n",
       "      width: 32px;\n",
       "    }\n",
       "\n",
       "    .colab-df-convert:hover {\n",
       "      background-color: #E2EBFA;\n",
       "      box-shadow: 0px 1px 2px rgba(60, 64, 67, 0.3), 0px 1px 3px 1px rgba(60, 64, 67, 0.15);\n",
       "      fill: #174EA6;\n",
       "    }\n",
       "\n",
       "    .colab-df-buttons div {\n",
       "      margin-bottom: 4px;\n",
       "    }\n",
       "\n",
       "    [theme=dark] .colab-df-convert {\n",
       "      background-color: #3B4455;\n",
       "      fill: #D2E3FC;\n",
       "    }\n",
       "\n",
       "    [theme=dark] .colab-df-convert:hover {\n",
       "      background-color: #434B5C;\n",
       "      box-shadow: 0px 1px 3px 1px rgba(0, 0, 0, 0.15);\n",
       "      filter: drop-shadow(0px 1px 2px rgba(0, 0, 0, 0.3));\n",
       "      fill: #FFFFFF;\n",
       "    }\n",
       "  </style>\n",
       "\n",
       "    <script>\n",
       "      const buttonEl =\n",
       "        document.querySelector('#df-2d604575-2a56-4930-ba73-ef86e38211d1 button.colab-df-convert');\n",
       "      buttonEl.style.display =\n",
       "        google.colab.kernel.accessAllowed ? 'block' : 'none';\n",
       "\n",
       "      async function convertToInteractive(key) {\n",
       "        const element = document.querySelector('#df-2d604575-2a56-4930-ba73-ef86e38211d1');\n",
       "        const dataTable =\n",
       "          await google.colab.kernel.invokeFunction('convertToInteractive',\n",
       "                                                    [key], {});\n",
       "        if (!dataTable) return;\n",
       "\n",
       "        const docLinkHtml = 'Like what you see? Visit the ' +\n",
       "          '<a target=\"_blank\" href=https://colab.research.google.com/notebooks/data_table.ipynb>data table notebook</a>'\n",
       "          + ' to learn more about interactive tables.';\n",
       "        element.innerHTML = '';\n",
       "        dataTable['output_type'] = 'display_data';\n",
       "        await google.colab.output.renderOutput(dataTable, element);\n",
       "        const docLink = document.createElement('div');\n",
       "        docLink.innerHTML = docLinkHtml;\n",
       "        element.appendChild(docLink);\n",
       "      }\n",
       "    </script>\n",
       "  </div>\n",
       "\n",
       "\n",
       "<div id=\"df-cedc4027-4b28-4092-bb60-e1bd9f95f436\">\n",
       "  <button class=\"colab-df-quickchart\" onclick=\"quickchart('df-cedc4027-4b28-4092-bb60-e1bd9f95f436')\"\n",
       "            title=\"Suggest charts.\"\n",
       "            style=\"display:none;\">\n",
       "\n",
       "<svg xmlns=\"http://www.w3.org/2000/svg\" height=\"24px\"viewBox=\"0 0 24 24\"\n",
       "     width=\"24px\">\n",
       "    <g>\n",
       "        <path d=\"M19 3H5c-1.1 0-2 .9-2 2v14c0 1.1.9 2 2 2h14c1.1 0 2-.9 2-2V5c0-1.1-.9-2-2-2zM9 17H7v-7h2v7zm4 0h-2V7h2v10zm4 0h-2v-4h2v4z\"/>\n",
       "    </g>\n",
       "</svg>\n",
       "  </button>\n",
       "\n",
       "<style>\n",
       "  .colab-df-quickchart {\n",
       "    background-color: #E8F0FE;\n",
       "    border: none;\n",
       "    border-radius: 50%;\n",
       "    cursor: pointer;\n",
       "    display: none;\n",
       "    fill: #1967D2;\n",
       "    height: 32px;\n",
       "    padding: 0 0 0 0;\n",
       "    width: 32px;\n",
       "  }\n",
       "\n",
       "  .colab-df-quickchart:hover {\n",
       "    background-color: #E2EBFA;\n",
       "    box-shadow: 0px 1px 2px rgba(60, 64, 67, 0.3), 0px 1px 3px 1px rgba(60, 64, 67, 0.15);\n",
       "    fill: #174EA6;\n",
       "  }\n",
       "\n",
       "  [theme=dark] .colab-df-quickchart {\n",
       "    background-color: #3B4455;\n",
       "    fill: #D2E3FC;\n",
       "  }\n",
       "\n",
       "  [theme=dark] .colab-df-quickchart:hover {\n",
       "    background-color: #434B5C;\n",
       "    box-shadow: 0px 1px 3px 1px rgba(0, 0, 0, 0.15);\n",
       "    filter: drop-shadow(0px 1px 2px rgba(0, 0, 0, 0.3));\n",
       "    fill: #FFFFFF;\n",
       "  }\n",
       "</style>\n",
       "\n",
       "  <script>\n",
       "    async function quickchart(key) {\n",
       "      const charts = await google.colab.kernel.invokeFunction(\n",
       "          'suggestCharts', [key], {});\n",
       "    }\n",
       "    (() => {\n",
       "      let quickchartButtonEl =\n",
       "        document.querySelector('#df-cedc4027-4b28-4092-bb60-e1bd9f95f436 button');\n",
       "      quickchartButtonEl.style.display =\n",
       "        google.colab.kernel.accessAllowed ? 'block' : 'none';\n",
       "    })();\n",
       "  </script>\n",
       "</div>\n",
       "    </div>\n",
       "  </div>\n"
      ],
      "text/plain": [
       "            Passengers\n",
       "Month                 \n",
       "1949-02-01         NaN\n",
       "1949-03-01         8.0\n",
       "1949-04-01       -17.0\n",
       "1949-05-01        -5.0\n",
       "1949-06-01        22.0"
      ]
     },
     "execution_count": 34,
     "metadata": {},
     "output_type": "execute_result"
    }
   ],
   "source": [
    "data2.head()"
   ]
  },
  {
   "cell_type": "code",
   "execution_count": null,
   "metadata": {
    "id": "xdrnT4FyRsAJ"
   },
   "outputs": [],
   "source": [
    "data2=data2.iloc[1:] # integrated to the order of 2"
   ]
  },
  {
   "cell_type": "code",
   "execution_count": null,
   "metadata": {
    "colab": {
     "base_uri": "https://localhost:8080/",
     "height": 452
    },
    "executionInfo": {
     "elapsed": 19,
     "status": "ok",
     "timestamp": 1693464651252,
     "user": {
      "displayName": "Rama Chandra Kotturu",
      "userId": "02243285469857073193"
     },
     "user_tz": -330
    },
    "id": "YEJGIQUxR3J3",
    "outputId": "ac9aa333-dad9-4947-cbf9-cf4f9389d170",
    "scrolled": true
   },
   "outputs": [
    {
     "data": {
      "image/png": "[encoded data removed]",
      "text/plain": [
       "<Figure size 640x480 with 1 Axes>"
      ]
     },
     "metadata": {},
     "output_type": "display_data"
    }
   ],
   "source": [
    "plot_acf(data2);"
   ]
  },
  {
   "cell_type": "code",
   "execution_count": null,
   "metadata": {
    "colab": {
     "base_uri": "https://localhost:8080/"
    },
    "executionInfo": {
     "elapsed": 609,
     "status": "ok",
     "timestamp": 1693464705394,
     "user": {
      "displayName": "Rama Chandra Kotturu",
      "userId": "02243285469857073193"
     },
     "user_tz": -330
    },
    "id": "A3WWQcHyR9lV",
    "outputId": "146f2387-b77a-46de-f212-52237513dcf0"
   },
   "outputs": [
    {
     "data": {
      "text/plain": [
       "(142, 1)"
      ]
     },
     "execution_count": 37,
     "metadata": {},
     "output_type": "execute_result"
    }
   ],
   "source": [
    "data2.shape#shape of the data rows and columns"
   ]
  },
  {
   "cell_type": "code",
   "execution_count": null,
   "metadata": {
    "id": "KIPKkmWuPvLu"
   },
   "outputs": [],
   "source": [
    "## Creating training and test sets\n",
    "train=data2[:100] #from 0th row to 99th row - traning data\n",
    "test=data2[100:] #from 100th row to end - testing data"
   ]
  },
  {
   "cell_type": "code",
   "execution_count": null,
   "metadata": {
    "colab": {
     "base_uri": "https://localhost:8080/"
    },
    "executionInfo": {
     "elapsed": 10,
     "status": "ok",
     "timestamp": 1693464761859,
     "user": {
      "displayName": "Rama Chandra Kotturu",
      "userId": "02243285469857073193"
     },
     "user_tz": -330
    },
    "id": "GL3_ryBwPvLv",
    "outputId": "79b6444c-4a94-438d-e3b5-23830b598081"
   },
   "outputs": [
    {
     "name": "stdout",
     "output_type": "stream",
     "text": [
      "<class 'pandas.core.frame.DataFrame'>\n",
      "DatetimeIndex: 100 entries, 1949-03-01 to 1957-06-01\n",
      "Data columns (total 1 columns):\n",
      " #   Column      Non-Null Count  Dtype  \n",
      "---  ------      --------------  -----  \n",
      " 0   Passengers  100 non-null    float64\n",
      "dtypes: float64(1)\n",
      "memory usage: 1.6 KB\n"
     ]
    }
   ],
   "source": [
    "train.info()#info about datatype and null value"
   ]
  },
  {
   "cell_type": "code",
   "execution_count": null,
   "metadata": {
    "colab": {
     "base_uri": "https://localhost:8080/"
    },
    "collapsed": true,
    "executionInfo": {
     "elapsed": 4426,
     "status": "ok",
     "timestamp": 1693464781186,
     "user": {
      "displayName": "Rama Chandra Kotturu",
      "userId": "02243285469857073193"
     },
     "user_tz": -330
    },
    "id": "5AWdcKYzijG1",
    "jupyter": {
     "outputs_hidden": true
    },
    "outputId": "620df765-245e-4cd7-eb69-a089170eacb5"
   },
   "outputs": [
    {
     "name": "stdout",
     "output_type": "stream",
     "text": [
      "Requirement already satisfied: statsmodels in /usr/local/lib/python3.10/dist-packages (0.14.0)\n",
      "Requirement already satisfied: numpy>=1.18 in /usr/local/lib/python3.10/dist-packages (from statsmodels) (1.23.5)\n",
      "Requirement already satisfied: scipy!=1.9.2,>=1.4 in /usr/local/lib/python3.10/dist-packages (from statsmodels) (1.10.1)\n",
      "Requirement already satisfied: pandas>=1.0 in /usr/local/lib/python3.10/dist-packages (from statsmodels) (1.5.3)\n",
      "Requirement already satisfied: patsy>=0.5.2 in /usr/local/lib/python3.10/dist-packages (from statsmodels) (0.5.3)\n",
      "Requirement already satisfied: packaging>=21.3 in /usr/local/lib/python3.10/dist-packages (from statsmodels) (23.1)\n",
      "Requirement already satisfied: python-dateutil>=2.8.1 in /usr/local/lib/python3.10/dist-packages (from pandas>=1.0->statsmodels) (2.8.2)\n",
      "Requirement already satisfied: pytz>=2020.1 in /usr/local/lib/python3.10/dist-packages (from pandas>=1.0->statsmodels) (2023.3)\n",
      "Requirement already satisfied: six in /usr/local/lib/python3.10/dist-packages (from patsy>=0.5.2->statsmodels) (1.16.0)\n"
     ]
    }
   ],
   "source": [
    "pip install statsmodels"
   ]
  },
  {
   "cell_type": "code",
   "execution_count": null,
   "metadata": {
    "id": "fstrV3-VwFG5"
   },
   "outputs": [],
   "source": [
    "## Applying autoregressive model\n",
    "#from statsmodels.tsa.ar_model import AR\n",
    "##from statsmodels.tsa.ar_model import AutoReg\n",
    "\n",
    "from statsmodels.tsa.ar_model import AutoReg\n",
    "import warnings\n",
    "warnings.filterwarnings('ignore')"
   ]
  },
  {
   "cell_type": "code",
   "execution_count": null,
   "metadata": {
    "colab": {
     "base_uri": "https://localhost:8080/"
    },
    "executionInfo": {
     "elapsed": 22428,
     "status": "ok",
     "timestamp": 1693464859200,
     "user": {
      "displayName": "Rama Chandra Kotturu",
      "userId": "02243285469857073193"
     },
     "user_tz": -330
    },
    "id": "1HWUcZt6PvLx",
    "outputId": "65e13434-72d0-407b-b444-6427125b5079"
   },
   "outputs": [
    {
     "data": {
      "text/plain": [
       "[1, 8, 12, 13]"
      ]
     },
     "execution_count": 42,
     "metadata": {},
     "output_type": "execute_result"
    }
   ],
   "source": [
    "\n",
    "#ar_select_order : gives the best lags ordered as an array\n",
    "\n",
    "# to select the optimal values for lags\n",
    "from statsmodels.tsa.ar_model import ar_select_order\n",
    "mod = ar_select_order(data1,maxlag=15,glob=True)\n",
    "mod.ar_lags\n",
    "\n",
    "# select_order: selects the best number of lags\n",
    "# maxlag: The maximum lag to consider\n",
    "# glob: global search across all combinations of lags"
   ]
  },
  {
   "cell_type": "code",
   "execution_count": null,
   "metadata": {
    "id": "WKkqBQlqPvLx"
   },
   "outputs": [],
   "source": [
    "## model creation\n",
    "ar_model=AutoReg(train,lags=[1,8,12,13]) ## object creation with lags specified\n",
    "ar_model_fit=ar_model.fit() #training the model"
   ]
  },
  {
   "cell_type": "code",
   "execution_count": null,
   "metadata": {
    "id": "NVcfHeDxPvLy"
   },
   "outputs": [],
   "source": [
    "##making prediction\n",
    "prediction=ar_model_fit.predict(start=100,end=142)"
   ]
  },
  {
   "cell_type": "code",
   "execution_count": null,
   "metadata": {
    "colab": {
     "base_uri": "https://localhost:8080/",
     "height": 447
    },
    "executionInfo": {
     "elapsed": 1342,
     "status": "ok",
     "timestamp": 1693465114382,
     "user": {
      "displayName": "Rama Chandra Kotturu",
      "userId": "02243285469857073193"
     },
     "user_tz": -330
    },
    "id": "y8-NWfqmPvL0",
    "outputId": "ee5bdd3d-808e-473c-f19b-2fcce062e647"
   },
   "outputs": [
    {
     "data": {
      "text/plain": [
       "[<matplotlib.lines.Line2D at 0x784533e33010>]"
      ]
     },
     "execution_count": 45,
     "metadata": {},
     "output_type": "execute_result"
    },
    {
     "data": {
      "image/png": "[encoded data removed]",
      "text/plain": [
       "<Figure size 640x480 with 1 Axes>"
      ]
     },
     "metadata": {},
     "output_type": "display_data"
    }
   ],
   "source": [
    "import matplotlib.pyplot as plt\n",
    "\n",
    "plt.plot(test)\n",
    "plt.plot(prediction,color='green') #graph of test vs prediction"
   ]
  },
  {
   "cell_type": "markdown",
   "metadata": {
    "id": "dUAIFS4XPvL2"
   },
   "source": [
    "## ARIMA Model"
   ]
  },
  {
   "cell_type": "code",
   "execution_count": null,
   "metadata": {
    "id": "6grnmWvDPvL3"
   },
   "outputs": [],
   "source": [
    "## importing the library\n",
    "from statsmodels.tsa.arima.model import ARIMA"
   ]
  },
  {
   "cell_type": "code",
   "execution_count": null,
   "metadata": {
    "id": "PQw4qA9WPvL4"
   },
   "outputs": [],
   "source": [
    "##Model object creation and fitting the model\n",
    "model_arima = ARIMA(train, order=(1,1,0))#order\n",
    "\n",
    "model_arima_fit = model_arima.fit()#training"
   ]
  },
  {
   "cell_type": "markdown",
   "metadata": {
    "id": "POdnNyJuwFG7"
   },
   "source": [
    "Akaike Information Criteria (AIC):\n",
    "\n",
    "AIC is an estimator of prediction error which measures a statistical model in order to quantify the goodness of fit of the model. While comparing two models, the smaller the AIC value, the better the time series model.\n",
    "\n",
    "![image.png](attachment:image.png)\n",
    "K: The number of model parameters.\n",
    "ln(L): The log-likelihood of the model. This tells us how likely the model is, given the data.\n",
    "\n",
    "\n",
    "AIC uses a model’s maximum likelihood estimation (log-likelihood) as a measure of fit. Log-likelihood is a measure of how likely one is to see their observed data, given a model. The model with the maximum likelihood is the one that “fits” the data the best. The natural log of the likelihood is used as a computational convenience.\n",
    "\n",
    "AIC is low for models with high log-likelihoods. This means the model fits the data better, which is what we want.\n",
    "\n",
    "Once you’ve fit several regression models, you can compare the AIC value of each model. The model with the lowest AIC offers the best fit.\n",
    "\n",
    "There is no value for AIC that can be considered “good” or “bad” because we simply use AIC as a way to compare regression models. The model with the lowest AIC offers the best fit. The absolute value of the AIC value is not important."
   ]
  },
  {
   "cell_type": "code",
   "execution_count": null,
   "metadata": {
    "colab": {
     "base_uri": "https://localhost:8080/"
    },
    "executionInfo": {
     "elapsed": 586,
     "status": "ok",
     "timestamp": 1693466190255,
     "user": {
      "displayName": "Rama Chandra Kotturu",
      "userId": "02243285469857073193"
     },
     "user_tz": -330
    },
    "id": "HyFAfAsYPvL5",
    "outputId": "e23e6684-2996-44bf-ef07-cf111c78ddad"
   },
   "outputs": [
    {
     "name": "stdout",
     "output_type": "stream",
     "text": [
      "1021.0396389673773\n"
     ]
    }
   ],
   "source": [
    "## evaluate the model\n",
    "print(model_arima_fit.aic)"
   ]
  },
  {
   "cell_type": "code",
   "execution_count": null,
   "metadata": {
    "id": "2W5T8tZiPvL6"
   },
   "outputs": [],
   "source": [
    "## predicting the output of sample points\n",
    "predictions = model_arima_fit.forecast(steps=9)"
   ]
  },
  {
   "cell_type": "code",
   "execution_count": null,
   "metadata": {
    "colab": {
     "base_uri": "https://localhost:8080/"
    },
    "executionInfo": {
     "elapsed": 629,
     "status": "ok",
     "timestamp": 1643819753972,
     "user": {
      "displayName": "Shubhangi Sakarkar",
      "photoUrl": "https://lh3.googleusercontent.com/a-/AOh14GjiJriRrUWKSeoxmYnVoL2uz2i6E3RLOwZgeqHG=s64",
      "userId": "12180749557274197061"
     },
     "user_tz": -330
    },
    "id": "d26WGD_rPvL7",
    "outputId": "788c3bc7-9978-4146-f5e8-413bde95cad1"
   },
   "outputs": [
    {
     "data": {
      "text/plain": [
       "1957-07-01    37.765356\n",
       "1957-08-01    48.751565\n",
       "1957-09-01    43.323244\n",
       "1957-10-01    46.005395\n",
       "1957-11-01    44.680135\n",
       "1957-12-01    45.334950\n",
       "1958-01-01    45.011404\n",
       "1958-02-01    45.171269\n",
       "1958-03-01    45.092279\n",
       "Freq: MS, Name: predicted_mean, dtype: float64"
      ]
     },
     "execution_count": 28,
     "metadata": {},
     "output_type": "execute_result"
    }
   ],
   "source": [
    "predictions"
   ]
  },
  {
   "cell_type": "code",
   "execution_count": null,
   "metadata": {
    "id": "sItH2gDtwFG8",
    "outputId": "52ddb8b3-1c3c-4582-9239-5cf225275e32"
   },
   "outputs": [
    {
     "data": {
      "text/plain": [
       "[<matplotlib.lines.Line2D at 0x186218c2250>]"
      ]
     },
     "execution_count": 29,
     "metadata": {},
     "output_type": "execute_result"
    },
    {
     "data": {
      "image/png": "[encoded data removed]",
      "text/plain": [
       "<Figure size 432x288 with 1 Axes>"
      ]
     },
     "metadata": {
      "needs_background": "light"
     },
     "output_type": "display_data"
    }
   ],
   "source": [
    "plt.plot(test[:9])"
   ]
  },
  {
   "cell_type": "code",
   "execution_count": null,
   "metadata": {
    "colab": {
     "base_uri": "https://localhost:8080/",
     "height": 283
    },
    "executionInfo": {
     "elapsed": 508,
     "status": "ok",
     "timestamp": 1643819767908,
     "user": {
      "displayName": "Shubhangi Sakarkar",
      "photoUrl": "https://lh3.googleusercontent.com/a-/AOh14GjiJriRrUWKSeoxmYnVoL2uz2i6E3RLOwZgeqHG=s64",
      "userId": "12180749557274197061"
     },
     "user_tz": -330
    },
    "id": "dhI16YGyPvL9",
    "outputId": "c38b798c-37e4-45a0-e1f4-4c1adda8c4d5"
   },
   "outputs": [
    {
     "data": {
      "text/plain": [
       "[<matplotlib.lines.Line2D at 0x1862192a6a0>]"
      ]
     },
     "execution_count": 30,
     "metadata": {},
     "output_type": "execute_result"
    },
    {
     "data": {
      "image/png": "[encoded data removed]",
      "text/plain": [
       "<Figure size 432x288 with 1 Axes>"
      ]
     },
     "metadata": {
      "needs_background": "light"
     },
     "output_type": "display_data"
    }
   ],
   "source": [
    "## plotting the ARIMA forecast values using random pdq\n",
    "plt.plot(predictions,color='green')"
   ]
  },
  {
   "cell_type": "code",
   "execution_count": 99,
   "metadata": {
    "colab": {
     "base_uri": "https://localhost:8080/"
    },
    "collapsed": true,
    "executionInfo": {
     "elapsed": 955,
     "status": "ok",
     "timestamp": 1693468486498,
     "user": {
      "displayName": "Rama Chandra Kotturu",
      "userId": "02243285469857073193"
     },
     "user_tz": -330
    },
    "id": "xXjc4bN1PvL-",
    "jupyter": {
     "outputs_hidden": true
    },
    "outputId": "cadd964b-2c1b-42e1-e382-adcd15bb5db4"
   },
   "outputs": [
    {
     "data": {
      "text/plain": [
       "[(0, 0, 0),\n",
       " (0, 0, 1),\n",
       " (0, 0, 2),\n",
       " (0, 0, 3),\n",
       " (0, 0, 4),\n",
       " (0, 0, 5),\n",
       " (0, 0, 6),\n",
       " (0, 0, 7),\n",
       " (0, 0, 8),\n",
       " (0, 0, 9),\n",
       " (0, 1, 0),\n",
       " (0, 1, 1),\n",
       " (0, 1, 2),\n",
       " (0, 1, 3),\n",
       " (0, 1, 4),\n",
       " (0, 1, 5),\n",
       " (0, 1, 6),\n",
       " (0, 1, 7),\n",
       " (0, 1, 8),\n",
       " (0, 1, 9),\n",
       " (0, 2, 0),\n",
       " (0, 2, 1),\n",
       " (0, 2, 2),\n",
       " (0, 2, 3),\n",
       " (0, 2, 4),\n",
       " (0, 2, 5),\n",
       " (0, 2, 6),\n",
       " (0, 2, 7),\n",
       " (0, 2, 8),\n",
       " (0, 2, 9),\n",
       " (0, 3, 0),\n",
       " (0, 3, 1),\n",
       " (0, 3, 2),\n",
       " (0, 3, 3),\n",
       " (0, 3, 4),\n",
       " (0, 3, 5),\n",
       " (0, 3, 6),\n",
       " (0, 3, 7),\n",
       " (0, 3, 8),\n",
       " (0, 3, 9),\n",
       " (0, 4, 0),\n",
       " (0, 4, 1),\n",
       " (0, 4, 2),\n",
       " (0, 4, 3),\n",
       " (0, 4, 4),\n",
       " (0, 4, 5),\n",
       " (0, 4, 6),\n",
       " (0, 4, 7),\n",
       " (0, 4, 8),\n",
       " (0, 4, 9),\n",
       " (0, 5, 0),\n",
       " (0, 5, 1),\n",
       " (0, 5, 2),\n",
       " (0, 5, 3),\n",
       " (0, 5, 4),\n",
       " (0, 5, 5),\n",
       " (0, 5, 6),\n",
       " (0, 5, 7),\n",
       " (0, 5, 8),\n",
       " (0, 5, 9),\n",
       " (0, 6, 0),\n",
       " (0, 6, 1),\n",
       " (0, 6, 2),\n",
       " (0, 6, 3),\n",
       " (0, 6, 4),\n",
       " (0, 6, 5),\n",
       " (0, 6, 6),\n",
       " (0, 6, 7),\n",
       " (0, 6, 8),\n",
       " (0, 6, 9),\n",
       " (0, 7, 0),\n",
       " (0, 7, 1),\n",
       " (0, 7, 2),\n",
       " (0, 7, 3),\n",
       " (0, 7, 4),\n",
       " (0, 7, 5),\n",
       " (0, 7, 6),\n",
       " (0, 7, 7),\n",
       " (0, 7, 8),\n",
       " (0, 7, 9),\n",
       " (0, 8, 0),\n",
       " (0, 8, 1),\n",
       " (0, 8, 2),\n",
       " (0, 8, 3),\n",
       " (0, 8, 4),\n",
       " (0, 8, 5),\n",
       " (0, 8, 6),\n",
       " (0, 8, 7),\n",
       " (0, 8, 8),\n",
       " (0, 8, 9),\n",
       " (0, 9, 0),\n",
       " (0, 9, 1),\n",
       " (0, 9, 2),\n",
       " (0, 9, 3),\n",
       " (0, 9, 4),\n",
       " (0, 9, 5),\n",
       " (0, 9, 6),\n",
       " (0, 9, 7),\n",
       " (0, 9, 8),\n",
       " (0, 9, 9),\n",
       " (1, 0, 0),\n",
       " (1, 0, 1),\n",
       " (1, 0, 2),\n",
       " (1, 0, 3),\n",
       " (1, 0, 4),\n",
       " (1, 0, 5),\n",
       " (1, 0, 6),\n",
       " (1, 0, 7),\n",
       " (1, 0, 8),\n",
       " (1, 0, 9),\n",
       " (1, 1, 0),\n",
       " (1, 1, 1),\n",
       " (1, 1, 2),\n",
       " (1, 1, 3),\n",
       " (1, 1, 4),\n",
       " (1, 1, 5),\n",
       " (1, 1, 6),\n",
       " (1, 1, 7),\n",
       " (1, 1, 8),\n",
       " (1, 1, 9),\n",
       " (1, 2, 0),\n",
       " (1, 2, 1),\n",
       " (1, 2, 2),\n",
       " (1, 2, 3),\n",
       " (1, 2, 4),\n",
       " (1, 2, 5),\n",
       " (1, 2, 6),\n",
       " (1, 2, 7),\n",
       " (1, 2, 8),\n",
       " (1, 2, 9),\n",
       " (1, 3, 0),\n",
       " (1, 3, 1),\n",
       " (1, 3, 2),\n",
       " (1, 3, 3),\n",
       " (1, 3, 4),\n",
       " (1, 3, 5),\n",
       " (1, 3, 6),\n",
       " (1, 3, 7),\n",
       " (1, 3, 8),\n",
       " (1, 3, 9),\n",
       " (1, 4, 0),\n",
       " (1, 4, 1),\n",
       " (1, 4, 2),\n",
       " (1, 4, 3),\n",
       " (1, 4, 4),\n",
       " (1, 4, 5),\n",
       " (1, 4, 6),\n",
       " (1, 4, 7),\n",
       " (1, 4, 8),\n",
       " (1, 4, 9),\n",
       " (1, 5, 0),\n",
       " (1, 5, 1),\n",
       " (1, 5, 2),\n",
       " (1, 5, 3),\n",
       " (1, 5, 4),\n",
       " (1, 5, 5),\n",
       " (1, 5, 6),\n",
       " (1, 5, 7),\n",
       " (1, 5, 8),\n",
       " (1, 5, 9),\n",
       " (1, 6, 0),\n",
       " (1, 6, 1),\n",
       " (1, 6, 2),\n",
       " (1, 6, 3),\n",
       " (1, 6, 4),\n",
       " (1, 6, 5),\n",
       " (1, 6, 6),\n",
       " (1, 6, 7),\n",
       " (1, 6, 8),\n",
       " (1, 6, 9),\n",
       " (1, 7, 0),\n",
       " (1, 7, 1),\n",
       " (1, 7, 2),\n",
       " (1, 7, 3),\n",
       " (1, 7, 4),\n",
       " (1, 7, 5),\n",
       " (1, 7, 6),\n",
       " (1, 7, 7),\n",
       " (1, 7, 8),\n",
       " (1, 7, 9),\n",
       " (1, 8, 0),\n",
       " (1, 8, 1),\n",
       " (1, 8, 2),\n",
       " (1, 8, 3),\n",
       " (1, 8, 4),\n",
       " (1, 8, 5),\n",
       " (1, 8, 6),\n",
       " (1, 8, 7),\n",
       " (1, 8, 8),\n",
       " (1, 8, 9),\n",
       " (1, 9, 0),\n",
       " (1, 9, 1),\n",
       " (1, 9, 2),\n",
       " (1, 9, 3),\n",
       " (1, 9, 4),\n",
       " (1, 9, 5),\n",
       " (1, 9, 6),\n",
       " (1, 9, 7),\n",
       " (1, 9, 8),\n",
       " (1, 9, 9),\n",
       " (2, 0, 0),\n",
       " (2, 0, 1),\n",
       " (2, 0, 2),\n",
       " (2, 0, 3),\n",
       " (2, 0, 4),\n",
       " (2, 0, 5),\n",
       " (2, 0, 6),\n",
       " (2, 0, 7),\n",
       " (2, 0, 8),\n",
       " (2, 0, 9),\n",
       " (2, 1, 0),\n",
       " (2, 1, 1),\n",
       " (2, 1, 2),\n",
       " (2, 1, 3),\n",
       " (2, 1, 4),\n",
       " (2, 1, 5),\n",
       " (2, 1, 6),\n",
       " (2, 1, 7),\n",
       " (2, 1, 8),\n",
       " (2, 1, 9),\n",
       " (2, 2, 0),\n",
       " (2, 2, 1),\n",
       " (2, 2, 2),\n",
       " (2, 2, 3),\n",
       " (2, 2, 4),\n",
       " (2, 2, 5),\n",
       " (2, 2, 6),\n",
       " (2, 2, 7),\n",
       " (2, 2, 8),\n",
       " (2, 2, 9),\n",
       " (2, 3, 0),\n",
       " (2, 3, 1),\n",
       " (2, 3, 2),\n",
       " (2, 3, 3),\n",
       " (2, 3, 4),\n",
       " (2, 3, 5),\n",
       " (2, 3, 6),\n",
       " (2, 3, 7),\n",
       " (2, 3, 8),\n",
       " (2, 3, 9),\n",
       " (2, 4, 0),\n",
       " (2, 4, 1),\n",
       " (2, 4, 2),\n",
       " (2, 4, 3),\n",
       " (2, 4, 4),\n",
       " (2, 4, 5),\n",
       " (2, 4, 6),\n",
       " (2, 4, 7),\n",
       " (2, 4, 8),\n",
       " (2, 4, 9),\n",
       " (2, 5, 0),\n",
       " (2, 5, 1),\n",
       " (2, 5, 2),\n",
       " (2, 5, 3),\n",
       " (2, 5, 4),\n",
       " (2, 5, 5),\n",
       " (2, 5, 6),\n",
       " (2, 5, 7),\n",
       " (2, 5, 8),\n",
       " (2, 5, 9),\n",
       " (2, 6, 0),\n",
       " (2, 6, 1),\n",
       " (2, 6, 2),\n",
       " (2, 6, 3),\n",
       " (2, 6, 4),\n",
       " (2, 6, 5),\n",
       " (2, 6, 6),\n",
       " (2, 6, 7),\n",
       " (2, 6, 8),\n",
       " (2, 6, 9),\n",
       " (2, 7, 0),\n",
       " (2, 7, 1),\n",
       " (2, 7, 2),\n",
       " (2, 7, 3),\n",
       " (2, 7, 4),\n",
       " (2, 7, 5),\n",
       " (2, 7, 6),\n",
       " (2, 7, 7),\n",
       " (2, 7, 8),\n",
       " (2, 7, 9),\n",
       " (2, 8, 0),\n",
       " (2, 8, 1),\n",
       " (2, 8, 2),\n",
       " (2, 8, 3),\n",
       " (2, 8, 4),\n",
       " (2, 8, 5),\n",
       " (2, 8, 6),\n",
       " (2, 8, 7),\n",
       " (2, 8, 8),\n",
       " (2, 8, 9),\n",
       " (2, 9, 0),\n",
       " (2, 9, 1),\n",
       " (2, 9, 2),\n",
       " (2, 9, 3),\n",
       " (2, 9, 4),\n",
       " (2, 9, 5),\n",
       " (2, 9, 6),\n",
       " (2, 9, 7),\n",
       " (2, 9, 8),\n",
       " (2, 9, 9),\n",
       " (3, 0, 0),\n",
       " (3, 0, 1),\n",
       " (3, 0, 2),\n",
       " (3, 0, 3),\n",
       " (3, 0, 4),\n",
       " (3, 0, 5),\n",
       " (3, 0, 6),\n",
       " (3, 0, 7),\n",
       " (3, 0, 8),\n",
       " (3, 0, 9),\n",
       " (3, 1, 0),\n",
       " (3, 1, 1),\n",
       " (3, 1, 2),\n",
       " (3, 1, 3),\n",
       " (3, 1, 4),\n",
       " (3, 1, 5),\n",
       " (3, 1, 6),\n",
       " (3, 1, 7),\n",
       " (3, 1, 8),\n",
       " (3, 1, 9),\n",
       " (3, 2, 0),\n",
       " (3, 2, 1),\n",
       " (3, 2, 2),\n",
       " (3, 2, 3),\n",
       " (3, 2, 4),\n",
       " (3, 2, 5),\n",
       " (3, 2, 6),\n",
       " (3, 2, 7),\n",
       " (3, 2, 8),\n",
       " (3, 2, 9),\n",
       " (3, 3, 0),\n",
       " (3, 3, 1),\n",
       " (3, 3, 2),\n",
       " (3, 3, 3),\n",
       " (3, 3, 4),\n",
       " (3, 3, 5),\n",
       " (3, 3, 6),\n",
       " (3, 3, 7),\n",
       " (3, 3, 8),\n",
       " (3, 3, 9),\n",
       " (3, 4, 0),\n",
       " (3, 4, 1),\n",
       " (3, 4, 2),\n",
       " (3, 4, 3),\n",
       " (3, 4, 4),\n",
       " (3, 4, 5),\n",
       " (3, 4, 6),\n",
       " (3, 4, 7),\n",
       " (3, 4, 8),\n",
       " (3, 4, 9),\n",
       " (3, 5, 0),\n",
       " (3, 5, 1),\n",
       " (3, 5, 2),\n",
       " (3, 5, 3),\n",
       " (3, 5, 4),\n",
       " (3, 5, 5),\n",
       " (3, 5, 6),\n",
       " (3, 5, 7),\n",
       " (3, 5, 8),\n",
       " (3, 5, 9),\n",
       " (3, 6, 0),\n",
       " (3, 6, 1),\n",
       " (3, 6, 2),\n",
       " (3, 6, 3),\n",
       " (3, 6, 4),\n",
       " (3, 6, 5),\n",
       " (3, 6, 6),\n",
       " (3, 6, 7),\n",
       " (3, 6, 8),\n",
       " (3, 6, 9),\n",
       " (3, 7, 0),\n",
       " (3, 7, 1),\n",
       " (3, 7, 2),\n",
       " (3, 7, 3),\n",
       " (3, 7, 4),\n",
       " (3, 7, 5),\n",
       " (3, 7, 6),\n",
       " (3, 7, 7),\n",
       " (3, 7, 8),\n",
       " (3, 7, 9),\n",
       " (3, 8, 0),\n",
       " (3, 8, 1),\n",
       " (3, 8, 2),\n",
       " (3, 8, 3),\n",
       " (3, 8, 4),\n",
       " (3, 8, 5),\n",
       " (3, 8, 6),\n",
       " (3, 8, 7),\n",
       " (3, 8, 8),\n",
       " (3, 8, 9),\n",
       " (3, 9, 0),\n",
       " (3, 9, 1),\n",
       " (3, 9, 2),\n",
       " (3, 9, 3),\n",
       " (3, 9, 4),\n",
       " (3, 9, 5),\n",
       " (3, 9, 6),\n",
       " (3, 9, 7),\n",
       " (3, 9, 8),\n",
       " (3, 9, 9),\n",
       " (4, 0, 0),\n",
       " (4, 0, 1),\n",
       " (4, 0, 2),\n",
       " (4, 0, 3),\n",
       " (4, 0, 4),\n",
       " (4, 0, 5),\n",
       " (4, 0, 6),\n",
       " (4, 0, 7),\n",
       " (4, 0, 8),\n",
       " (4, 0, 9),\n",
       " (4, 1, 0),\n",
       " (4, 1, 1),\n",
       " (4, 1, 2),\n",
       " (4, 1, 3),\n",
       " (4, 1, 4),\n",
       " (4, 1, 5),\n",
       " (4, 1, 6),\n",
       " (4, 1, 7),\n",
       " (4, 1, 8),\n",
       " (4, 1, 9),\n",
       " (4, 2, 0),\n",
       " (4, 2, 1),\n",
       " (4, 2, 2),\n",
       " (4, 2, 3),\n",
       " (4, 2, 4),\n",
       " (4, 2, 5),\n",
       " (4, 2, 6),\n",
       " (4, 2, 7),\n",
       " (4, 2, 8),\n",
       " (4, 2, 9),\n",
       " (4, 3, 0),\n",
       " (4, 3, 1),\n",
       " (4, 3, 2),\n",
       " (4, 3, 3),\n",
       " (4, 3, 4),\n",
       " (4, 3, 5),\n",
       " (4, 3, 6),\n",
       " (4, 3, 7),\n",
       " (4, 3, 8),\n",
       " (4, 3, 9),\n",
       " (4, 4, 0),\n",
       " (4, 4, 1),\n",
       " (4, 4, 2),\n",
       " (4, 4, 3),\n",
       " (4, 4, 4),\n",
       " (4, 4, 5),\n",
       " (4, 4, 6),\n",
       " (4, 4, 7),\n",
       " (4, 4, 8),\n",
       " (4, 4, 9),\n",
       " (4, 5, 0),\n",
       " (4, 5, 1),\n",
       " (4, 5, 2),\n",
       " (4, 5, 3),\n",
       " (4, 5, 4),\n",
       " (4, 5, 5),\n",
       " (4, 5, 6),\n",
       " (4, 5, 7),\n",
       " (4, 5, 8),\n",
       " (4, 5, 9),\n",
       " (4, 6, 0),\n",
       " (4, 6, 1),\n",
       " (4, 6, 2),\n",
       " (4, 6, 3),\n",
       " (4, 6, 4),\n",
       " (4, 6, 5),\n",
       " (4, 6, 6),\n",
       " (4, 6, 7),\n",
       " (4, 6, 8),\n",
       " (4, 6, 9),\n",
       " (4, 7, 0),\n",
       " (4, 7, 1),\n",
       " (4, 7, 2),\n",
       " (4, 7, 3),\n",
       " (4, 7, 4),\n",
       " (4, 7, 5),\n",
       " (4, 7, 6),\n",
       " (4, 7, 7),\n",
       " (4, 7, 8),\n",
       " (4, 7, 9),\n",
       " (4, 8, 0),\n",
       " (4, 8, 1),\n",
       " (4, 8, 2),\n",
       " (4, 8, 3),\n",
       " (4, 8, 4),\n",
       " (4, 8, 5),\n",
       " (4, 8, 6),\n",
       " (4, 8, 7),\n",
       " (4, 8, 8),\n",
       " (4, 8, 9),\n",
       " (4, 9, 0),\n",
       " (4, 9, 1),\n",
       " (4, 9, 2),\n",
       " (4, 9, 3),\n",
       " (4, 9, 4),\n",
       " (4, 9, 5),\n",
       " (4, 9, 6),\n",
       " (4, 9, 7),\n",
       " (4, 9, 8),\n",
       " (4, 9, 9),\n",
       " (5, 0, 0),\n",
       " (5, 0, 1),\n",
       " (5, 0, 2),\n",
       " (5, 0, 3),\n",
       " (5, 0, 4),\n",
       " (5, 0, 5),\n",
       " (5, 0, 6),\n",
       " (5, 0, 7),\n",
       " (5, 0, 8),\n",
       " (5, 0, 9),\n",
       " (5, 1, 0),\n",
       " (5, 1, 1),\n",
       " (5, 1, 2),\n",
       " (5, 1, 3),\n",
       " (5, 1, 4),\n",
       " (5, 1, 5),\n",
       " (5, 1, 6),\n",
       " (5, 1, 7),\n",
       " (5, 1, 8),\n",
       " (5, 1, 9),\n",
       " (5, 2, 0),\n",
       " (5, 2, 1),\n",
       " (5, 2, 2),\n",
       " (5, 2, 3),\n",
       " (5, 2, 4),\n",
       " (5, 2, 5),\n",
       " (5, 2, 6),\n",
       " (5, 2, 7),\n",
       " (5, 2, 8),\n",
       " (5, 2, 9),\n",
       " (5, 3, 0),\n",
       " (5, 3, 1),\n",
       " (5, 3, 2),\n",
       " (5, 3, 3),\n",
       " (5, 3, 4),\n",
       " (5, 3, 5),\n",
       " (5, 3, 6),\n",
       " (5, 3, 7),\n",
       " (5, 3, 8),\n",
       " (5, 3, 9),\n",
       " (5, 4, 0),\n",
       " (5, 4, 1),\n",
       " (5, 4, 2),\n",
       " (5, 4, 3),\n",
       " (5, 4, 4),\n",
       " (5, 4, 5),\n",
       " (5, 4, 6),\n",
       " (5, 4, 7),\n",
       " (5, 4, 8),\n",
       " (5, 4, 9),\n",
       " (5, 5, 0),\n",
       " (5, 5, 1),\n",
       " (5, 5, 2),\n",
       " (5, 5, 3),\n",
       " (5, 5, 4),\n",
       " (5, 5, 5),\n",
       " (5, 5, 6),\n",
       " (5, 5, 7),\n",
       " (5, 5, 8),\n",
       " (5, 5, 9),\n",
       " (5, 6, 0),\n",
       " (5, 6, 1),\n",
       " (5, 6, 2),\n",
       " (5, 6, 3),\n",
       " (5, 6, 4),\n",
       " (5, 6, 5),\n",
       " (5, 6, 6),\n",
       " (5, 6, 7),\n",
       " (5, 6, 8),\n",
       " (5, 6, 9),\n",
       " (5, 7, 0),\n",
       " (5, 7, 1),\n",
       " (5, 7, 2),\n",
       " (5, 7, 3),\n",
       " (5, 7, 4),\n",
       " (5, 7, 5),\n",
       " (5, 7, 6),\n",
       " (5, 7, 7),\n",
       " (5, 7, 8),\n",
       " (5, 7, 9),\n",
       " (5, 8, 0),\n",
       " (5, 8, 1),\n",
       " (5, 8, 2),\n",
       " (5, 8, 3),\n",
       " (5, 8, 4),\n",
       " (5, 8, 5),\n",
       " (5, 8, 6),\n",
       " (5, 8, 7),\n",
       " (5, 8, 8),\n",
       " (5, 8, 9),\n",
       " (5, 9, 0),\n",
       " (5, 9, 1),\n",
       " (5, 9, 2),\n",
       " (5, 9, 3),\n",
       " (5, 9, 4),\n",
       " (5, 9, 5),\n",
       " (5, 9, 6),\n",
       " (5, 9, 7),\n",
       " (5, 9, 8),\n",
       " (5, 9, 9),\n",
       " (6, 0, 0),\n",
       " (6, 0, 1),\n",
       " (6, 0, 2),\n",
       " (6, 0, 3),\n",
       " (6, 0, 4),\n",
       " (6, 0, 5),\n",
       " (6, 0, 6),\n",
       " (6, 0, 7),\n",
       " (6, 0, 8),\n",
       " (6, 0, 9),\n",
       " (6, 1, 0),\n",
       " (6, 1, 1),\n",
       " (6, 1, 2),\n",
       " (6, 1, 3),\n",
       " (6, 1, 4),\n",
       " (6, 1, 5),\n",
       " (6, 1, 6),\n",
       " (6, 1, 7),\n",
       " (6, 1, 8),\n",
       " (6, 1, 9),\n",
       " (6, 2, 0),\n",
       " (6, 2, 1),\n",
       " (6, 2, 2),\n",
       " (6, 2, 3),\n",
       " (6, 2, 4),\n",
       " (6, 2, 5),\n",
       " (6, 2, 6),\n",
       " (6, 2, 7),\n",
       " (6, 2, 8),\n",
       " (6, 2, 9),\n",
       " (6, 3, 0),\n",
       " (6, 3, 1),\n",
       " (6, 3, 2),\n",
       " (6, 3, 3),\n",
       " (6, 3, 4),\n",
       " (6, 3, 5),\n",
       " (6, 3, 6),\n",
       " (6, 3, 7),\n",
       " (6, 3, 8),\n",
       " (6, 3, 9),\n",
       " (6, 4, 0),\n",
       " (6, 4, 1),\n",
       " (6, 4, 2),\n",
       " (6, 4, 3),\n",
       " (6, 4, 4),\n",
       " (6, 4, 5),\n",
       " (6, 4, 6),\n",
       " (6, 4, 7),\n",
       " (6, 4, 8),\n",
       " (6, 4, 9),\n",
       " (6, 5, 0),\n",
       " (6, 5, 1),\n",
       " (6, 5, 2),\n",
       " (6, 5, 3),\n",
       " (6, 5, 4),\n",
       " (6, 5, 5),\n",
       " (6, 5, 6),\n",
       " (6, 5, 7),\n",
       " (6, 5, 8),\n",
       " (6, 5, 9),\n",
       " (6, 6, 0),\n",
       " (6, 6, 1),\n",
       " (6, 6, 2),\n",
       " (6, 6, 3),\n",
       " (6, 6, 4),\n",
       " (6, 6, 5),\n",
       " (6, 6, 6),\n",
       " (6, 6, 7),\n",
       " (6, 6, 8),\n",
       " (6, 6, 9),\n",
       " (6, 7, 0),\n",
       " (6, 7, 1),\n",
       " (6, 7, 2),\n",
       " (6, 7, 3),\n",
       " (6, 7, 4),\n",
       " (6, 7, 5),\n",
       " (6, 7, 6),\n",
       " (6, 7, 7),\n",
       " (6, 7, 8),\n",
       " (6, 7, 9),\n",
       " (6, 8, 0),\n",
       " (6, 8, 1),\n",
       " (6, 8, 2),\n",
       " (6, 8, 3),\n",
       " (6, 8, 4),\n",
       " (6, 8, 5),\n",
       " (6, 8, 6),\n",
       " (6, 8, 7),\n",
       " (6, 8, 8),\n",
       " (6, 8, 9),\n",
       " (6, 9, 0),\n",
       " (6, 9, 1),\n",
       " (6, 9, 2),\n",
       " (6, 9, 3),\n",
       " (6, 9, 4),\n",
       " (6, 9, 5),\n",
       " (6, 9, 6),\n",
       " (6, 9, 7),\n",
       " (6, 9, 8),\n",
       " (6, 9, 9),\n",
       " (7, 0, 0),\n",
       " (7, 0, 1),\n",
       " (7, 0, 2),\n",
       " (7, 0, 3),\n",
       " (7, 0, 4),\n",
       " (7, 0, 5),\n",
       " (7, 0, 6),\n",
       " (7, 0, 7),\n",
       " (7, 0, 8),\n",
       " (7, 0, 9),\n",
       " (7, 1, 0),\n",
       " (7, 1, 1),\n",
       " (7, 1, 2),\n",
       " (7, 1, 3),\n",
       " (7, 1, 4),\n",
       " (7, 1, 5),\n",
       " (7, 1, 6),\n",
       " (7, 1, 7),\n",
       " (7, 1, 8),\n",
       " (7, 1, 9),\n",
       " (7, 2, 0),\n",
       " (7, 2, 1),\n",
       " (7, 2, 2),\n",
       " (7, 2, 3),\n",
       " (7, 2, 4),\n",
       " (7, 2, 5),\n",
       " (7, 2, 6),\n",
       " (7, 2, 7),\n",
       " (7, 2, 8),\n",
       " (7, 2, 9),\n",
       " (7, 3, 0),\n",
       " (7, 3, 1),\n",
       " (7, 3, 2),\n",
       " (7, 3, 3),\n",
       " (7, 3, 4),\n",
       " (7, 3, 5),\n",
       " (7, 3, 6),\n",
       " (7, 3, 7),\n",
       " (7, 3, 8),\n",
       " (7, 3, 9),\n",
       " (7, 4, 0),\n",
       " (7, 4, 1),\n",
       " (7, 4, 2),\n",
       " (7, 4, 3),\n",
       " (7, 4, 4),\n",
       " (7, 4, 5),\n",
       " (7, 4, 6),\n",
       " (7, 4, 7),\n",
       " (7, 4, 8),\n",
       " (7, 4, 9),\n",
       " (7, 5, 0),\n",
       " (7, 5, 1),\n",
       " (7, 5, 2),\n",
       " (7, 5, 3),\n",
       " (7, 5, 4),\n",
       " (7, 5, 5),\n",
       " (7, 5, 6),\n",
       " (7, 5, 7),\n",
       " (7, 5, 8),\n",
       " (7, 5, 9),\n",
       " (7, 6, 0),\n",
       " (7, 6, 1),\n",
       " (7, 6, 2),\n",
       " (7, 6, 3),\n",
       " (7, 6, 4),\n",
       " (7, 6, 5),\n",
       " (7, 6, 6),\n",
       " (7, 6, 7),\n",
       " (7, 6, 8),\n",
       " (7, 6, 9),\n",
       " (7, 7, 0),\n",
       " (7, 7, 1),\n",
       " (7, 7, 2),\n",
       " (7, 7, 3),\n",
       " (7, 7, 4),\n",
       " (7, 7, 5),\n",
       " (7, 7, 6),\n",
       " (7, 7, 7),\n",
       " (7, 7, 8),\n",
       " (7, 7, 9),\n",
       " (7, 8, 0),\n",
       " (7, 8, 1),\n",
       " (7, 8, 2),\n",
       " (7, 8, 3),\n",
       " (7, 8, 4),\n",
       " (7, 8, 5),\n",
       " (7, 8, 6),\n",
       " (7, 8, 7),\n",
       " (7, 8, 8),\n",
       " (7, 8, 9),\n",
       " (7, 9, 0),\n",
       " (7, 9, 1),\n",
       " (7, 9, 2),\n",
       " (7, 9, 3),\n",
       " (7, 9, 4),\n",
       " (7, 9, 5),\n",
       " (7, 9, 6),\n",
       " (7, 9, 7),\n",
       " (7, 9, 8),\n",
       " (7, 9, 9),\n",
       " (8, 0, 0),\n",
       " (8, 0, 1),\n",
       " (8, 0, 2),\n",
       " (8, 0, 3),\n",
       " (8, 0, 4),\n",
       " (8, 0, 5),\n",
       " (8, 0, 6),\n",
       " (8, 0, 7),\n",
       " (8, 0, 8),\n",
       " (8, 0, 9),\n",
       " (8, 1, 0),\n",
       " (8, 1, 1),\n",
       " (8, 1, 2),\n",
       " (8, 1, 3),\n",
       " (8, 1, 4),\n",
       " (8, 1, 5),\n",
       " (8, 1, 6),\n",
       " (8, 1, 7),\n",
       " (8, 1, 8),\n",
       " (8, 1, 9),\n",
       " (8, 2, 0),\n",
       " (8, 2, 1),\n",
       " (8, 2, 2),\n",
       " (8, 2, 3),\n",
       " (8, 2, 4),\n",
       " (8, 2, 5),\n",
       " (8, 2, 6),\n",
       " (8, 2, 7),\n",
       " (8, 2, 8),\n",
       " (8, 2, 9),\n",
       " (8, 3, 0),\n",
       " (8, 3, 1),\n",
       " (8, 3, 2),\n",
       " (8, 3, 3),\n",
       " (8, 3, 4),\n",
       " (8, 3, 5),\n",
       " (8, 3, 6),\n",
       " (8, 3, 7),\n",
       " (8, 3, 8),\n",
       " (8, 3, 9),\n",
       " (8, 4, 0),\n",
       " (8, 4, 1),\n",
       " (8, 4, 2),\n",
       " (8, 4, 3),\n",
       " (8, 4, 4),\n",
       " (8, 4, 5),\n",
       " (8, 4, 6),\n",
       " (8, 4, 7),\n",
       " (8, 4, 8),\n",
       " (8, 4, 9),\n",
       " (8, 5, 0),\n",
       " (8, 5, 1),\n",
       " (8, 5, 2),\n",
       " (8, 5, 3),\n",
       " (8, 5, 4),\n",
       " (8, 5, 5),\n",
       " (8, 5, 6),\n",
       " (8, 5, 7),\n",
       " (8, 5, 8),\n",
       " (8, 5, 9),\n",
       " (8, 6, 0),\n",
       " (8, 6, 1),\n",
       " (8, 6, 2),\n",
       " (8, 6, 3),\n",
       " (8, 6, 4),\n",
       " (8, 6, 5),\n",
       " (8, 6, 6),\n",
       " (8, 6, 7),\n",
       " (8, 6, 8),\n",
       " (8, 6, 9),\n",
       " (8, 7, 0),\n",
       " (8, 7, 1),\n",
       " (8, 7, 2),\n",
       " (8, 7, 3),\n",
       " (8, 7, 4),\n",
       " (8, 7, 5),\n",
       " (8, 7, 6),\n",
       " (8, 7, 7),\n",
       " (8, 7, 8),\n",
       " (8, 7, 9),\n",
       " (8, 8, 0),\n",
       " (8, 8, 1),\n",
       " (8, 8, 2),\n",
       " (8, 8, 3),\n",
       " (8, 8, 4),\n",
       " (8, 8, 5),\n",
       " (8, 8, 6),\n",
       " (8, 8, 7),\n",
       " (8, 8, 8),\n",
       " (8, 8, 9),\n",
       " (8, 9, 0),\n",
       " (8, 9, 1),\n",
       " (8, 9, 2),\n",
       " (8, 9, 3),\n",
       " (8, 9, 4),\n",
       " (8, 9, 5),\n",
       " (8, 9, 6),\n",
       " (8, 9, 7),\n",
       " (8, 9, 8),\n",
       " (8, 9, 9),\n",
       " (9, 0, 0),\n",
       " (9, 0, 1),\n",
       " (9, 0, 2),\n",
       " (9, 0, 3),\n",
       " (9, 0, 4),\n",
       " (9, 0, 5),\n",
       " (9, 0, 6),\n",
       " (9, 0, 7),\n",
       " (9, 0, 8),\n",
       " (9, 0, 9),\n",
       " (9, 1, 0),\n",
       " (9, 1, 1),\n",
       " (9, 1, 2),\n",
       " (9, 1, 3),\n",
       " (9, 1, 4),\n",
       " (9, 1, 5),\n",
       " (9, 1, 6),\n",
       " (9, 1, 7),\n",
       " (9, 1, 8),\n",
       " (9, 1, 9),\n",
       " (9, 2, 0),\n",
       " (9, 2, 1),\n",
       " (9, 2, 2),\n",
       " (9, 2, 3),\n",
       " (9, 2, 4),\n",
       " (9, 2, 5),\n",
       " (9, 2, 6),\n",
       " (9, 2, 7),\n",
       " (9, 2, 8),\n",
       " (9, 2, 9),\n",
       " (9, 3, 0),\n",
       " (9, 3, 1),\n",
       " (9, 3, 2),\n",
       " (9, 3, 3),\n",
       " (9, 3, 4),\n",
       " (9, 3, 5),\n",
       " (9, 3, 6),\n",
       " (9, 3, 7),\n",
       " (9, 3, 8),\n",
       " (9, 3, 9),\n",
       " (9, 4, 0),\n",
       " (9, 4, 1),\n",
       " (9, 4, 2),\n",
       " (9, 4, 3),\n",
       " (9, 4, 4),\n",
       " (9, 4, 5),\n",
       " (9, 4, 6),\n",
       " (9, 4, 7),\n",
       " (9, 4, 8),\n",
       " (9, 4, 9),\n",
       " (9, 5, 0),\n",
       " (9, 5, 1),\n",
       " (9, 5, 2),\n",
       " (9, 5, 3),\n",
       " (9, 5, 4),\n",
       " (9, 5, 5),\n",
       " (9, 5, 6),\n",
       " (9, 5, 7),\n",
       " (9, 5, 8),\n",
       " (9, 5, 9),\n",
       " (9, 6, 0),\n",
       " (9, 6, 1),\n",
       " (9, 6, 2),\n",
       " (9, 6, 3),\n",
       " (9, 6, 4),\n",
       " (9, 6, 5),\n",
       " (9, 6, 6),\n",
       " (9, 6, 7),\n",
       " (9, 6, 8),\n",
       " (9, 6, 9),\n",
       " (9, 7, 0),\n",
       " (9, 7, 1),\n",
       " (9, 7, 2),\n",
       " (9, 7, 3),\n",
       " (9, 7, 4),\n",
       " (9, 7, 5),\n",
       " (9, 7, 6),\n",
       " (9, 7, 7),\n",
       " (9, 7, 8),\n",
       " (9, 7, 9),\n",
       " (9, 8, 0),\n",
       " (9, 8, 1),\n",
       " (9, 8, 2),\n",
       " (9, 8, 3),\n",
       " (9, 8, 4),\n",
       " (9, 8, 5),\n",
       " (9, 8, 6),\n",
       " (9, 8, 7),\n",
       " (9, 8, 8),\n",
       " (9, 8, 9),\n",
       " (9, 9, 0),\n",
       " (9, 9, 1),\n",
       " (9, 9, 2),\n",
       " (9, 9, 3),\n",
       " (9, 9, 4),\n",
       " (9, 9, 5),\n",
       " (9, 9, 6),\n",
       " (9, 9, 7),\n",
       " (9, 9, 8),\n",
       " (9, 9, 9)]"
      ]
     },
     "execution_count": 99,
     "metadata": {},
     "output_type": "execute_result"
    }
   ],
   "source": [
    "## Geeting the optimal values of p,q an d\n",
    "import itertools\n",
    "\n",
    "p =d= q=range(0,10)#values of p,d,q range from 0 to 4\n",
    "\n",
    "pdq = list(itertools.product(p,d,q))\n",
    "# is used to find the cartesian product from the given iterator, output is lexicographic ordered.\n",
    "pdq #number of combinaton of pdq"
   ]
  },
  {
   "cell_type": "code",
   "execution_count": null,
   "metadata": {
    "id": "rs-Qna_BelTy"
   },
   "outputs": [],
   "source": [
    "from tqdm import tqdm"
   ]
  },
  {
   "cell_type": "code",
   "execution_count": null,
   "metadata": {
    "id": "qvqmiF_AflZd"
   },
   "outputs": [],
   "source": [
    "\n",
    "import numpy as np"
   ]
  },
  {
   "cell_type": "code",
   "execution_count": 73,
   "metadata": {
    "colab": {
     "base_uri": "https://localhost:8080/"
    },
    "executionInfo": {
     "elapsed": 2,
     "status": "ok",
     "timestamp": 1693467730101,
     "user": {
      "displayName": "Rama Chandra Kotturu",
      "userId": "02243285469857073193"
     },
     "user_tz": -330
    },
    "id": "_SLhtZkyiswr",
    "outputId": "18aa5ab8-6e04-4fae-d18f-326725c468f2"
   },
   "outputs": [
    {
     "data": {
      "text/plain": [
       "42"
      ]
     },
     "execution_count": 73,
     "metadata": {},
     "output_type": "execute_result"
    }
   ],
   "source": [
    "len(test)"
   ]
  },
  {
   "cell_type": "code",
   "execution_count": 76,
   "metadata": {
    "colab": {
     "base_uri": "https://localhost:8080/"
    },
    "executionInfo": {
     "elapsed": 518,
     "status": "ok",
     "timestamp": 1693467766053,
     "user": {
      "displayName": "Rama Chandra Kotturu",
      "userId": "02243285469857073193"
     },
     "user_tz": -330
    },
    "id": "kqXS3ZsJiwMb",
    "outputId": "630addbf-cb2f-4cc3-b875-4bbaea4bdcf7"
   },
   "outputs": [
    {
     "data": {
      "text/plain": [
       "100"
      ]
     },
     "execution_count": 76,
     "metadata": {},
     "output_type": "execute_result"
    }
   ],
   "source": [
    "len(pred.values)"
   ]
  },
  {
   "cell_type": "code",
   "execution_count": 78,
   "metadata": {
    "colab": {
     "base_uri": "https://localhost:8080/"
    },
    "executionInfo": {
     "elapsed": 520,
     "status": "ok",
     "timestamp": 1693467797596,
     "user": {
      "displayName": "Rama Chandra Kotturu",
      "userId": "02243285469857073193"
     },
     "user_tz": -330
    },
    "id": "Z6dXqg65i52A",
    "outputId": "0b1a5e48-de22-40f3-a9ec-ba2fc0887970"
   },
   "outputs": [
    {
     "data": {
      "text/plain": [
       "1949-03-01    0.609993\n",
       "1949-04-01    0.609993\n",
       "1949-05-01    0.609993\n",
       "1949-06-01    0.609993\n",
       "1949-07-01    0.609993\n",
       "                ...   \n",
       "1957-02-01    0.609993\n",
       "1957-03-01    0.609993\n",
       "1957-04-01    0.609993\n",
       "1957-05-01    0.609993\n",
       "1957-06-01    0.609993\n",
       "Freq: MS, Name: predicted_mean, Length: 100, dtype: float64"
      ]
     },
     "execution_count": 78,
     "metadata": {},
     "output_type": "execute_result"
    }
   ],
   "source": [
    "\n",
    "model_fit.predict(steps=50)"
   ]
  },
  {
   "cell_type": "code",
   "execution_count": 72,
   "metadata": {
    "colab": {
     "base_uri": "https://localhost:8080/",
     "height": 390
    },
    "executionInfo": {
     "elapsed": 567,
     "status": "error",
     "timestamp": 1693467703312,
     "user": {
      "displayName": "Rama Chandra Kotturu",
      "userId": "02243285469857073193"
     },
     "user_tz": -330
    },
    "id": "j9ZbuHJafJXv",
    "outputId": "614f501b-e2aa-4494-b4ed-9ae6c963d624"
   },
   "outputs": [
    {
     "name": "stderr",
     "output_type": "stream",
     "text": [
      "  0%|          | 0/125 [00:00<?, ?it/s]\n"
     ]
    },
    {
     "ename": "ValueError",
     "evalue": "ignored",
     "output_type": "error",
     "traceback": [
      "\u001b[0;31m---------------------------------------------------------------------------\u001b[0m",
      "\u001b[0;31mValueError\u001b[0m                                Traceback (most recent call last)",
      "\u001b[0;32m<ipython-input-72-4de71744cd5d>\u001b[0m in \u001b[0;36m<cell line: 1>\u001b[0;34m()\u001b[0m\n\u001b[1;32m      3\u001b[0m   \u001b[0mmodel_fit\u001b[0m\u001b[0;34m=\u001b[0m\u001b[0mmodel\u001b[0m\u001b[0;34m.\u001b[0m\u001b[0mfit\u001b[0m\u001b[0;34m(\u001b[0m\u001b[0;34m)\u001b[0m\u001b[0;34m\u001b[0m\u001b[0;34m\u001b[0m\u001b[0m\n\u001b[1;32m      4\u001b[0m   \u001b[0mpred\u001b[0m\u001b[0;34m=\u001b[0m\u001b[0mmodel_fit\u001b[0m\u001b[0;34m.\u001b[0m\u001b[0mpredict\u001b[0m\u001b[0;34m(\u001b[0m\u001b[0msteps\u001b[0m\u001b[0;34m=\u001b[0m\u001b[0;36m42\u001b[0m\u001b[0;34m)\u001b[0m\u001b[0;34m\u001b[0m\u001b[0;34m\u001b[0m\u001b[0m\n\u001b[0;32m----> 5\u001b[0;31m   \u001b[0merror\u001b[0m\u001b[0;34m=\u001b[0m\u001b[0mnp\u001b[0m\u001b[0;34m.\u001b[0m\u001b[0mmean\u001b[0m\u001b[0;34m(\u001b[0m\u001b[0mpred\u001b[0m\u001b[0;34m-\u001b[0m\u001b[0;34m(\u001b[0m\u001b[0mtest\u001b[0m\u001b[0;34m.\u001b[0m\u001b[0mvalues\u001b[0m\u001b[0;34m.\u001b[0m\u001b[0mreshape\u001b[0m\u001b[0;34m(\u001b[0m\u001b[0;34m-\u001b[0m\u001b[0;36m1\u001b[0m\u001b[0;34m)\u001b[0m\u001b[0;34m)\u001b[0m\u001b[0;34m)\u001b[0m\u001b[0;34m\u001b[0m\u001b[0;34m\u001b[0m\u001b[0m\n\u001b[0m\u001b[1;32m      6\u001b[0m   \u001b[0merrors\u001b[0m\u001b[0;34m.\u001b[0m\u001b[0mappend\u001b[0m\u001b[0;34m(\u001b[0m\u001b[0merror\u001b[0m\u001b[0;34m)\u001b[0m\u001b[0;34m\u001b[0m\u001b[0;34m\u001b[0m\u001b[0m\n",
      "\u001b[0;32m/usr/local/lib/python3.10/dist-packages/pandas/core/ops/common.py\u001b[0m in \u001b[0;36mnew_method\u001b[0;34m(self, other)\u001b[0m\n\u001b[1;32m     70\u001b[0m         \u001b[0mother\u001b[0m \u001b[0;34m=\u001b[0m \u001b[0mitem_from_zerodim\u001b[0m\u001b[0;34m(\u001b[0m\u001b[0mother\u001b[0m\u001b[0;34m)\u001b[0m\u001b[0;34m\u001b[0m\u001b[0;34m\u001b[0m\u001b[0m\n\u001b[1;32m     71\u001b[0m \u001b[0;34m\u001b[0m\u001b[0m\n\u001b[0;32m---> 72\u001b[0;31m         \u001b[0;32mreturn\u001b[0m \u001b[0mmethod\u001b[0m\u001b[0;34m(\u001b[0m\u001b[0mself\u001b[0m\u001b[0;34m,\u001b[0m \u001b[0mother\u001b[0m\u001b[0;34m)\u001b[0m\u001b[0;34m\u001b[0m\u001b[0;34m\u001b[0m\u001b[0m\n\u001b[0m\u001b[1;32m     73\u001b[0m \u001b[0;34m\u001b[0m\u001b[0m\n\u001b[1;32m     74\u001b[0m     \u001b[0;32mreturn\u001b[0m \u001b[0mnew_method\u001b[0m\u001b[0;34m\u001b[0m\u001b[0;34m\u001b[0m\u001b[0m\n",
      "\u001b[0;32m/usr/local/lib/python3.10/dist-packages/pandas/core/arraylike.py\u001b[0m in \u001b[0;36m__sub__\u001b[0;34m(self, other)\u001b[0m\n\u001b[1;32m    108\u001b[0m     \u001b[0;34m@\u001b[0m\u001b[0munpack_zerodim_and_defer\u001b[0m\u001b[0;34m(\u001b[0m\u001b[0;34m\"__sub__\"\u001b[0m\u001b[0;34m)\u001b[0m\u001b[0;34m\u001b[0m\u001b[0;34m\u001b[0m\u001b[0m\n\u001b[1;32m    109\u001b[0m     \u001b[0;32mdef\u001b[0m \u001b[0m__sub__\u001b[0m\u001b[0;34m(\u001b[0m\u001b[0mself\u001b[0m\u001b[0;34m,\u001b[0m \u001b[0mother\u001b[0m\u001b[0;34m)\u001b[0m\u001b[0;34m:\u001b[0m\u001b[0;34m\u001b[0m\u001b[0;34m\u001b[0m\u001b[0m\n\u001b[0;32m--> 110\u001b[0;31m         \u001b[0;32mreturn\u001b[0m \u001b[0mself\u001b[0m\u001b[0;34m.\u001b[0m\u001b[0m_arith_method\u001b[0m\u001b[0;34m(\u001b[0m\u001b[0mother\u001b[0m\u001b[0;34m,\u001b[0m \u001b[0moperator\u001b[0m\u001b[0;34m.\u001b[0m\u001b[0msub\u001b[0m\u001b[0;34m)\u001b[0m\u001b[0;34m\u001b[0m\u001b[0;34m\u001b[0m\u001b[0m\n\u001b[0m\u001b[1;32m    111\u001b[0m \u001b[0;34m\u001b[0m\u001b[0m\n\u001b[1;32m    112\u001b[0m     \u001b[0;34m@\u001b[0m\u001b[0munpack_zerodim_and_defer\u001b[0m\u001b[0;34m(\u001b[0m\u001b[0;34m\"__rsub__\"\u001b[0m\u001b[0;34m)\u001b[0m\u001b[0;34m\u001b[0m\u001b[0;34m\u001b[0m\u001b[0m\n",
      "\u001b[0;32m/usr/local/lib/python3.10/dist-packages/pandas/core/series.py\u001b[0m in \u001b[0;36m_arith_method\u001b[0;34m(self, other, op)\u001b[0m\n\u001b[1;32m   6257\u001b[0m     \u001b[0;32mdef\u001b[0m \u001b[0m_arith_method\u001b[0m\u001b[0;34m(\u001b[0m\u001b[0mself\u001b[0m\u001b[0;34m,\u001b[0m \u001b[0mother\u001b[0m\u001b[0;34m,\u001b[0m \u001b[0mop\u001b[0m\u001b[0;34m)\u001b[0m\u001b[0;34m:\u001b[0m\u001b[0;34m\u001b[0m\u001b[0;34m\u001b[0m\u001b[0m\n\u001b[1;32m   6258\u001b[0m         \u001b[0mself\u001b[0m\u001b[0;34m,\u001b[0m \u001b[0mother\u001b[0m \u001b[0;34m=\u001b[0m \u001b[0mops\u001b[0m\u001b[0;34m.\u001b[0m\u001b[0malign_method_SERIES\u001b[0m\u001b[0;34m(\u001b[0m\u001b[0mself\u001b[0m\u001b[0;34m,\u001b[0m \u001b[0mother\u001b[0m\u001b[0;34m)\u001b[0m\u001b[0;34m\u001b[0m\u001b[0;34m\u001b[0m\u001b[0m\n\u001b[0;32m-> 6259\u001b[0;31m         \u001b[0;32mreturn\u001b[0m \u001b[0mbase\u001b[0m\u001b[0;34m.\u001b[0m\u001b[0mIndexOpsMixin\u001b[0m\u001b[0;34m.\u001b[0m\u001b[0m_arith_method\u001b[0m\u001b[0;34m(\u001b[0m\u001b[0mself\u001b[0m\u001b[0;34m,\u001b[0m \u001b[0mother\u001b[0m\u001b[0;34m,\u001b[0m \u001b[0mop\u001b[0m\u001b[0;34m)\u001b[0m\u001b[0;34m\u001b[0m\u001b[0;34m\u001b[0m\u001b[0m\n\u001b[0m\u001b[1;32m   6260\u001b[0m \u001b[0;34m\u001b[0m\u001b[0m\n\u001b[1;32m   6261\u001b[0m \u001b[0;34m\u001b[0m\u001b[0m\n",
      "\u001b[0;32m/usr/local/lib/python3.10/dist-packages/pandas/core/base.py\u001b[0m in \u001b[0;36m_arith_method\u001b[0;34m(self, other, op)\u001b[0m\n\u001b[1;32m   1323\u001b[0m \u001b[0;34m\u001b[0m\u001b[0m\n\u001b[1;32m   1324\u001b[0m         \u001b[0;32mwith\u001b[0m \u001b[0mnp\u001b[0m\u001b[0;34m.\u001b[0m\u001b[0merrstate\u001b[0m\u001b[0;34m(\u001b[0m\u001b[0mall\u001b[0m\u001b[0;34m=\u001b[0m\u001b[0;34m\"ignore\"\u001b[0m\u001b[0;34m)\u001b[0m\u001b[0;34m:\u001b[0m\u001b[0;34m\u001b[0m\u001b[0;34m\u001b[0m\u001b[0m\n\u001b[0;32m-> 1325\u001b[0;31m             \u001b[0mresult\u001b[0m \u001b[0;34m=\u001b[0m \u001b[0mops\u001b[0m\u001b[0;34m.\u001b[0m\u001b[0marithmetic_op\u001b[0m\u001b[0;34m(\u001b[0m\u001b[0mlvalues\u001b[0m\u001b[0;34m,\u001b[0m \u001b[0mrvalues\u001b[0m\u001b[0;34m,\u001b[0m \u001b[0mop\u001b[0m\u001b[0;34m)\u001b[0m\u001b[0;34m\u001b[0m\u001b[0;34m\u001b[0m\u001b[0m\n\u001b[0m\u001b[1;32m   1326\u001b[0m \u001b[0;34m\u001b[0m\u001b[0m\n\u001b[1;32m   1327\u001b[0m         \u001b[0;32mreturn\u001b[0m \u001b[0mself\u001b[0m\u001b[0;34m.\u001b[0m\u001b[0m_construct_result\u001b[0m\u001b[0;34m(\u001b[0m\u001b[0mresult\u001b[0m\u001b[0;34m,\u001b[0m \u001b[0mname\u001b[0m\u001b[0;34m=\u001b[0m\u001b[0mres_name\u001b[0m\u001b[0;34m)\u001b[0m\u001b[0;34m\u001b[0m\u001b[0;34m\u001b[0m\u001b[0m\n",
      "\u001b[0;32m/usr/local/lib/python3.10/dist-packages/pandas/core/ops/array_ops.py\u001b[0m in \u001b[0;36marithmetic_op\u001b[0;34m(left, right, op)\u001b[0m\n\u001b[1;32m    224\u001b[0m         \u001b[0;31m# error: Argument 1 to \"_na_arithmetic_op\" has incompatible type\u001b[0m\u001b[0;34m\u001b[0m\u001b[0;34m\u001b[0m\u001b[0m\n\u001b[1;32m    225\u001b[0m         \u001b[0;31m# \"Union[ExtensionArray, ndarray[Any, Any]]\"; expected \"ndarray[Any, Any]\"\u001b[0m\u001b[0;34m\u001b[0m\u001b[0;34m\u001b[0m\u001b[0m\n\u001b[0;32m--> 226\u001b[0;31m         \u001b[0mres_values\u001b[0m \u001b[0;34m=\u001b[0m \u001b[0m_na_arithmetic_op\u001b[0m\u001b[0;34m(\u001b[0m\u001b[0mleft\u001b[0m\u001b[0;34m,\u001b[0m \u001b[0mright\u001b[0m\u001b[0;34m,\u001b[0m \u001b[0mop\u001b[0m\u001b[0;34m)\u001b[0m  \u001b[0;31m# type: ignore[arg-type]\u001b[0m\u001b[0;34m\u001b[0m\u001b[0;34m\u001b[0m\u001b[0m\n\u001b[0m\u001b[1;32m    227\u001b[0m \u001b[0;34m\u001b[0m\u001b[0m\n\u001b[1;32m    228\u001b[0m     \u001b[0;32mreturn\u001b[0m \u001b[0mres_values\u001b[0m\u001b[0;34m\u001b[0m\u001b[0;34m\u001b[0m\u001b[0m\n",
      "\u001b[0;32m/usr/local/lib/python3.10/dist-packages/pandas/core/ops/array_ops.py\u001b[0m in \u001b[0;36m_na_arithmetic_op\u001b[0;34m(left, right, op, is_cmp)\u001b[0m\n\u001b[1;32m    163\u001b[0m \u001b[0;34m\u001b[0m\u001b[0m\n\u001b[1;32m    164\u001b[0m     \u001b[0;32mtry\u001b[0m\u001b[0;34m:\u001b[0m\u001b[0;34m\u001b[0m\u001b[0;34m\u001b[0m\u001b[0m\n\u001b[0;32m--> 165\u001b[0;31m         \u001b[0mresult\u001b[0m \u001b[0;34m=\u001b[0m \u001b[0mfunc\u001b[0m\u001b[0;34m(\u001b[0m\u001b[0mleft\u001b[0m\u001b[0;34m,\u001b[0m \u001b[0mright\u001b[0m\u001b[0;34m)\u001b[0m\u001b[0;34m\u001b[0m\u001b[0;34m\u001b[0m\u001b[0m\n\u001b[0m\u001b[1;32m    166\u001b[0m     \u001b[0;32mexcept\u001b[0m \u001b[0mTypeError\u001b[0m\u001b[0;34m:\u001b[0m\u001b[0;34m\u001b[0m\u001b[0;34m\u001b[0m\u001b[0m\n\u001b[1;32m    167\u001b[0m         \u001b[0;32mif\u001b[0m \u001b[0;32mnot\u001b[0m \u001b[0mis_cmp\u001b[0m \u001b[0;32mand\u001b[0m \u001b[0;34m(\u001b[0m\u001b[0mis_object_dtype\u001b[0m\u001b[0;34m(\u001b[0m\u001b[0mleft\u001b[0m\u001b[0;34m.\u001b[0m\u001b[0mdtype\u001b[0m\u001b[0;34m)\u001b[0m \u001b[0;32mor\u001b[0m \u001b[0mis_object_dtype\u001b[0m\u001b[0;34m(\u001b[0m\u001b[0mright\u001b[0m\u001b[0;34m)\u001b[0m\u001b[0;34m)\u001b[0m\u001b[0;34m:\u001b[0m\u001b[0;34m\u001b[0m\u001b[0;34m\u001b[0m\u001b[0m\n",
      "\u001b[0;32m/usr/local/lib/python3.10/dist-packages/pandas/core/computation/expressions.py\u001b[0m in \u001b[0;36mevaluate\u001b[0;34m(op, a, b, use_numexpr)\u001b[0m\n\u001b[1;32m    239\u001b[0m         \u001b[0;32mif\u001b[0m \u001b[0muse_numexpr\u001b[0m\u001b[0;34m:\u001b[0m\u001b[0;34m\u001b[0m\u001b[0;34m\u001b[0m\u001b[0m\n\u001b[1;32m    240\u001b[0m             \u001b[0;31m# error: \"None\" not callable\u001b[0m\u001b[0;34m\u001b[0m\u001b[0;34m\u001b[0m\u001b[0m\n\u001b[0;32m--> 241\u001b[0;31m             \u001b[0;32mreturn\u001b[0m \u001b[0m_evaluate\u001b[0m\u001b[0;34m(\u001b[0m\u001b[0mop\u001b[0m\u001b[0;34m,\u001b[0m \u001b[0mop_str\u001b[0m\u001b[0;34m,\u001b[0m \u001b[0ma\u001b[0m\u001b[0;34m,\u001b[0m \u001b[0mb\u001b[0m\u001b[0;34m)\u001b[0m  \u001b[0;31m# type: ignore[misc]\u001b[0m\u001b[0;34m\u001b[0m\u001b[0;34m\u001b[0m\u001b[0m\n\u001b[0m\u001b[1;32m    242\u001b[0m     \u001b[0;32mreturn\u001b[0m \u001b[0m_evaluate_standard\u001b[0m\u001b[0;34m(\u001b[0m\u001b[0mop\u001b[0m\u001b[0;34m,\u001b[0m \u001b[0mop_str\u001b[0m\u001b[0;34m,\u001b[0m \u001b[0ma\u001b[0m\u001b[0;34m,\u001b[0m \u001b[0mb\u001b[0m\u001b[0;34m)\u001b[0m\u001b[0;34m\u001b[0m\u001b[0;34m\u001b[0m\u001b[0m\n\u001b[1;32m    243\u001b[0m \u001b[0;34m\u001b[0m\u001b[0m\n",
      "\u001b[0;32m/usr/local/lib/python3.10/dist-packages/pandas/core/computation/expressions.py\u001b[0m in \u001b[0;36m_evaluate_numexpr\u001b[0;34m(op, op_str, a, b)\u001b[0m\n\u001b[1;32m    127\u001b[0m \u001b[0;34m\u001b[0m\u001b[0m\n\u001b[1;32m    128\u001b[0m     \u001b[0;32mif\u001b[0m \u001b[0mresult\u001b[0m \u001b[0;32mis\u001b[0m \u001b[0;32mNone\u001b[0m\u001b[0;34m:\u001b[0m\u001b[0;34m\u001b[0m\u001b[0;34m\u001b[0m\u001b[0m\n\u001b[0;32m--> 129\u001b[0;31m         \u001b[0mresult\u001b[0m \u001b[0;34m=\u001b[0m \u001b[0m_evaluate_standard\u001b[0m\u001b[0;34m(\u001b[0m\u001b[0mop\u001b[0m\u001b[0;34m,\u001b[0m \u001b[0mop_str\u001b[0m\u001b[0;34m,\u001b[0m \u001b[0ma\u001b[0m\u001b[0;34m,\u001b[0m \u001b[0mb\u001b[0m\u001b[0;34m)\u001b[0m\u001b[0;34m\u001b[0m\u001b[0;34m\u001b[0m\u001b[0m\n\u001b[0m\u001b[1;32m    130\u001b[0m \u001b[0;34m\u001b[0m\u001b[0m\n\u001b[1;32m    131\u001b[0m     \u001b[0;32mreturn\u001b[0m \u001b[0mresult\u001b[0m\u001b[0;34m\u001b[0m\u001b[0;34m\u001b[0m\u001b[0m\n",
      "\u001b[0;32m/usr/local/lib/python3.10/dist-packages/pandas/core/computation/expressions.py\u001b[0m in \u001b[0;36m_evaluate_standard\u001b[0;34m(op, op_str, a, b)\u001b[0m\n\u001b[1;32m     68\u001b[0m     \u001b[0;32mif\u001b[0m \u001b[0m_TEST_MODE\u001b[0m\u001b[0;34m:\u001b[0m\u001b[0;34m\u001b[0m\u001b[0;34m\u001b[0m\u001b[0m\n\u001b[1;32m     69\u001b[0m         \u001b[0m_store_test_result\u001b[0m\u001b[0;34m(\u001b[0m\u001b[0;32mFalse\u001b[0m\u001b[0;34m)\u001b[0m\u001b[0;34m\u001b[0m\u001b[0;34m\u001b[0m\u001b[0m\n\u001b[0;32m---> 70\u001b[0;31m     \u001b[0;32mreturn\u001b[0m \u001b[0mop\u001b[0m\u001b[0;34m(\u001b[0m\u001b[0ma\u001b[0m\u001b[0;34m,\u001b[0m \u001b[0mb\u001b[0m\u001b[0;34m)\u001b[0m\u001b[0;34m\u001b[0m\u001b[0;34m\u001b[0m\u001b[0m\n\u001b[0m\u001b[1;32m     71\u001b[0m \u001b[0;34m\u001b[0m\u001b[0m\n\u001b[1;32m     72\u001b[0m \u001b[0;34m\u001b[0m\u001b[0m\n",
      "\u001b[0;31mValueError\u001b[0m: operands could not be broadcast together with shapes (100,) (42,) "
     ]
    }
   ],
   "source": [
    "for i in tqdm(pdq):\n",
    "  model=ARIMA(train,order=i)\n",
    "  model_fit=model.fit()\n",
    "  pred=model_fit.predict(steps=42)\n",
    "  error=np.mean(pred-(test.values.reshape(-1)))\n",
    "  errors.append(error)"
   ]
  },
  {
   "cell_type": "code",
   "execution_count": 86,
   "metadata": {
    "colab": {
     "base_uri": "https://localhost:8080/"
    },
    "executionInfo": {
     "elapsed": 9,
     "status": "ok",
     "timestamp": 1693467963699,
     "user": {
      "displayName": "Rama Chandra Kotturu",
      "userId": "02243285469857073193"
     },
     "user_tz": -330
    },
    "id": "4dJQ0J7FiByy",
    "outputId": "4c43ac5b-42f5-4104-d81d-4bd081ef29b7"
   },
   "outputs": [
    {
     "data": {
      "text/plain": [
       "1957-07-01    0.609993\n",
       "1957-08-01    0.609993\n",
       "1957-09-01    0.609993\n",
       "1957-10-01    0.609993\n",
       "Freq: MS, Name: predicted_mean, dtype: float64"
      ]
     },
     "execution_count": 86,
     "metadata": {},
     "output_type": "execute_result"
    }
   ],
   "source": [
    "\n",
    "model_fit.forecast(steps=4)"
   ]
  },
  {
   "cell_type": "code",
   "execution_count": 87,
   "metadata": {
    "colab": {
     "base_uri": "https://localhost:8080/"
    },
    "executionInfo": {
     "elapsed": 33581,
     "status": "ok",
     "timestamp": 1693468003657,
     "user": {
      "displayName": "Rama Chandra Kotturu",
      "userId": "02243285469857073193"
     },
     "user_tz": -330
    },
    "id": "UoHu7jQtdPfx",
    "outputId": "f69e0765-4e65-4f95-b49a-48130fe2f16e"
   },
   "outputs": [
    {
     "name": "stderr",
     "output_type": "stream",
     "text": [
      "100%|██████████| 125/125 [00:33<00:00,  3.77it/s]\n"
     ]
    }
   ],
   "source": [
    "errors=[]\n",
    "for i in tqdm(pdq):\n",
    "  try:\n",
    "    model=ARIMA(train,order=i)\n",
    "    model_fit=model.fit()\n",
    "    pred=model_fit.forecast(steps=42)\n",
    "    error=np.mean(pred-(test.values.reshape(-1)))\n",
    "    errors.append(error)\n",
    "  except:\n",
    "    print(\"Eception for pdq values\",i)"
   ]
  },
  {
   "cell_type": "code",
   "execution_count": 88,
   "metadata": {
    "colab": {
     "base_uri": "https://localhost:8080/"
    },
    "executionInfo": {
     "elapsed": 558,
     "status": "ok",
     "timestamp": 1693468008190,
     "user": {
      "displayName": "Rama Chandra Kotturu",
      "userId": "02243285469857073193"
     },
     "user_tz": -330
    },
    "id": "em9P2k2ihq2c",
    "outputId": "43f03fa9-3c49-4d41-81d9-ef193739c458"
   },
   "outputs": [
    {
     "data": {
      "text/plain": [
       "20"
      ]
     },
     "execution_count": 88,
     "metadata": {},
     "output_type": "execute_result"
    }
   ],
   "source": [
    "np.argmin(errors)"
   ]
  },
  {
   "cell_type": "code",
   "execution_count": 89,
   "metadata": {
    "colab": {
     "base_uri": "https://localhost:8080/"
    },
    "executionInfo": {
     "elapsed": 10,
     "status": "ok",
     "timestamp": 1693468048395,
     "user": {
      "displayName": "Rama Chandra Kotturu",
      "userId": "02243285469857073193"
     },
     "user_tz": -330
    },
    "id": "yl0Gz2Rnhv91",
    "outputId": "ad79f6b2-ad23-4540-e903-e94ae98c5a38"
   },
   "outputs": [
    {
     "data": {
      "text/plain": [
       "(0, 4, 0)"
      ]
     },
     "execution_count": 89,
     "metadata": {},
     "output_type": "execute_result"
    }
   ],
   "source": [
    "pdq[20]"
   ]
  },
  {
   "cell_type": "code",
   "execution_count": 90,
   "metadata": {
    "colab": {
     "base_uri": "https://localhost:8080/"
    },
    "executionInfo": {
     "elapsed": 550,
     "status": "ok",
     "timestamp": 1693468186382,
     "user": {
      "displayName": "Rama Chandra Kotturu",
      "userId": "02243285469857073193"
     },
     "user_tz": -330
    },
    "id": "HBoKIq5QkaoU",
    "outputId": "e14dbd81-9bda-4f53-db7a-e2b42050c376"
   },
   "outputs": [
    {
     "data": {
      "text/plain": [
       "999.1191229395583"
      ]
     },
     "execution_count": 90,
     "metadata": {},
     "output_type": "execute_result"
    }
   ],
   "source": [
    "model_fit.aic"
   ]
  },
  {
   "cell_type": "code",
   "execution_count": 100,
   "metadata": {
    "colab": {
     "base_uri": "https://localhost:8080/"
    },
    "collapsed": true,
    "executionInfo": {
     "elapsed": 908757,
     "status": "ok",
     "timestamp": 1693469408782,
     "user": {
      "displayName": "Rama Chandra Kotturu",
      "userId": "02243285469857073193"
     },
     "user_tz": -330
    },
    "id": "R1a12QbPwFG8",
    "jupyter": {
     "outputs_hidden": true
    },
    "outputId": "68b33423-3637-420f-dd55-0c0087d9e8ab"
   },
   "outputs": [
    {
     "name": "stdout",
     "output_type": "stream",
     "text": [
      "(0, 0, 0) 967.9135518309452\n",
      "(0, 0, 1) 931.437280929419\n",
      "(0, 0, 2) 925.7296655464182\n",
      "(0, 0, 3) 920.9009364897902\n",
      "(0, 0, 4) 912.6569768339517\n",
      "(0, 0, 5) 907.0176538646263\n",
      "(0, 0, 6) 903.8949423852459\n",
      "(0, 0, 7) 905.4333446017557\n",
      "(0, 0, 8) 897.869838431175\n",
      "(0, 0, 9) 893.684814987757\n",
      "(0, 1, 0) 1046.731900142016\n",
      "(0, 1, 1) 963.8739376328664\n",
      "(0, 1, 2) 933.2125287614529\n",
      "(0, 1, 3) 926.5735345709547\n",
      "(0, 1, 4) 924.311440497753\n",
      "(0, 1, 5) 935.7761962652886\n",
      "(0, 1, 6) 916.1952874839209\n",
      "(0, 1, 7) 911.5928196612933\n",
      "(0, 1, 8) 928.0704901616217\n",
      "(0, 1, 9) 927.0791745914785\n",
      "(0, 2, 0) 1143.9983209809495\n",
      "(0, 2, 1) 1043.7570584051596\n",
      "(0, 2, 2) 966.1635269119719\n",
      "(0, 2, 3) 941.6105704456721\n",
      "(0, 2, 4) 933.7570309670567\n",
      "(0, 2, 5) 931.0392665234142\n",
      "(0, 2, 6) 936.5439765990566\n",
      "(0, 2, 7) 975.2136950137133\n",
      "(0, 2, 8) 966.0230529243365\n",
      "(0, 2, 9) 930.5613077910859\n",
      "(0, 3, 0) 1247.2070979765779\n",
      "(0, 3, 1) 1139.8659459615042\n",
      "(0, 3, 2) 1044.647152895406\n",
      "(0, 3, 3) 972.3661898206504\n",
      "(0, 3, 4) 956.8502575439479\n",
      "(0, 3, 5) 986.7523109442758\n",
      "(0, 3, 6) 985.7533856214076\n",
      "(0, 3, 7) 1000.0729079638427\n",
      "(0, 3, 8) 1012.0991332881521\n",
      "(0, 3, 9) 945.1082646792081\n",
      "(0, 4, 0) 1351.0676096879743\n",
      "(0, 4, 1) 1241.6050826066603\n",
      "(0, 4, 2) 1139.2023453933557\n",
      "(0, 4, 3) 1048.6640964293783\n",
      "(0, 4, 4) 985.145841274531\n",
      "(0, 4, 5) 973.1111345035081\n",
      "(0, 4, 6) 1085.9315740771435\n",
      "(0, 4, 7) 1053.9807531353526\n",
      "(0, 4, 8) 1119.6012173486777\n",
      "(0, 4, 9) 1028.818953603325\n",
      "(0, 5, 0) 1452.9649643366706\n",
      "(0, 5, 1) 1343.5106408797888\n",
      "(0, 5, 2) 1238.625135785625\n",
      "(0, 5, 3) 1140.6858455598426\n",
      "(0, 5, 4) 1077.9960680013407\n",
      "(0, 5, 5) 1210.577289261909\n",
      "(0, 5, 6) 1103.206393508929\n",
      "(0, 5, 7) 1276.2683305357225\n",
      "(0, 5, 8) 1098.4364525987423\n",
      "(0, 5, 9) 1310.176978864697\n",
      "(0, 6, 0) 1552.5341111429987\n",
      "(0, 6, 1) 1443.5784458703056\n",
      "(0, 6, 2) 1341.0322853261189\n",
      "(0, 6, 3) 1237.515706858908\n",
      "(0, 6, 4) 1156.0903284682486\n",
      "(0, 6, 5) 1295.0931039394989\n",
      "(0, 6, 6) 1019.1278858568472\n",
      "(0, 6, 7) 1119.1767845303566\n",
      "(0, 6, 8) 1212.7590076740673\n",
      "(0, 6, 9) 1092.3314896521886\n",
      "(0, 7, 0) 1650.8545465296258\n",
      "(0, 7, 1) 1541.5584795800612\n",
      "(0, 7, 2) 1439.104969723184\n",
      "(0, 7, 3) 1334.8931640463245\n",
      "(0, 7, 4) 1240.792658775075\n",
      "(0, 7, 5) 1428.3341259098454\n",
      "(0, 7, 6) 1179.0857919254531\n",
      "(0, 7, 7) 1403.5925550761242\n",
      "(0, 7, 8) 1422.1439467716418\n",
      "(0, 7, 9) 1123.0717545203702\n",
      "(0, 8, 0) 1749.0734505695848\n",
      "(0, 8, 1) 1638.455723218377\n",
      "(0, 8, 2) 1535.2211324320015\n",
      "(0, 8, 3) 1430.7944245231179\n",
      "(0, 8, 4) 1335.9172977508072\n",
      "(0, 8, 5) 1455.132614215123\n",
      "(0, 8, 6) 1446.0781610449637\n",
      "(0, 8, 7) 1390.4505934345152\n",
      "(0, 8, 8) 1414.549167054499\n",
      "(0, 8, 9) 1497.827558869074\n",
      "(0, 9, 0) 1847.3259098254655\n",
      "(0, 9, 1) 1735.323197635042\n",
      "(0, 9, 2) 1630.3714305333367\n",
      "(0, 9, 3) 1524.8526070187754\n",
      "(0, 9, 4) 1429.5456427848608\n",
      "(0, 9, 5) 1535.6747393981652\n",
      "(0, 9, 6) 1535.6242476034827\n",
      "(0, 9, 7) 1533.403045186374\n",
      "(0, 9, 8) 1506.895313535398\n",
      "(0, 9, 9) 1571.2870597171616\n",
      "(1, 0, 0) 963.0127961436175\n",
      "(1, 0, 1) 928.7077563207054\n",
      "(1, 0, 2) 919.8685633709689\n",
      "(1, 0, 3) 921.8388139851853\n",
      "(1, 0, 4) 923.3886062580414\n",
      "(1, 0, 5) 909.1696146479861\n",
      "(1, 0, 6) 907.7582772384659\n",
      "(1, 0, 7) 908.2599719484605\n",
      "(1, 0, 8) 896.5947601651541\n",
      "(1, 0, 9) 903.7987724507153\n",
      "(1, 1, 0) 1021.0396389673773\n",
      "(1, 1, 1) 959.4979669272896\n",
      "(1, 1, 2) 962.9514176608656\n",
      "(1, 1, 3) 923.2263404410297\n",
      "(1, 1, 4) 923.1011932244204\n",
      "(1, 1, 5) 925.227145453751\n",
      "(1, 1, 6) 928.6297577969024\n",
      "(1, 1, 7) 912.0314186942437\n",
      "(1, 1, 8) 915.7016513581018\n",
      "(1, 1, 9) 932.7904213080488\n",
      "(1, 2, 0) 1098.8738469116902\n",
      "(1, 2, 1) 1019.1218015523782\n",
      "(1, 2, 2) 962.4935859639281\n",
      "(1, 2, 3) 965.1462462561515\n",
      "(1, 2, 4) 931.2406508334877\n",
      "(1, 2, 5) 931.7089187521565\n",
      "(1, 2, 6) 950.6526017203331\n",
      "(1, 2, 7) 936.5573627193448\n",
      "(1, 2, 8) 939.2913586214345\n",
      "(1, 2, 9) 925.8322947327231\n",
      "(1, 3, 0) 1186.5053670162795\n",
      "(1, 3, 1) 1096.1395155128578\n",
      "(1, 3, 2) 1021.3161897280557\n",
      "(1, 3, 3) 1048.413207991217\n",
      "(1, 3, 4) 971.2003220830273\n",
      "(1, 3, 5) 958.9288256055083\n",
      "(1, 3, 6) 950.1596388065844\n",
      "(1, 3, 7) 948.7408046495934\n",
      "(1, 3, 8) 949.6191124284888\n",
      "(1, 3, 9) 953.4866151649816\n",
      "(1, 4, 0) 1279.6340971681086\n",
      "(1, 4, 1) 1182.4415145947798\n",
      "(1, 4, 2) 1096.9076600895378\n",
      "(1, 4, 3) 1141.7606737837302\n",
      "(1, 4, 4) 1050.099484199929\n",
      "(1, 4, 5) 987.2195942347303\n",
      "(1, 4, 6) 977.4186265562926\n",
      "(1, 4, 7) 964.8930380146387\n",
      "(1, 4, 8) 965.0400254041022\n",
      "(1, 4, 9) 1010.7169723682039\n",
      "(1, 5, 0) 1375.134114245017\n",
      "(1, 5, 1) 1273.3285984052116\n",
      "(1, 5, 2) 1180.8750470200457\n",
      "(1, 5, 3) 1099.7921881353168\n",
      "(1, 5, 4) 1143.229424251256\n",
      "(1, 5, 5) 1060.5405543492316\n",
      "(1, 5, 6) 1004.5730926281026\n",
      "(1, 5, 7) 1187.1262046371637\n",
      "(1, 5, 8) 1094.901833534211\n",
      "(1, 5, 9) 1035.1933700899563\n",
      "(1, 6, 0) 1470.231997459334\n",
      "(1, 6, 1) 1366.8752751272377\n",
      "(1, 6, 2) 1269.685759498212\n",
      "(1, 6, 3) 1300.9683007556794\n",
      "(1, 6, 4) 1241.5086847873042\n",
      "(1, 6, 5) 1222.9343695869964\n",
      "(1, 6, 6) 1295.1016986080188\n",
      "(1, 6, 7) 1134.7402671618604\n",
      "(1, 6, 8) 1154.9838363152066\n",
      "(1, 6, 9) 1195.4117011492458\n",
      "(1, 7, 0) 1562.8493235854842\n",
      "(1, 7, 1) 1460.4723674499578\n",
      "(1, 7, 2) 1364.3028879055375\n",
      "(1, 7, 3) 1268.5519809533985\n",
      "(1, 7, 4) 1338.8912164979918\n",
      "(1, 7, 5) 1141.1442571198838\n",
      "(1, 7, 6) 1152.8520023278704\n",
      "(1, 7, 7) 1092.4084564713282\n",
      "(1, 7, 8) 1325.1356270135666\n",
      "(1, 7, 9) 1161.8375597691459\n",
      "(1, 8, 0) 1652.9808701768234\n",
      "(1, 8, 1) 1551.7163789565116\n",
      "(1, 8, 2) 1455.897148467566\n",
      "(1, 8, 3) 1358.0934911074426\n",
      "(1, 8, 4) 1434.8014094804923\n",
      "(1, 8, 5) 861.0052777371279\n",
      "(1, 8, 6) 1244.863976935668\n",
      "(1, 8, 7) 1381.7051104011155\n",
      "(1, 8, 8) 1329.036700811961\n",
      "(1, 8, 9) 1483.263254118861\n",
      "(1, 9, 0) 1741.9970521705661\n",
      "(1, 9, 1) 1640.487533691265\n",
      "(1, 9, 2) 1545.1829351516185\n",
      "(1, 9, 3) 1447.4734471555269\n",
      "(1, 9, 4) 1528.9638604379068\n",
      "(1, 9, 5) 1286.5601409700034\n",
      "(1, 9, 6) 1324.52416909329\n",
      "(1, 9, 7) 1356.8291094955105\n",
      "(1, 9, 8) 1372.177908787322\n",
      "(1, 9, 9) 419.3514840518915\n",
      "(2, 0, 0) 951.2134496277093\n",
      "(2, 0, 1) 926.7745524277805\n",
      "(2, 0, 2) 921.8449192835689\n",
      "(2, 0, 3) 923.4339327758146\n",
      "(2, 0, 4) 907.3464153902802\n",
      "(2, 0, 5) 901.078250588864\n",
      "(2, 0, 6) 895.521647045655\n",
      "(2, 0, 7) 890.5114789417397\n",
      "(2, 0, 8) 908.2907382646722\n",
      "(2, 0, 9) 889.6845022720954\n",
      "(2, 1, 0) 987.8554910217127\n",
      "(2, 1, 1) 948.4595247232809\n",
      "(2, 1, 2) 948.2072908711099\n",
      "(2, 1, 3) 924.3432838318686\n",
      "(2, 1, 4) 920.4699559518424\n",
      "(2, 1, 5) 928.1259427534774\n",
      "(2, 1, 6) 912.6872397588694\n",
      "(2, 1, 7) 901.2910775600824\n",
      "(2, 1, 8) 902.9776153074603\n",
      "(2, 1, 9) 907.0930591124657\n",
      "(2, 2, 0) 1042.4341331127391\n",
      "(2, 2, 1) 987.1969170572569\n",
      "(2, 2, 2) 952.5017557435706\n",
      "(2, 2, 3) 955.5752388377371\n",
      "(2, 2, 4) 961.3103166883557\n",
      "(2, 2, 5) 938.707971624964\n",
      "(2, 2, 6) 934.7941105925821\n",
      "(2, 2, 7) 921.3232039079534\n",
      "(2, 2, 8) 913.8317869895097\n",
      "(2, 2, 9) 931.7182446635395\n",
      "(2, 3, 0) 1112.063883473823\n",
      "(2, 3, 1) 1041.377580935332\n",
      "(2, 3, 2) 991.0088937023881\n",
      "(2, 3, 3) 960.9211500782336\n",
      "(2, 3, 4) 963.0556016216966\n",
      "(2, 3, 5) 951.2572228792438\n",
      "(2, 3, 6) 952.6184647091386\n",
      "(2, 3, 7) 957.8007584226968\n",
      "(2, 3, 8) 949.1249913089537\n",
      "(2, 3, 9) 980.3922361242456\n",
      "(2, 4, 0) 1192.6109731200022\n",
      "(2, 4, 1) 1109.8713349991249\n",
      "(2, 4, 2) 1044.1267068747932\n",
      "(2, 4, 3) 998.4021752443334\n",
      "(2, 4, 4) 1017.8946783076967\n",
      "(2, 4, 5) 1056.413466545297\n",
      "(2, 4, 6) 981.4323000645422\n",
      "(2, 4, 7) 999.2974485347087\n",
      "(2, 4, 8) 970.4416357417771\n",
      "(2, 4, 9) 1001.8408977889467\n",
      "(2, 5, 0) 1278.6493699386342\n",
      "(2, 5, 1) 1188.2692883265777\n",
      "(2, 5, 2) 1110.4519283927195\n",
      "(2, 5, 3) 1049.3519006150802\n",
      "(2, 5, 4) 1010.2158020689542\n",
      "(2, 5, 6) 1023.8301061441241\n",
      "(2, 5, 7) 1071.0333424593816\n",
      "(2, 5, 8) 1039.586414576513\n",
      "(2, 5, 9) 1173.475835084706\n",
      "(2, 6, 0) 1367.975427515913\n",
      "(2, 6, 1) 1272.2969330049166\n",
      "(2, 6, 2) 1187.558747662545\n",
      "(2, 6, 3) 1113.5123243301027\n",
      "(2, 6, 4) 1057.5840377850404\n",
      "(2, 6, 5) 1065.0486925637388\n",
      "(2, 6, 6) 1152.7216425389627\n",
      "(2, 6, 7) 1100.4548201227901\n",
      "(2, 6, 8) 22.0\n",
      "(2, 6, 9) 1146.364925228408\n",
      "(2, 7, 0) 1458.4806589797493\n",
      "(2, 7, 1) 1359.7464935868293\n",
      "(2, 7, 2) 1269.5622514094673\n",
      "(2, 7, 3) 1187.6773371692202\n",
      "(2, 7, 4) 1119.9005106890972\n",
      "(2, 7, 5) 1084.955712673097\n",
      "(2, 7, 6) 1200.2560370547312\n",
      "(2, 7, 7) 928.0850641840709\n",
      "(2, 7, 8) 1372.0498172243085\n",
      "(2, 7, 9) 1274.0059576407605\n",
      "(2, 8, 0) 1547.7027423177713\n",
      "(2, 8, 1) 1448.584593158331\n",
      "(2, 8, 2) 1357.0384038947197\n",
      "(2, 8, 3) 1267.7809964636012\n",
      "(2, 8, 4) 1198.0619895528273\n",
      "(2, 8, 6) 318.2616666788143\n",
      "(2, 8, 7) 1158.8665322886977\n",
      "(2, 8, 8) 1255.5472188848887\n",
      "(2, 8, 9) 1474.0691062899534\n",
      "(2, 9, 0) 1634.2950656494897\n",
      "(2, 9, 1) 1536.4109824091693\n",
      "(2, 9, 2) 1444.076703118831\n",
      "(2, 9, 3) 1351.2200690889447\n",
      "(2, 9, 4) 1274.9002805904315\n",
      "(2, 9, 6) 1453.0518845883528\n",
      "(2, 9, 7) 1554.4142062993542\n",
      "(2, 9, 8) 1557.9082889806648\n",
      "(2, 9, 9) 1560.0495110065194\n",
      "(3, 0, 0) 953.1213128115692\n",
      "(3, 0, 1) 928.7783158627261\n",
      "(3, 0, 2) 923.5861503665318\n",
      "(3, 0, 3) 925.4068400378227\n",
      "(3, 0, 4) 908.940026145636\n",
      "(3, 0, 5) 902.4574016526241\n",
      "(3, 0, 6) 894.1354146252768\n",
      "(3, 0, 7) 880.2753593464339\n",
      "(3, 0, 8) 907.9969709386334\n",
      "(3, 0, 9) 881.9964205560142\n",
      "(3, 1, 0) 988.127045740285\n",
      "(3, 1, 1) 950.4173558485793\n",
      "(3, 1, 2) 947.4292748116219\n",
      "(3, 1, 3) 925.6993666705166\n",
      "(3, 1, 4) 917.3601314189365\n",
      "(3, 1, 5) 918.5939874399608\n",
      "(3, 1, 6) 911.8183418215248\n",
      "(3, 1, 7) 918.0526905952761\n",
      "(3, 1, 8) 886.3517653255863\n",
      "(3, 1, 9) 902.9267842939914\n",
      "(3, 2, 0) 1035.9653947026377\n",
      "(3, 2, 1) 987.7213009078564\n",
      "(3, 2, 2) 988.3429756433477\n",
      "(3, 2, 3) 951.6950856963228\n",
      "(3, 2, 4) 956.1130077212295\n",
      "(3, 2, 5) 941.5523694732348\n",
      "(3, 2, 6) 948.4904179749783\n",
      "(3, 2, 7) 931.0091152525249\n",
      "(3, 2, 8) 937.6981598103487\n",
      "(3, 2, 9) 919.3527547473427\n",
      "(3, 3, 0) 1092.0403291467865\n",
      "(3, 3, 1) 1035.4895473745185\n",
      "(3, 3, 2) 991.8373302211857\n",
      "(3, 3, 3) 992.177695001747\n",
      "(3, 3, 4) 960.0171102013817\n",
      "(3, 3, 5) 958.600759694747\n",
      "(3, 3, 6) 969.8882837801984\n",
      "(3, 3, 7) 965.5384830771793\n",
      "(3, 3, 8) 1009.2084794008699\n",
      "(3, 3, 9) 945.900074696785\n",
      "(3, 4, 0) 1157.4666167735718\n",
      "(3, 4, 1) 1090.8329294513687\n",
      "(3, 4, 2) 1038.9356918299827\n",
      "(3, 4, 3) 1046.4817884184997\n",
      "(3, 4, 4) 999.3986292974062\n",
      "(3, 4, 5) 1084.8665724326734\n",
      "(3, 4, 6) 1022.6802874028576\n",
      "(3, 4, 7) 975.7225274104378\n",
      "(3, 4, 8) 985.2020776356618\n",
      "(3, 4, 9) 1011.5362053026846\n",
      "(3, 5, 0) 1231.1562489889295\n",
      "(3, 5, 1) 1154.4242045989633\n",
      "(3, 5, 2) 1092.6056432289151\n",
      "(3, 5, 3) 1113.4868435482674\n",
      "(3, 5, 4) 1057.5411511896707\n",
      "(3, 5, 5) 1058.8060032110052\n",
      "(3, 5, 6) 989.2819582777161\n",
      "(3, 5, 7) 1024.1042635142012\n",
      "(3, 5, 9) 1031.241850099971\n",
      "(3, 6, 0) 1311.8373199162222\n",
      "(3, 6, 1) 1226.3007691008916\n",
      "(3, 6, 2) 1154.467579310247\n",
      "(3, 6, 3) 1190.1899399634947\n",
      "(3, 6, 4) 1117.5079925616574\n",
      "(3, 6, 5) 1060.9875787300537\n",
      "(3, 6, 6) 1186.5573669267192\n",
      "(3, 6, 8) 1240.8846556682142\n",
      "(3, 6, 9) 1063.120320136347\n",
      "(3, 7, 0) 1397.4453137774717\n",
      "(3, 7, 1) 1305.1736813470936\n",
      "(3, 7, 2) 1226.9875714133937\n",
      "(3, 7, 3) 1157.2170419070396\n",
      "(3, 7, 4) 1191.678118107516\n",
      "(3, 7, 6) 1266.1800112221254\n",
      "(3, 7, 7) 1175.5370124350948\n",
      "(3, 7, 8) 1110.644399191436\n",
      "(3, 7, 9) 1335.7839683562022\n",
      "(3, 8, 0) 1485.3359075677613\n",
      "(3, 8, 1) 1388.8351212102655\n",
      "(3, 8, 2) 1304.0146818379599\n",
      "(3, 8, 3) 1225.0112436172594\n",
      "(3, 8, 4) 1271.659533340189\n",
      "(3, 8, 5) 18.0\n",
      "(3, 8, 6) 1223.144592258847\n",
      "(3, 9, 0) 1572.5572412355125\n",
      "(3, 9, 1) 1475.125418918029\n",
      "(3, 9, 2) 1383.2396265926407\n",
      "(3, 9, 3) 1308.0815510908233\n",
      "(3, 9, 4) 1360.121593735439\n",
      "(3, 9, 5) 1274.8952139623475\n",
      "(3, 9, 6) 20.0\n",
      "(3, 9, 8) 1505.8848465450171\n",
      "(3, 9, 9) 619.3793650466725\n",
      "(4, 0, 0) 938.2795905977849\n",
      "(4, 0, 1) 918.2879118300482\n",
      "(4, 0, 2) 919.7069497401352\n",
      "(4, 0, 3) 904.9117985855074\n",
      "(4, 0, 4) 906.8299730332266\n",
      "(4, 0, 5) 905.6624645915284\n",
      "(4, 0, 6) 895.6615312656069\n",
      "(4, 0, 7) 889.0088982859617\n",
      "(4, 0, 8) 899.7912402384651\n",
      "(4, 0, 9) 886.1453932495476\n",
      "(4, 1, 0) 975.7694853871915\n",
      "(4, 1, 1) 936.4163375313603\n",
      "(4, 1, 2) 920.7403919289442\n",
      "(4, 1, 3) 925.5179765319268\n",
      "(4, 1, 4) 920.2434310570969\n",
      "(4, 1, 5) 913.9629963660283\n",
      "(4, 1, 6) 914.8542500270887\n",
      "(4, 1, 7) 919.1726865757706\n",
      "(4, 1, 8) 887.2454305931404\n",
      "(4, 1, 9) 903.5575658156521\n",
      "(4, 2, 0) 1026.5680206707516\n",
      "(4, 2, 1) 976.1403584517299\n",
      "(4, 2, 2) 941.5076866932689\n",
      "(4, 2, 3) 979.4297425428207\n",
      "(4, 2, 4) 959.7977007600822\n",
      "(4, 2, 5) 942.1198377878405\n",
      "(4, 2, 6) 948.8075359591344\n",
      "(4, 2, 7) 946.6889611660008\n",
      "(4, 2, 8) 909.7987621914726\n",
      "(4, 2, 9) 918.0792019278358\n",
      "(4, 3, 0) 1078.6057399539359\n",
      "(4, 3, 1) 1026.7742645207713\n",
      "(4, 3, 2) 981.318557162669\n",
      "(4, 3, 3) 1028.3799605573622\n",
      "(4, 3, 4) 986.5665318999457\n",
      "(4, 3, 5) 951.2983441610326\n",
      "(4, 3, 6) 992.875849308936\n",
      "(4, 3, 7) 968.2922989915378\n",
      "(4, 3, 8) 972.5389394998823\n",
      "(4, 3, 9) 946.0577593165649\n",
      "(4, 4, 0) 1132.8807846676978\n",
      "(4, 4, 1) 1078.2001450524165\n",
      "(4, 4, 2) 1030.9289659831818\n",
      "(4, 4, 3) 1037.2406028558999\n",
      "(4, 4, 4) 999.1191229395583\n",
      "(4, 4, 5) 999.6280587162911\n",
      "(4, 4, 6) 995.6064375366973\n",
      "(4, 4, 7) 990.2563642374746\n",
      "(4, 4, 8) 1078.2759741779064\n",
      "(4, 4, 9) 961.6993257148633\n",
      "(4, 5, 0) 1189.5696272681039\n",
      "(4, 5, 1) 1130.947525506482\n",
      "(4, 5, 2) 1086.553430812459\n",
      "(4, 5, 3) 1141.1227059805929\n",
      "(4, 5, 4) 1044.4790155641879\n",
      "(4, 5, 5) 1037.472580988093\n",
      "(4, 5, 6) 1012.1426158674315\n",
      "(4, 5, 7) 1013.4760864016231\n",
      "(4, 5, 8) 1117.451532756555\n",
      "(4, 5, 9) 1022.0560690443917\n",
      "(4, 6, 0) 1249.7774249125896\n",
      "(4, 6, 1) 1186.128338421441\n",
      "(4, 6, 2) 1132.2009888126922\n",
      "(4, 6, 3) 1086.2375151597962\n",
      "(4, 6, 5) 1106.9328841928736\n",
      "(4, 6, 7) 1094.8108057479064\n",
      "(4, 6, 8) 1131.2487953053294\n",
      "(4, 6, 9) 1189.4348200504649\n",
      "(4, 7, 0) 1314.5016540480437\n",
      "(4, 7, 1) 1244.7884173243456\n",
      "(4, 7, 2) 1186.718572748526\n",
      "(4, 7, 3) 1136.190421455536\n",
      "(4, 7, 4) 1229.8524667676986\n",
      "(4, 7, 5) 1190.8357700194667\n",
      "(4, 7, 6) 1177.5257356770305\n",
      "(4, 7, 7) 1235.033025190786\n",
      "(4, 7, 8) 1205.2528202585154\n",
      "(4, 7, 9) 1247.6721685112423\n",
      "(4, 8, 0) 1385.1220125785953\n",
      "(4, 8, 1) 1311.0065698253497\n",
      "(4, 8, 2) 1245.3089202303252\n",
      "(4, 8, 3) 1188.2777118709994\n",
      "(4, 8, 4) 1304.1010034340864\n",
      "(4, 8, 5) 1248.415304285712\n",
      "(4, 8, 7) 1311.4952396883104\n",
      "(4, 8, 8) 1312.975930390118\n",
      "(4, 8, 9) 1309.1322328122849\n",
      "(4, 9, 0) 1462.365208025441\n",
      "(4, 9, 1) 1410.2156220814966\n",
      "(4, 9, 2) 1308.1263417969467\n",
      "(4, 9, 3) 1243.6946413983358\n",
      "(4, 9, 4) 1368.9481144857662\n",
      "(4, 9, 5) 1347.2059295754168\n",
      "(4, 9, 6) 1382.0117637370117\n",
      "(4, 9, 7) 1381.4955276021906\n",
      "(4, 9, 8) 1383.870824513421\n",
      "(4, 9, 9) 1381.6187578984284\n",
      "(5, 0, 0) 937.2813273758466\n",
      "(5, 0, 1) 919.858574977692\n",
      "(5, 0, 2) 919.3594147721408\n",
      "(5, 0, 3) 904.5977192152361\n",
      "(5, 0, 4) 906.8322667180064\n",
      "(5, 0, 5) 893.4463097217301\n",
      "(5, 0, 6) 896.6658220375687\n",
      "(5, 0, 7) 888.4154099357863\n",
      "(5, 0, 8) 907.1757309270089\n",
      "(5, 0, 9) 883.2936210521412\n",
      "(5, 1, 0) 963.9695348936725\n",
      "(5, 1, 1) 935.7766944573666\n",
      "(5, 1, 2) 938.8580782307712\n",
      "(5, 1, 3) 923.3365610427919\n",
      "(5, 1, 4) 908.6451535747655\n",
      "(5, 1, 5) 909.1721701875141\n",
      "(5, 1, 6) 917.2250727234208\n",
      "(5, 1, 7) 924.4012009826308\n",
      "(5, 1, 8) 915.4773756584826\n",
      "(5, 1, 9) 907.9345459604857\n",
      "(5, 2, 0) 1016.033170594088\n",
      "(5, 2, 1) 965.0972823023083\n",
      "(5, 2, 2) 941.4354722893374\n",
      "(5, 2, 3) 944.0867130170603\n",
      "(5, 2, 4) 979.9570179890991\n",
      "(5, 2, 5) 936.9346333582323\n",
      "(5, 2, 6) 928.3456546356169\n",
      "(5, 2, 7) 948.473000621301\n",
      "(5, 2, 8) 938.4751917229286\n",
      "(5, 3, 0) 1072.481011722103\n",
      "(5, 3, 1) 1016.9724017738572\n",
      "(5, 3, 2) 970.972497611376\n",
      "(5, 3, 3) 1026.1831402356142\n",
      "(5, 3, 4) 994.1250523467442\n",
      "(5, 3, 5) 992.2484274855874\n",
      "(5, 3, 6) 951.0563072548543\n",
      "(5, 3, 7) 971.7444021308858\n",
      "(5, 3, 8) 981.9866460476024\n",
      "(5, 3, 9) 932.3053317986513\n",
      "(5, 4, 0) 1128.3988495978713\n",
      "(5, 4, 1) 1072.6457745929038\n",
      "(5, 4, 2) 1080.54937003047\n",
      "(5, 4, 3) 1077.0970509760145\n",
      "(5, 4, 4) 1039.6295386486884\n",
      "(5, 4, 5) 1039.5476618401087\n",
      "(5, 4, 6) 999.2189886349363\n",
      "(5, 4, 8) 1021.8827851902308\n",
      "(5, 4, 9) 979.9202211697753\n",
      "(5, 5, 0) 1184.9288948814162\n",
      "(5, 5, 1) 1126.9831086193753\n",
      "(5, 5, 2) 1133.6013998871367\n",
      "(5, 5, 3) 1135.046197899996\n",
      "(5, 5, 4) 1083.8410781823814\n",
      "(5, 5, 5) 1088.3890736182752\n",
      "(5, 5, 6) 1044.9046797177505\n",
      "(5, 5, 7) 1055.657975615975\n",
      "(5, 5, 8) 1026.6446951853295\n",
      "(5, 5, 9) 1026.4962427030882\n",
      "(5, 6, 0) 1242.721119251421\n",
      "(5, 6, 1) 1182.0307140043788\n",
      "(5, 6, 2) 1189.341294260641\n",
      "(5, 6, 3) 1136.1570392099045\n",
      "(5, 6, 4) 1093.7336849990934\n",
      "(5, 6, 5) 1111.0251271023697\n",
      "(5, 6, 6) 1066.5960025551217\n",
      "(5, 6, 7) 1052.9487575775765\n",
      "(5, 6, 8) 1080.8146552303874\n",
      "(5, 6, 9) 1106.6623456123825\n",
      "(5, 7, 0) 1302.3182244378695\n",
      "(5, 7, 1) 1242.150020504971\n",
      "(5, 7, 2) 1248.6074127586194\n",
      "(5, 7, 3) 1189.8781960149745\n",
      "(5, 7, 4) 1200.9711646804021\n",
      "(5, 7, 5) 1156.319871632565\n",
      "(5, 7, 6) 1136.4184804392178\n",
      "(5, 7, 8) 1098.1127779965332\n",
      "(5, 7, 9) 1212.0431961962227\n",
      "(5, 8, 0) 1362.3430099271138\n",
      "(5, 8, 2) 1239.550136011173\n",
      "(5, 8, 3) 1246.8387727562751\n",
      "(5, 8, 4) 1286.878756850107\n",
      "(5, 8, 5) 1207.5011790015606\n",
      "(5, 8, 6) 146.12555906150243\n",
      "(5, 8, 7) 26.0\n",
      "(5, 8, 8) 28.0\n",
      "(5, 8, 9) 1247.7134985119126\n",
      "(5, 9, 0) 1423.2342416430977\n",
      "(5, 9, 1) 1379.8140692635516\n",
      "(5, 9, 2) 16.0\n",
      "(5, 9, 3) 1321.318596811175\n",
      "(5, 9, 4) 1321.4677472123917\n",
      "(5, 9, 5) 1331.5445892857815\n",
      "(5, 9, 6) 1354.1739063474693\n",
      "(5, 9, 7) 1353.9171618871856\n",
      "(5, 9, 8) 1361.94023258499\n",
      "(5, 9, 9) 1362.6138222414572\n",
      "(6, 0, 0) 939.0470983650144\n",
      "(6, 0, 1) 921.0769845763078\n",
      "(6, 0, 2) 921.3464483233912\n",
      "(6, 0, 3) 923.3575969688437\n",
      "(6, 0, 4) 909.5964081661068\n",
      "(6, 0, 5) 910.3074888777998\n",
      "(6, 0, 6) 902.9184971271521\n",
      "(6, 0, 7) 890.8379458990463\n",
      "(6, 0, 8) 906.7783052902189\n",
      "(6, 0, 9) 878.0385620951556\n",
      "(6, 1, 0) 953.0235517994381\n",
      "(6, 1, 1) 937.6129273695034\n",
      "(6, 1, 2) 936.4087873406563\n",
      "(6, 1, 3) 917.4025287041308\n",
      "(6, 1, 4) 923.4641336851495\n",
      "(6, 1, 5) 925.136134775834\n",
      "(6, 1, 6) 913.7146305692537\n",
      "(6, 1, 7) 913.7319429380574\n",
      "(6, 1, 8) 911.6299189668807\n",
      "(6, 1, 9) 901.4365867741261\n",
      "(6, 2, 0) 988.2336778614861\n",
      "(6, 2, 1) 954.8614431400357\n",
      "(6, 2, 2) 943.1865134325546\n",
      "(6, 2, 3) 942.1456604769021\n",
      "(6, 2, 4) 953.080805833152\n",
      "(6, 2, 5) 951.3697355703295\n",
      "(6, 2, 6) 936.2916980609681\n",
      "(6, 2, 7) 920.0216797389793\n",
      "(6, 2, 8) 929.2953277741196\n",
      "(6, 2, 9) 917.1544853624061\n",
      "(6, 3, 0) 1038.5142710986177\n",
      "(6, 3, 1) 990.3353610259156\n",
      "(6, 3, 2) 961.7276203924266\n",
      "(6, 3, 3) 969.7671143914317\n",
      "(6, 3, 4) 951.3836809966798\n",
      "(6, 3, 5) 954.368601179999\n",
      "(6, 3, 6) 947.7675918935308\n",
      "(6, 3, 7) 958.8833524458322\n",
      "(6, 3, 8) 958.217311003766\n",
      "(6, 3, 9) 973.9302990340677\n",
      "(6, 4, 0) 1089.0658350548263\n",
      "(6, 4, 1) 1039.9571320490572\n",
      "(6, 4, 2) 998.387867147745\n",
      "(6, 4, 3) 987.1517808191106\n",
      "(6, 4, 4) 1021.0405935060373\n",
      "(6, 4, 5) 971.0049174617282\n",
      "(6, 4, 6) 1006.2218305560009\n",
      "(6, 4, 7) 983.913935237478\n",
      "(6, 4, 8) 30.0\n",
      "(6, 4, 9) 1017.7825448763103\n",
      "(6, 5, 0) 1143.8066068641676\n",
      "(6, 5, 1) 1091.1122526045135\n",
      "(6, 5, 2) 1051.5254976359918\n",
      "(6, 5, 3) 1014.1262491462501\n",
      "(6, 5, 4) 1069.32467359413\n",
      "(6, 5, 5) 1040.1220394394763\n",
      "(6, 5, 6) 1064.035235455933\n",
      "(6, 5, 7) 1038.5654606483365\n",
      "(6, 5, 8) 1071.0681467526297\n",
      "(6, 5, 9) 1075.6477281915998\n",
      "(6, 6, 0) 1206.92893203851\n",
      "(6, 6, 1) 1146.1444814489917\n",
      "(6, 6, 2) 1099.047086022716\n",
      "(6, 6, 3) 1136.6821771750692\n",
      "(6, 6, 4) 1052.3022122721331\n",
      "(6, 6, 5) 1118.8485844557576\n",
      "(6, 6, 6) 1138.2369978633312\n",
      "(6, 6, 7) 1106.8340782170376\n",
      "(6, 6, 8) 1130.1110672697457\n",
      "(6, 6, 9) 1141.7672232501118\n",
      "(6, 7, 0) 1276.268733998271\n",
      "(6, 7, 1) 1214.3429407178116\n",
      "(6, 7, 2) 1149.5711376265976\n",
      "(6, 7, 3) 1098.4538634304918\n",
      "(6, 7, 4) 1072.8571027105795\n",
      "(6, 7, 5) 1178.137072940858\n",
      "(6, 7, 6) 1201.9147111553286\n",
      "(6, 7, 7) 1207.8216270130795\n",
      "(6, 7, 9) 1200.3111232066847\n",
      "(6, 8, 0) 1346.2703086230974\n",
      "(6, 8, 1) 1271.564097848488\n",
      "(6, 8, 2) 1209.4241896187782\n",
      "(6, 8, 3) 1239.6694532659656\n",
      "(6, 8, 4) 1242.5048400717958\n",
      "(6, 8, 5) 1253.3280508292046\n",
      "(6, 8, 6) 1276.0804912885358\n",
      "(6, 8, 7) 1282.3075272373212\n",
      "(6, 8, 8) 1277.4975481442884\n",
      "(6, 8, 9) 1270.6060476743626\n",
      "(6, 9, 0) 1412.7001348096103\n",
      "(6, 9, 1) 1339.8985392749753\n",
      "(6, 9, 2) 1275.9832877225056\n",
      "(6, 9, 3) 1215.1148144357512\n",
      "(6, 9, 4) 1340.3576463570369\n",
      "(6, 9, 5) 1327.3263279538978\n",
      "(6, 9, 6) 1344.7877053628156\n",
      "(6, 9, 7) 1216.9301095075443\n",
      "(6, 9, 8) 1350.8032516273026\n",
      "(6, 9, 9) 1347.8364643339253\n",
      "(7, 0, 0) 940.6369732755408\n",
      "(7, 0, 1) 917.4407808472348\n",
      "(7, 0, 2) 923.1845883306557\n",
      "(7, 0, 3) 911.8139104340216\n",
      "(7, 0, 5) 912.2391559872293\n",
      "(7, 0, 6) 903.1097060531158\n",
      "(7, 0, 7) 889.7993423497604\n",
      "(7, 0, 8) 911.3286363467537\n",
      "(7, 0, 9) 884.2314189650477\n",
      "(7, 1, 0) 955.0199758739358\n",
      "(7, 1, 1) 939.0565715325199\n",
      "(7, 1, 2) 938.3087370229139\n",
      "(7, 1, 3) 918.7957007479412\n",
      "(7, 1, 4) 927.0151201741294\n",
      "(7, 1, 5) 926.6937731554532\n",
      "(7, 1, 6) 914.2491699330411\n",
      "(7, 1, 7) 915.740406613597\n",
      "(7, 1, 8) 904.8182432964539\n",
      "(7, 1, 9) 910.2749185475893\n",
      "(7, 2, 0) 987.8928247394496\n",
      "(7, 2, 1) 956.8544890430538\n",
      "(7, 2, 2) 957.0879968649837\n",
      "(7, 2, 3) 943.1736948525426\n",
      "(7, 2, 4) 945.4267507945093\n",
      "(7, 2, 5) 953.1611393398852\n",
      "(7, 2, 6) 938.1298466452721\n",
      "(7, 2, 7) 929.2152719572417\n",
      "(7, 2, 8) 929.4545515371466\n",
      "(7, 2, 9) 927.1209202061217\n",
      "(7, 3, 0) 1037.2501869491684\n",
      "(7, 3, 1) 990.305278709762\n",
      "(7, 3, 2) 993.6427189329152\n",
      "(7, 3, 3) 964.055490371528\n",
      "(7, 3, 4) 976.9163182581008\n",
      "(7, 3, 5) 952.8236498608127\n",
      "(7, 3, 6) 956.9009960874881\n",
      "(7, 3, 7) 966.0887470049195\n",
      "(7, 3, 8) 946.9955396092987\n",
      "(7, 3, 9) 971.480528937629\n",
      "(7, 4, 0) 1086.0714197554826\n",
      "(7, 4, 1) 1039.0866474594154\n",
      "(7, 4, 2) 1043.6533091462802\n",
      "(7, 4, 3) 1004.7263206960686\n",
      "(7, 4, 4) 976.4046226885125\n",
      "(7, 4, 5) 1013.3698997838322\n",
      "(7, 4, 6) 1000.9427354119716\n",
      "(7, 4, 7) 989.8232894498999\n",
      "(7, 4, 8) 998.0875970950331\n",
      "(7, 4, 9) 993.0461072901844\n",
      "(7, 5, 0) 1129.360344554283\n",
      "(7, 5, 1) 1087.9282356467297\n",
      "(7, 5, 2) 1087.153870878346\n",
      "(7, 5, 3) 1078.6306168363817\n",
      "(7, 5, 4) 1016.1145774889503\n",
      "(7, 5, 5) 1046.4649463795088\n",
      "(7, 5, 6) 1044.5351746571446\n",
      "(7, 5, 7) 1063.7221268347612\n",
      "(7, 5, 8) 988.4440238899153\n",
      "(7, 5, 9) 1061.0066226333247\n",
      "(7, 6, 0) 1168.202526341078\n",
      "(7, 6, 1) 1140.8091432207816\n",
      "(7, 6, 2) 1129.9625943486678\n",
      "(7, 6, 3) 1125.2252594536806\n",
      "(7, 6, 4) 1029.8210242423672\n",
      "(7, 6, 5) 1102.1666300992144\n",
      "(7, 6, 6) 1097.0184429981198\n",
      "(7, 6, 7) 1064.900628580026\n",
      "(7, 6, 8) 1056.2950481651944\n",
      "(7, 6, 9) 1116.1612727819156\n",
      "(7, 7, 0) 1204.830426906557\n",
      "(7, 7, 1) 1178.3437197561354\n",
      "(7, 7, 2) 1168.609750694038\n",
      "(7, 7, 3) 1138.2642195742676\n",
      "(7, 7, 4) 1070.2034800202316\n",
      "(7, 7, 5) 1077.3008988235795\n",
      "(7, 7, 6) 1139.3665582033711\n",
      "(7, 7, 7) 1135.3264498301037\n",
      "(7, 7, 8) 1148.1872270241468\n",
      "(7, 7, 9) 1148.9811979098813\n",
      "(7, 8, 0) 1253.0472048051915\n",
      "(7, 8, 1) 1219.6520958869098\n",
      "(7, 8, 2) 1216.3061262322667\n",
      "(7, 8, 3) 1208.8645776312858\n",
      "(7, 8, 4) 1116.3448934721193\n",
      "(7, 8, 5) 1206.8547641533182\n",
      "(7, 8, 6) 1171.6411230855817\n",
      "(7, 8, 7) 1182.0381419786008\n",
      "(7, 8, 8) 1181.0246144699129\n",
      "(7, 8, 9) 1172.805692095811\n",
      "(7, 9, 0) 1328.5899521544084\n",
      "(7, 9, 1) 1278.2407284280935\n",
      "(7, 9, 2) 1266.4226879349922\n",
      "(7, 9, 3) 1239.3293494364789\n",
      "(7, 9, 4) 1196.0505528624965\n",
      "(7, 9, 5) 1213.974112941575\n",
      "(7, 9, 6) 1225.768872277483\n",
      "(7, 9, 7) 1236.9437723216479\n",
      "(7, 9, 8) 1239.5687009000364\n",
      "(7, 9, 9) 1230.2354482663188\n",
      "(8, 0, 0) 934.7929479624594\n",
      "(8, 0, 1) 896.6720094587853\n",
      "(8, 0, 2) 872.9847168404557\n",
      "(8, 0, 3) 894.4361511939485\n",
      "(8, 0, 4) 871.1694481230832\n",
      "(8, 0, 5) 849.9133667175475\n",
      "(8, 0, 6) 853.7200792369227\n",
      "(8, 0, 7) 852.2441710584283\n",
      "(8, 0, 8) 855.2506576830034\n",
      "(8, 0, 9) 850.3124390930776\n",
      "(8, 1, 0) 948.918636946426\n",
      "(8, 1, 1) 933.8310928201092\n",
      "(8, 1, 2) 934.9578933450035\n",
      "(8, 1, 3) 919.6063847083853\n",
      "(8, 1, 4) 919.9137778744407\n",
      "(8, 1, 5) 914.5657705973739\n",
      "(8, 1, 6) 904.4404982898233\n",
      "(8, 1, 7) 884.8657213686926\n",
      "(8, 1, 8) 899.0234104159397\n",
      "(8, 1, 9) 896.2898472366002\n",
      "(8, 2, 0) 961.4581931864848\n",
      "(8, 2, 1) 951.2627977016515\n",
      "(8, 2, 2) 951.6125009130948\n",
      "(8, 2, 3) 916.1710408518285\n",
      "(8, 2, 4) 942.3339687038498\n",
      "(8, 2, 5) 945.1913348824424\n",
      "(8, 2, 6) 900.2731648605252\n",
      "(8, 2, 7) 891.8890697927803\n",
      "(8, 2, 8) 898.645107553382\n",
      "(8, 2, 9) 902.710026029842\n",
      "(8, 3, 0) 1013.9040861137827\n",
      "(8, 3, 1) 965.0051384466917\n",
      "(8, 3, 2) 965.0173039323863\n",
      "(8, 3, 3) 929.0521212778957\n",
      "(8, 3, 4) 974.311602619543\n",
      "(8, 3, 5) 926.5355966420856\n",
      "(8, 3, 6) 941.6982012223614\n",
      "(8, 3, 7) 933.6380707402117\n",
      "(8, 3, 8) 935.6381805573444\n",
      "(8, 3, 9) 942.9606567580578\n",
      "(8, 4, 0) 1081.451468757644\n",
      "(8, 4, 1) 1016.8333831040292\n",
      "(8, 4, 2) 974.0544500437388\n",
      "(8, 4, 3) 968.8820118153913\n",
      "(8, 4, 4) 1011.7152942417727\n",
      "(8, 4, 5) 985.8791447082936\n",
      "(8, 4, 6) 996.0089391396857\n",
      "(8, 4, 7) 1003.7140017163035\n",
      "(8, 4, 8) 1015.6956909153284\n",
      "(8, 4, 9) 1009.0554916258774\n",
      "(8, 5, 0) 1131.1642422424115\n",
      "(8, 5, 1) 1082.4058891115944\n",
      "(8, 5, 2) 1088.980791641947\n",
      "(8, 5, 3) 993.3005432474653\n",
      "(8, 5, 4) 1053.5187512132238\n",
      "(8, 5, 5) 1061.4786882561382\n",
      "(8, 5, 6) 1047.8000893432654\n",
      "(8, 5, 7) 1063.7038600260898\n",
      "(8, 5, 8) 1027.241768900677\n",
      "(8, 5, 9) 1058.27678204652\n",
      "(8, 6, 0) 1170.1323518606016\n",
      "(8, 6, 1) 1138.9409530015573\n",
      "(8, 6, 2) 1129.3263802613963\n",
      "(8, 6, 3) 1036.5332285031204\n",
      "(8, 6, 4) 1029.0436855747093\n",
      "(8, 6, 5) 1105.6749231787085\n",
      "(8, 6, 6) 1113.194824369924\n",
      "(8, 6, 7) 1070.432900062062\n",
      "(8, 6, 8) 1059.1916300915843\n",
      "(8, 6, 9) 1114.4715507321046\n",
      "(8, 7, 0) 1206.300700080297\n",
      "(8, 7, 1) 1180.8906158310624\n",
      "(8, 7, 2) 1167.5889832922248\n",
      "(8, 7, 3) 1140.0521328285183\n",
      "(8, 7, 4) 1115.6745135216775\n",
      "(8, 7, 5) 1070.6156966058227\n",
      "(8, 7, 6) 1148.13228533196\n",
      "(8, 7, 7) 1143.3053499891294\n",
      "(8, 7, 8) 1145.3564002359533\n",
      "(8, 7, 9) 1148.2679258519547\n",
      "(8, 8, 0) 1241.7220578090787\n",
      "(8, 8, 1) 1258.63110870687\n",
      "(8, 8, 2) 1203.8775711878548\n",
      "(8, 8, 3) 1198.4162803856414\n",
      "(8, 8, 4) 1149.3360752661026\n",
      "(8, 8, 5) 1287.0245421713498\n",
      "(8, 8, 6) 1180.8093484726696\n",
      "(8, 8, 7) 1180.415453421343\n",
      "(8, 8, 8) 1178.7770398014518\n",
      "(8, 8, 9) 1181.3785177432826\n",
      "(8, 9, 0) 1623.573272911139\n",
      "(8, 9, 1) 1341.3106497497706\n",
      "(8, 9, 2) 1269.2156597251262\n",
      "(8, 9, 3) 1218.4709174493305\n",
      "(8, 9, 4) 1160.1826159385034\n",
      "(8, 9, 5) 330.0199790157378\n",
      "(8, 9, 6) 1334.2038021104727\n",
      "(8, 9, 7) 1205.9291547132448\n",
      "(8, 9, 8) 1223.6195898303029\n",
      "(8, 9, 9) 1227.5727849313653\n",
      "(9, 0, 0) 936.7597479366566\n",
      "(9, 0, 1) 893.0023569853196\n",
      "(9, 0, 2) 899.9262656540284\n",
      "(9, 0, 3) 878.7508425353927\n",
      "(9, 0, 4) 870.7410527066055\n",
      "(9, 0, 5) 847.397746420387\n",
      "(9, 0, 6) 848.6556207330184\n",
      "(9, 0, 7) 838.9039936218771\n",
      "(9, 0, 8) 851.4455448279441\n",
      "(9, 0, 9) 851.7249789375242\n",
      "(9, 1, 0) 946.6996285229337\n",
      "(9, 1, 1) 935.8257519681678\n",
      "(9, 1, 2) 916.59905100677\n",
      "(9, 1, 3) 917.4652276261255\n",
      "(9, 1, 4) 905.281271867571\n",
      "(9, 1, 5) 929.8551988248408\n",
      "(9, 1, 6) 889.6936489494726\n",
      "(9, 1, 7) 879.0577364628393\n",
      "(9, 1, 8) 881.4013977320957\n",
      "(9, 1, 9) 898.3965804484865\n",
      "(9, 2, 0) 957.2434768096383\n",
      "(9, 2, 1) 948.6277212927628\n",
      "(9, 2, 2) 950.5759233298256\n",
      "(9, 2, 3) 931.1658184820674\n",
      "(9, 2, 4) 944.1494963156956\n",
      "(9, 2, 5) 931.4979266097494\n",
      "(9, 2, 6) 903.7811929726553\n",
      "(9, 2, 7) 891.2589957786308\n",
      "(9, 2, 8) 898.2172800994531\n",
      "(9, 2, 9) 899.7050725688442\n",
      "(9, 3, 0) 940.24461473322\n",
      "(9, 3, 1) 961.3553076611672\n",
      "(9, 3, 2) 950.8832540318704\n",
      "(9, 3, 3) 919.4996612404506\n",
      "(9, 3, 4) 918.3414383084776\n",
      "(9, 3, 5) 953.1712939613279\n",
      "(9, 3, 6) 972.5839264067014\n",
      "(9, 3, 7) 938.2454431890637\n",
      "(9, 3, 8) 929.8945540419054\n",
      "(9, 3, 9) 935.0414407004088\n",
      "(9, 4, 0) 975.2871451377868\n",
      "(9, 4, 1) 945.5533893185197\n",
      "(9, 4, 2) 972.09646471923\n",
      "(9, 4, 3) 934.924679742189\n",
      "(9, 4, 4) 936.0471246005636\n",
      "(9, 4, 5) 961.4902128100496\n",
      "(9, 4, 6) 939.2505432124901\n",
      "(9, 4, 7) 976.9214135263653\n",
      "(9, 4, 8) 936.8610347428785\n",
      "(9, 4, 9) 971.8765413804601\n",
      "(9, 5, 0) 1059.894919570953\n",
      "(9, 5, 1) 982.6818763975353\n",
      "(9, 5, 2) 975.6200237311306\n",
      "(9, 5, 3) 1005.8787177287495\n",
      "(9, 5, 4) 947.7155993137868\n",
      "(9, 5, 5) 980.4813327908944\n",
      "(9, 5, 6) 989.2406629962554\n",
      "(9, 5, 7) 987.0720947301875\n",
      "(9, 5, 8) 990.6680117755842\n",
      "(9, 5, 9) 973.9828692413225\n",
      "(9, 6, 0) 1141.3091291184412\n",
      "(9, 6, 1) 1071.0795713436696\n",
      "(9, 6, 3) 1078.850846216885\n",
      "(9, 6, 4) 971.5984073589491\n",
      "(9, 6, 5) 1042.2207276405034\n",
      "(9, 6, 6) 1030.3258499181475\n",
      "(9, 6, 7) 1045.1367289341197\n",
      "(9, 6, 8) 1048.3796998078637\n",
      "(9, 6, 9) 1051.9040836011918\n",
      "(9, 7, 0) 1203.537989110286\n",
      "(9, 7, 1) 1159.7511759651663\n",
      "(9, 7, 2) 1089.7115566452387\n",
      "(9, 7, 3) 1009.603455596803\n",
      "(9, 7, 4) 1008.1771218990053\n",
      "(9, 7, 5) 1056.0038885603385\n",
      "(9, 7, 6) 1118.7767771984427\n",
      "(9, 7, 7) 1134.2129388284918\n",
      "(9, 7, 8) 1122.7396280378846\n",
      "(9, 7, 9) 1121.5756190953566\n",
      "(9, 8, 0) 1243.7657067928692\n",
      "(9, 8, 1) 22.0\n",
      "(9, 8, 2) 1171.9356304736473\n",
      "(9, 8, 3) 1178.671901051391\n",
      "(9, 8, 4) 1064.3509116754396\n",
      "(9, 8, 5) 1029.5362729598164\n",
      "(9, 8, 6) 1182.3568944237977\n",
      "(9, 8, 7) 1182.4638614356854\n",
      "(9, 8, 8) 1172.5779076266258\n",
      "(9, 8, 9) 1170.7313794214215\n",
      "(9, 9, 0) 20.0\n",
      "(9, 9, 1) 1251.0519464225945\n",
      "(9, 9, 2) 1237.550356985301\n",
      "(9, 9, 3) 1261.0389646408405\n",
      "(9, 9, 4) 1130.419376432833\n",
      "(9, 9, 5) 1078.1556985471098\n",
      "(9, 9, 6) 1212.6561398676101\n",
      "(9, 9, 7) 1202.627229582338\n",
      "(9, 9, 8) 1200.7480641864704\n",
      "(9, 9, 9) 1202.92019986811\n"
     ]
    }
   ],
   "source": [
    "##The Python try… except statement catches an exception. It is used to test code for an error which is written in the “try” statement.\n",
    "#If an error is encountered, the contents of the “except” block are run.\n",
    "list1=[]\n",
    "list2=[]\n",
    "for params in tqdm(pdq): #iterating params over pdq\n",
    "    try:\n",
    "        model_arima = ARIMA(train, order=params)#training model on various pdq values\n",
    "        model_arima_fit = model_arima.fit()#training\n",
    "        print(params, model_arima_fit.aic)#printing parameter and aic values\n",
    "        list1.append(params)\n",
    "        list2.append(model_arima_fit.aic)\n",
    "    except:\n",
    "        continue"
   ]
  },
  {
   "cell_type": "code",
   "execution_count": 101,
   "metadata": {
    "colab": {
     "base_uri": "https://localhost:8080/"
    },
    "executionInfo": {
     "elapsed": 548,
     "status": "ok",
     "timestamp": 1693469502645,
     "user": {
      "displayName": "Rama Chandra Kotturu",
      "userId": "02243285469857073193"
     },
     "user_tz": -330
    },
    "id": "B34_Kx8hwFG9",
    "outputId": "84434e8f-b3e8-4f96-8867-01c274a2f1eb"
   },
   "outputs": [
    {
     "data": {
      "text/plain": [
       "16.0"
      ]
     },
     "execution_count": 101,
     "metadata": {},
     "output_type": "execute_result"
    }
   ],
   "source": [
    "min(list2)  # lowest aic score"
   ]
  },
  {
   "cell_type": "code",
   "execution_count": 112,
   "metadata": {
    "colab": {
     "base_uri": "https://localhost:8080/"
    },
    "executionInfo": {
     "elapsed": 9,
     "status": "ok",
     "timestamp": 1693469632509,
     "user": {
      "displayName": "Rama Chandra Kotturu",
      "userId": "02243285469857073193"
     },
     "user_tz": -330
    },
    "id": "GpgZqJ6ep9ZW",
    "outputId": "8bcb3795-b5dd-4fed-bd04-e8801c84f6f1"
   },
   "outputs": [
    {
     "data": {
      "text/plain": [
       "575"
      ]
     },
     "execution_count": 112,
     "metadata": {},
     "output_type": "execute_result"
    }
   ],
   "source": [
    "loc"
   ]
  },
  {
   "cell_type": "code",
   "execution_count": 102,
   "metadata": {
    "colab": {
     "base_uri": "https://localhost:8080/"
    },
    "executionInfo": {
     "elapsed": 4,
     "status": "ok",
     "timestamp": 1693469510293,
     "user": {
      "displayName": "Rama Chandra Kotturu",
      "userId": "02243285469857073193"
     },
     "user_tz": -330
    },
    "id": "L32TF7cawFG-",
    "outputId": "09092f06-622e-4cd4-cced-38438bdf1f14"
   },
   "outputs": [
    {
     "data": {
      "text/plain": [
       "(5, 9, 2)"
      ]
     },
     "execution_count": 102,
     "metadata": {},
     "output_type": "execute_result"
    }
   ],
   "source": [
    "# pdq corresponding to lowest aic\n",
    "loc=list2.index(min(list2))\n",
    "list1[loc]"
   ]
  },
  {
   "cell_type": "code",
   "execution_count": 103,
   "metadata": {
    "executionInfo": {
     "elapsed": 907,
     "status": "ok",
     "timestamp": 1693469519972,
     "user": {
      "displayName": "Rama Chandra Kotturu",
      "userId": "02243285469857073193"
     },
     "user_tz": -330
    },
    "id": "2PL5xhE-PvMA",
    "scrolled": true
   },
   "outputs": [],
   "source": [
    "## create the final model with lowest aic score parameter\n",
    "model_arima = ARIMA(train, order=(5,9,2))\n",
    "\n",
    "model_arima_fit = model_arima.fit() #training"
   ]
  },
  {
   "cell_type": "code",
   "execution_count": 104,
   "metadata": {
    "colab": {
     "base_uri": "https://localhost:8080/"
    },
    "collapsed": true,
    "executionInfo": {
     "elapsed": 9,
     "status": "ok",
     "timestamp": 1693469522894,
     "user": {
      "displayName": "Rama Chandra Kotturu",
      "userId": "02243285469857073193"
     },
     "user_tz": -330
    },
    "id": "Zqx0lDWjPvMC",
    "jupyter": {
     "outputs_hidden": true
    },
    "outputId": "e8b001bd-b85f-44eb-b1cb-59bad93dcb11"
   },
   "outputs": [
    {
     "name": "stdout",
     "output_type": "stream",
     "text": [
      "16.0\n"
     ]
    }
   ],
   "source": [
    "print(model_arima_fit.aic) # confirm aic score"
   ]
  },
  {
   "cell_type": "code",
   "execution_count": 105,
   "metadata": {
    "colab": {
     "base_uri": "https://localhost:8080/"
    },
    "collapsed": true,
    "executionInfo": {
     "elapsed": 626,
     "status": "ok",
     "timestamp": 1693469528378,
     "user": {
      "displayName": "Rama Chandra Kotturu",
      "userId": "02243285469857073193"
     },
     "user_tz": -330
    },
    "id": "fPTFDovJPvMD",
    "jupyter": {
     "outputs_hidden": true
    },
    "outputId": "3ad82c33-ffc9-4a46-cd44-ee1dd3a6d8f0"
   },
   "outputs": [
    {
     "data": {
      "text/plain": [
       "42"
      ]
     },
     "execution_count": 105,
     "metadata": {},
     "output_type": "execute_result"
    }
   ],
   "source": [
    "forecast = model_arima_fit.forecast(steps=42)\n",
    "len(forecast)"
   ]
  },
  {
   "cell_type": "code",
   "execution_count": 110,
   "metadata": {
    "colab": {
     "base_uri": "https://localhost:8080/",
     "height": 447
    },
    "executionInfo": {
     "elapsed": 1118,
     "status": "ok",
     "timestamp": 1693469589615,
     "user": {
      "displayName": "Rama Chandra Kotturu",
      "userId": "02243285469857073193"
     },
     "user_tz": -330
    },
    "id": "w2mrwpNhpvVp",
    "outputId": "82348777-13b7-4e5b-ec32-54896ae9a3c4"
   },
   "outputs": [
    {
     "data": {
      "text/plain": [
       "[<matplotlib.lines.Line2D at 0x7845301b2b00>]"
      ]
     },
     "execution_count": 110,
     "metadata": {},
     "output_type": "execute_result"
    },
    {
     "data": {
      "image/png": "[encoded data removed]",
      "text/plain": [
       "<Figure size 640x480 with 1 Axes>"
      ]
     },
     "metadata": {},
     "output_type": "display_data"
    }
   ],
   "source": [
    "plt.plot(test)"
   ]
  },
  {
   "cell_type": "code",
   "execution_count": 111,
   "metadata": {
    "colab": {
     "base_uri": "https://localhost:8080/",
     "height": 462
    },
    "executionInfo": {
     "elapsed": 1152,
     "status": "ok",
     "timestamp": 1693469608916,
     "user": {
      "displayName": "Rama Chandra Kotturu",
      "userId": "02243285469857073193"
     },
     "user_tz": -330
    },
    "id": "QpgogRzOp2Jw",
    "outputId": "bd37cb0f-a1cc-4dda-b42b-255dd8550bdf"
   },
   "outputs": [
    {
     "data": {
      "text/plain": [
       "[<matplotlib.lines.Line2D at 0x78453049f970>]"
      ]
     },
     "execution_count": 111,
     "metadata": {},
     "output_type": "execute_result"
    },
    {
     "data": {
      "image/png": "[encoded data removed]",
      "text/plain": [
       "<Figure size 640x480 with 1 Axes>"
      ]
     },
     "metadata": {},
     "output_type": "display_data"
    }
   ],
   "source": [
    "plt.plot(forecast)"
   ]
  },
  {
   "cell_type": "code",
   "execution_count": null,
   "metadata": {
    "id": "mFyrwwSqlTwm"
   },
   "outputs": [],
   "source": [
    "plt.plot(forecast,color='blue')\n",
    "plt.plot(test,color='red')"
   ]
  },
  {
   "cell_type": "code",
   "execution_count": 118,
   "metadata": {
    "colab": {
     "base_uri": "https://localhost:8080/",
     "height": 462
    },
    "collapsed": true,
    "executionInfo": {
     "elapsed": 8,
     "status": "ok",
     "timestamp": 1693469725014,
     "user": {
      "displayName": "Rama Chandra Kotturu",
      "userId": "02243285469857073193"
     },
     "user_tz": -330
    },
    "id": "YjOdDXopPvMF",
    "jupyter": {
     "outputs_hidden": true
    },
    "outputId": "88b93bc9-c018-4aa8-c95d-e84f98cc838b"
   },
   "outputs": [
    {
     "data": {
      "text/plain": [
       "[<matplotlib.lines.Line2D at 0x78452b75dc30>]"
      ]
     },
     "execution_count": 118,
     "metadata": {},
     "output_type": "execute_result"
    },
    {
     "data": {
      "image/png": "[encoded data removed]",
      "text/plain": [
       "<Figure size 640x480 with 1 Axes>"
      ]
     },
     "metadata": {},
     "output_type": "display_data"
    }
   ],
   "source": [
    "\n",
    "# Comparision of actual vs predicted for 9 values\n",
    "plt.plot(test[:9])\n",
    "plt.plot(forecast,color='green')#line plot for prediction\n"
   ]
  },
  {
   "cell_type": "code",
   "execution_count": null,
   "metadata": {
    "id": "ah072jzpwFG_",
    "outputId": "08ae07d0-7aff-4169-c567-763bc07d7cec"
   },
   "outputs": [
    {
     "data": {
      "text/plain": [
       "array([ -24.,  -41.,  -65.,    6.,   15.,   73.,  -27.,  -26.,   66.,\n",
       "        -58.,   29.,   57.,  -16.,  -42., -115.,   56.,   -4.,   76.,\n",
       "         -4.,  -41.,   82.,  -74.,   34.,   28.,   24.])"
      ]
     },
     "execution_count": 42,
     "metadata": {},
     "output_type": "execute_result"
    }
   ],
   "source": [
    "forecast25 = model_arima_fit.forecast(steps=25)\n",
    "test1 = test[0:25].values.flatten()\n",
    "test1"
   ]
  },
  {
   "cell_type": "code",
   "execution_count": null,
   "metadata": {
    "colab": {
     "base_uri": "https://localhost:8080/",
     "height": 283
    },
    "executionInfo": {
     "elapsed": 524,
     "status": "ok",
     "timestamp": 1643821150647,
     "user": {
      "displayName": "Shubhangi Sakarkar",
      "photoUrl": "https://lh3.googleusercontent.com/a-/AOh14GjiJriRrUWKSeoxmYnVoL2uz2i6E3RLOwZgeqHG=s64",
      "userId": "12180749557274197061"
     },
     "user_tz": -330
    },
    "id": "ziHRfC56wFG_",
    "outputId": "41606b9e-6b82-43ce-aff0-0467e751013e"
   },
   "outputs": [
    {
     "data": {
      "text/plain": [
       "[<matplotlib.lines.Line2D at 0x1862238b910>]"
      ]
     },
     "execution_count": 37,
     "metadata": {},
     "output_type": "execute_result"
    },
    {
     "data": {
      "image/png": "[encoded data removed]",
      "text/plain": [
       "<Figure size 432x288 with 1 Axes>"
      ]
     },
     "metadata": {
      "needs_background": "light"
     },
     "output_type": "display_data"
    }
   ],
   "source": [
    "# Comparision of actual vs predicted for 25 values\n",
    "plt.plot(test[:25])\n",
    "plt.plot(forecast25,color='green') #line plot for prediction"
   ]
  },
  {
   "cell_type": "code",
   "execution_count": null,
   "metadata": {
    "id": "ksgrGrSYwFHA",
    "outputId": "e2d91210-dc09-437c-d24b-44ec771e4518"
   },
   "outputs": [
    {
     "data": {
      "text/plain": [
       "{'mse': 2351.3529708033434,\n",
       " 'mae': 38.28559794588579,\n",
       " 'rmse': 48.49075139450144}"
      ]
     },
     "execution_count": 43,
     "metadata": {},
     "output_type": "execute_result"
    }
   ],
   "source": [
    "# Accuracy metrics\n",
    "import numpy as np\n",
    "def forecast_accuracy(forecast, actual):\n",
    "    mse = np.mean((forecast - actual)**2)        # MSE\n",
    "    mae = np.mean(np.abs(forecast - actual))    # MAE\n",
    "    rmse = np.mean((forecast - actual)**2)**.5  # RMSE\n",
    "\n",
    "\n",
    "    return({'mse':mse, 'mae': mae, 'rmse':rmse})\n",
    "\n",
    "forecast_accuracy(forecast25, test1)"
   ]
  },
  {
   "cell_type": "code",
   "execution_count": null,
   "metadata": {
    "id": "x0d18YbawFHA",
    "outputId": "d39b47e3-30c0-4f08-841e-53ebe8348c7d"
   },
   "outputs": [
    {
     "name": "stdout",
     "output_type": "stream",
     "text": [
      "48.49075139450144\n"
     ]
    },
    {
     "data": {
      "text/plain": [
       "2351.352970803343"
      ]
     },
     "execution_count": 45,
     "metadata": {},
     "output_type": "execute_result"
    }
   ],
   "source": [
    "from sklearn.metrics import mean_squared_error\n",
    "from statsmodels.tools.eval_measures import rmse\n",
    "\n",
    "# Calculate root mean squared error\n",
    "print(rmse(test1, forecast25))\n",
    "\n",
    "# Calculate mean squared error\n",
    "mean_squared_error(test1, forecast25)\n"
   ]
  },
  {
   "cell_type": "code",
   "execution_count": null,
   "metadata": {
    "id": "EmS4UhaqwFHA"
   },
   "outputs": [],
   "source": []
  }
 ],
 "metadata": {
  "accelerator": "GPU",
  "colab": {
   "gpuType": "T4",
   "provenance": []
  },
  "kernelspec": {
   "display_name": "Python 3 (ipykernel)",
   "language": "python",
   "name": "python3"
  },
  "language_info": {
   "codemirror_mode": {
    "name": "ipython",
    "version": 3
   },
   "file_extension": ".py",
   "mimetype": "text/x-python",
   "name": "python",
   "nbconvert_exporter": "python",
   "pygments_lexer": "ipython3",
   "version": "3.11.7"
  }
 },
 "nbformat": 4,
 "nbformat_minor": 4
}
