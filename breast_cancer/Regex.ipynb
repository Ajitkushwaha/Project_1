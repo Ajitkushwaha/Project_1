{
 "cells": [
  {
   "cell_type": "markdown",
   "metadata": {
    "id": "E_q2WgWwXQuF"
   },
   "source": [
    "# REGEX ( Regular Expression)"
   ]
  },
  {
   "cell_type": "markdown",
   "metadata": {
    "id": "gjwk3x0cXQuL"
   },
   "source": [
    "* A regular expression is a sequence of characters that uses a search pattern to find a string or set of strings ie., ‘find and replace’ –like operations.\n",
    "\n",
    "* It can detect the presence or absence of a text by matching it with a particular pattern and splitting a pattern into one or more sub-patterns.\n",
    "\n",
    "* Python provides a re-module that supports the use of regex in Python.\n",
    "\n",
    "* Its primary function is to offer a search that takes a regular expression and a string. Here, it either returns the first match or else none.\n",
    "\n",
    "* It is so powerful that it can extract a particular information from a text. So we can make our own Web Crawlers and scrappers in python.\n"
   ]
  },
  {
   "cell_type": "raw",
   "metadata": {
    "id": "p9OhxkfDXQuN"
   },
   "source": [
    "Frequently Used Regular Expressions\n",
    "^ matches the beginning of a string.\n",
    "$ matches the end of a string.\n",
    "\\b matches a word boundary.\n",
    "\\d matches any numeric digit.\n",
    "\\D matches any non-numeric character.\n",
    "(x|y|z) matches exactly one of x, y or z.\n",
    "(x) in general is a remembered group. We can get the value of what matched by using the groups() method of the object returned by re.search.\n",
    "x? matches an optional x character (in other words, it matches an x zero or one times).\n",
    "x* matches x zero or more times.\n",
    "x+ matches x one or more times.\n",
    "x{m,n} matches an x character at least m times, but not more than n times.\n",
    "?: matches an expression but do not capture it. Non capturing group.\n",
    "?= matches a suffix but exclude it from capture. Positive look ahead. \n",
    "a(?=b) will match the \"a\" in \"ab\", but not the \"a\" in \"ac\" \n",
    "In other words, a(?=b) matches the \"a\" which is followed by the string 'b', without consuming what follows the a.\n",
    "?! matches if suffix is absent. Negative look ahead.\n",
    "a(?!b) will match the \"a\" in \"ac\", but not the \"a\" in \"ab\"\n",
    "?<= positive look behind\n",
    "?<! negative look behind\n",
    "\n",
    "\\s\tMatches whitespace\n",
    "\\S\tMatches any non-whitespace character\n",
    "*\tRepeats a character zero or more times\n",
    "\\S\tMatches any non-whitespace character\n",
    "*?\tRepeats a character zero or more times (non-greedy)\n",
    "+\tRepeats a character one or more times\n",
    "+?\tRepeats a character one or more times (non-greedy)\n",
    "[aeiou]\tMatches a single character in the listed set\n",
    "[^XYZ]\tMatches a single character not in the listed set\n",
    "[a-z0-9]\tThe set of characters can include a range\n",
    "(\tIndicates where string extraction is to start\n",
    ")\tIndicates where string extraction is to end"
   ]
  },
  {
   "cell_type": "code",
   "execution_count": null,
   "metadata": {
    "executionInfo": {
     "elapsed": 11,
     "status": "ok",
     "timestamp": 1683012673012,
     "user": {
      "displayName": "Rama Chandra Kotturu",
      "userId": "02243285469857073193"
     },
     "user_tz": -330
    },
    "id": "f5wwHXlkXQuO"
   },
   "outputs": [],
   "source": [
    "#import re module \n",
    "import re"
   ]
  },
  {
   "cell_type": "code",
   "execution_count": null,
   "metadata": {
    "id": "IHzH9eG3XQuQ"
   },
   "outputs": [],
   "source": [
    "text = \"Welcome to the world of Python. Welcome you all.\"\n",
    "text1 = \"Hello all, Welcome you to this show\""
   ]
  },
  {
   "cell_type": "code",
   "execution_count": null,
   "metadata": {
    "id": "M_kQ3DuIXQuR"
   },
   "outputs": [],
   "source": [
    "# In compile() - pass the string / pattern that we want to search\n",
    "result = re.compile(\"Welcome\")"
   ]
  },
  {
   "cell_type": "markdown",
   "metadata": {
    "id": "lPMJTFGrXQuS"
   },
   "source": [
    "#### search()\n",
    "Returns None (if the pattern doesn’t match), or a re.MatchObject contains information about the matching part of the string."
   ]
  },
  {
   "cell_type": "code",
   "execution_count": null,
   "metadata": {
    "id": "nNASQEgpXQuT"
   },
   "outputs": [],
   "source": [
    "# search() - to find/search a string or a pattern \n",
    "ans = result.search(text)\n",
    "ans"
   ]
  },
  {
   "cell_type": "code",
   "execution_count": null,
   "metadata": {
    "id": "HSDgbSMNXQuV"
   },
   "outputs": [],
   "source": [
    "# findall() - returns all the matching pattern as a list\n",
    "print(result.findall(text))\n",
    "print(result.findall(text1))"
   ]
  },
  {
   "cell_type": "code",
   "execution_count": null,
   "metadata": {
    "id": "WD0LwnErXQuV"
   },
   "outputs": [],
   "source": [
    "a = 'This is an example for regular expression'\n",
    "\n",
    "result = re.search('example',a)\n",
    "\n",
    "# result -> match object\n",
    "\n",
    "# find the start index of a string\n",
    "result.start()\n",
    "print('Start Index:', result.start())\n",
    "\n",
    "# find the end index of that string\n",
    "print('End Index:', result.end())\n",
    "\n",
    "# find the start and end index of that string\n",
    "print('End Index:', result.span())"
   ]
  },
  {
   "cell_type": "code",
   "execution_count": null,
   "metadata": {
    "id": "--Bwl7eYXQuW"
   },
   "outputs": [],
   "source": [
    "# to search a pattern/string \n",
    "re.search('regular',a)"
   ]
  },
  {
   "cell_type": "code",
   "execution_count": null,
   "metadata": {
    "id": "fnFTp_Q3XQuX"
   },
   "outputs": [],
   "source": [
    "a[23:30]"
   ]
  },
  {
   "cell_type": "markdown",
   "metadata": {
    "id": "F5O62S71XQuY"
   },
   "source": [
    "##### Beginning of the String\n",
    "The ^ character chooses the beginning of a string."
   ]
  },
  {
   "cell_type": "code",
   "execution_count": null,
   "metadata": {
    "executionInfo": {
     "elapsed": 4,
     "status": "ok",
     "timestamp": 1683012863198,
     "user": {
      "displayName": "Rama Chandra Kotturu",
      "userId": "02243285469857073193"
     },
     "user_tz": -330
    },
    "id": "AzaooKehXQuY"
   },
   "outputs": [],
   "source": [
    "sen = \"The ability of a digital computer to perform tasks commonly associated with intelligent beings.\"\n"
   ]
  },
  {
   "cell_type": "code",
   "execution_count": null,
   "metadata": {
    "id": "yud56i_9XQuY"
   },
   "outputs": [],
   "source": [
    "# Beginning of String\n",
    "a = re.search(r'^The', sen)\n",
    "print('Beginning of String:', a)"
   ]
  },
  {
   "cell_type": "markdown",
   "metadata": {
    "id": "t14IYLn7XQuZ"
   },
   "source": [
    "##### Ending of the String\n",
    "The $ character chooses the end of a string."
   ]
  },
  {
   "cell_type": "code",
   "execution_count": null,
   "metadata": {
    "id": "8nS76m6gXQuZ"
   },
   "outputs": [],
   "source": [
    "match = re.search(r'beings.$', sen)\n",
    "print('End of String:', match)"
   ]
  },
  {
   "cell_type": "markdown",
   "metadata": {
    "id": "Kmfq96mWXQua"
   },
   "source": [
    "##### Character Classes\n",
    "Character classes allow you to match a single set of characters with a possible set of characters. It is given within the square brackets"
   ]
  },
  {
   "cell_type": "code",
   "execution_count": null,
   "metadata": {
    "colab": {
     "base_uri": "https://localhost:8080/"
    },
    "executionInfo": {
     "elapsed": 10,
     "status": "ok",
     "timestamp": 1683012673014,
     "user": {
      "displayName": "Rama Chandra Kotturu",
      "userId": "02243285469857073193"
     },
     "user_tz": -330
    },
    "id": "2Qus6nrpXQua",
    "outputId": "fb0327e1-4724-4919-8999-9c34823ba7c0"
   },
   "outputs": [],
   "source": [
    "# Example 1\n",
    "a = \"Example: This is best example for Regular Expression\"\n",
    "\n",
    "print(re.findall(r'[Ee]xample', a))"
   ]
  },
  {
   "cell_type": "code",
   "execution_count": null,
   "metadata": {
    "id": "Lb1aY7-hXQua"
   },
   "outputs": [],
   "source": [
    "# Example 2\n",
    "text = 'take this time to the next level from a ashok@datamites.com productivity\\\n",
    "             standpoint Time each info@ernet.co.in time you send an pradeep@gmail.com email'\n",
    "\n",
    "match = re.findall(r'[Tt]ime', text)\n",
    "match"
   ]
  },
  {
   "cell_type": "markdown",
   "metadata": {
    "id": "l7TULxjqXQub"
   },
   "source": [
    "##### Range\n",
    "The range provides the flexibility to match a text with the help of a range pattern such as a range of numbers(0 to 9), a range of characters (A to Z), and so on. The hyphen within the character class represents the range."
   ]
  },
  {
   "cell_type": "code",
   "execution_count": null,
   "metadata": {
    "executionInfo": {
     "elapsed": 1108,
     "status": "ok",
     "timestamp": 1683012695635,
     "user": {
      "displayName": "Rama Chandra Kotturu",
      "userId": "02243285469857073193"
     },
     "user_tz": -330
    },
    "id": "p1aJm_ueXQub"
   },
   "outputs": [],
   "source": [
    "text = 'The cyber security has become one of the most important ascept of the business. \\\n",
    "$550 million has been invested research. 12.45.65.78 is one the most spammed inject ips. \\\n",
    "ask@web.com. $600 million wasted. save safe.'"
   ]
  },
  {
   "cell_type": "markdown",
   "metadata": {
    "id": "2TAO4YnsX6RZ"
   },
   "source": []
  },
  {
   "cell_type": "code",
   "execution_count": null,
   "metadata": {
    "colab": {
     "base_uri": "https://localhost:8080/"
    },
    "executionInfo": {
     "elapsed": 5,
     "status": "ok",
     "timestamp": 1683012781845,
     "user": {
      "displayName": "Rama Chandra Kotturu",
      "userId": "02243285469857073193"
     },
     "user_tz": -330
    },
    "id": "Q_DhTztjXQuc",
    "outputId": "79037ed5-8e38-4cb8-9f2d-7ce46b62f2e8"
   },
   "outputs": [],
   "source": [
    "print('Hello',re.search(r'[a-z A-Z]', text))"
   ]
  },
  {
   "cell_type": "markdown",
   "metadata": {
    "id": "s9zKzYTlXQud"
   },
   "source": [
    "##### Negation\n",
    "It will look for a match except for the inverted character or range of inverted characters mentioned in the character class."
   ]
  },
  {
   "cell_type": "code",
   "execution_count": null,
   "metadata": {
    "colab": {
     "base_uri": "https://localhost:8080/"
    },
    "executionInfo": {
     "elapsed": 453,
     "status": "ok",
     "timestamp": 1683012814980,
     "user": {
      "displayName": "Rama Chandra Kotturu",
      "userId": "02243285469857073193"
     },
     "user_tz": -330
    },
    "id": "_L95Ll3SXQud",
    "outputId": "38ba75b5-90d4-43b5-ce90-17ec5150f497"
   },
   "outputs": [],
   "source": [
    "a = \"Hello Harish, how are you? Are you coming to the party?\"\n",
    "print(re.findall(r'H[^e]', a))"
   ]
  },
  {
   "cell_type": "code",
   "execution_count": null,
   "metadata": {
    "colab": {
     "base_uri": "https://localhost:8080/"
    },
    "executionInfo": {
     "elapsed": 806,
     "status": "ok",
     "timestamp": 1683012830703,
     "user": {
      "displayName": "Rama Chandra Kotturu",
      "userId": "02243285469857073193"
     },
     "user_tz": -330
    },
    "id": "2JoXjXeyXQud",
    "outputId": "ae658f08-5c83-4018-c7b4-8acfc77a98f1"
   },
   "outputs": [],
   "source": [
    "print(re.search(r'H[^a]', a))"
   ]
  },
  {
   "cell_type": "code",
   "execution_count": null,
   "metadata": {
    "colab": {
     "base_uri": "https://localhost:8080/"
    },
    "executionInfo": {
     "elapsed": 569,
     "status": "ok",
     "timestamp": 1683012833313,
     "user": {
      "displayName": "Rama Chandra Kotturu",
      "userId": "02243285469857073193"
     },
     "user_tz": -330
    },
    "id": "67jBSB-DXQud",
    "outputId": "65563287-5263-455f-bf93-6517d633ee6d"
   },
   "outputs": [],
   "source": [
    "print(re.search(r'c[^o]', a))"
   ]
  },
  {
   "cell_type": "markdown",
   "metadata": {
    "id": "H9NFodpQXQue"
   },
   "source": [
    "##### Any Character\n",
    "The . character represents any single character outside a bracketed character class."
   ]
  },
  {
   "cell_type": "code",
   "execution_count": null,
   "metadata": {
    "colab": {
     "base_uri": "https://localhost:8080/",
     "height": 36
    },
    "executionInfo": {
     "elapsed": 915,
     "status": "ok",
     "timestamp": 1683012873050,
     "user": {
      "displayName": "Rama Chandra Kotturu",
      "userId": "02243285469857073193"
     },
     "user_tz": -330
    },
    "id": "E0J1YrifXQue",
    "outputId": "2218f8dc-dfaa-447e-be99-442a5dc3768b"
   },
   "outputs": [],
   "source": [
    "sen"
   ]
  },
  {
   "cell_type": "code",
   "execution_count": null,
   "metadata": {
    "colab": {
     "base_uri": "https://localhost:8080/"
    },
    "executionInfo": {
     "elapsed": 446,
     "status": "ok",
     "timestamp": 1683012879812,
     "user": {
      "displayName": "Rama Chandra Kotturu",
      "userId": "02243285469857073193"
     },
     "user_tz": -330
    },
    "id": "7syjs5URXQue",
    "outputId": "a054a694-0283-45d1-b865-f8a2e2affe3c"
   },
   "outputs": [],
   "source": [
    "print(re.search(r'p.rf..m', sen))"
   ]
  },
  {
   "cell_type": "markdown",
   "metadata": {
    "id": "qAiRrXiKXQue"
   },
   "source": [
    "##### Optional Character\n",
    "We can specify optional characters using the ? character which allows a character or character class either to present once or else not to occur."
   ]
  },
  {
   "cell_type": "code",
   "execution_count": null,
   "metadata": {
    "executionInfo": {
     "elapsed": 334,
     "status": "ok",
     "timestamp": 1683012888410,
     "user": {
      "displayName": "Rama Chandra Kotturu",
      "userId": "02243285469857073193"
     },
     "user_tz": -330
    },
    "id": "-KzDVuV8XQuf"
   },
   "outputs": [],
   "source": [
    "se = \"to spell humour, some use humour and some use humor\""
   ]
  },
  {
   "cell_type": "code",
   "execution_count": null,
   "metadata": {
    "colab": {
     "base_uri": "https://localhost:8080/"
    },
    "executionInfo": {
     "elapsed": 8,
     "status": "ok",
     "timestamp": 1683012910991,
     "user": {
      "displayName": "Rama Chandra Kotturu",
      "userId": "02243285469857073193"
     },
     "user_tz": -330
    },
    "id": "u52YYgCvXQuf",
    "outputId": "1a7f4605-bf87-43f6-c69e-1395081e3dc4"
   },
   "outputs": [],
   "source": [
    "print('humour',re.findall(r'humo?ur', se)) "
   ]
  },
  {
   "cell_type": "code",
   "execution_count": null,
   "metadata": {
    "colab": {
     "base_uri": "https://localhost:8080/"
    },
    "executionInfo": {
     "elapsed": 20,
     "status": "ok",
     "timestamp": 1683012981977,
     "user": {
      "displayName": "Rama Chandra Kotturu",
      "userId": "02243285469857073193"
     },
     "user_tz": -330
    },
    "id": "_XkA-th5XQuf",
    "outputId": "3f16958b-2246-4dc6-d15d-eea498244bbd"
   },
   "outputs": [],
   "source": [
    "print(re.findall(r'humou?r', se)) "
   ]
  },
  {
   "cell_type": "code",
   "execution_count": null,
   "metadata": {
    "id": "dmaCs8QRXQuf"
   },
   "outputs": [],
   "source": [
    "text = 'The cyber security has become one of the most important ascept of the business. \\\n",
    "$550 million has been invested research. 12.45.65.78 is a most spammed inject ips. \\\n",
    "ask@web.com. $600 million wasted. save safe sale.'"
   ]
  },
  {
   "cell_type": "code",
   "execution_count": null,
   "metadata": {
    "id": "c8HP4Zj4XQuf"
   },
   "outputs": [],
   "source": [
    "re.findall('sa.e',text)"
   ]
  },
  {
   "cell_type": "code",
   "execution_count": null,
   "metadata": {
    "id": "6rE7W_ZqXQug"
   },
   "outputs": [],
   "source": [
    "p = re.compile('\\d')\n",
    "print(p.findall(\"I went to him at 11 A.M. on 4th July 1886\"))"
   ]
  },
  {
   "cell_type": "code",
   "execution_count": null,
   "metadata": {
    "id": "UeWpN2hZXQug"
   },
   "outputs": [],
   "source": [
    "p = re.compile('\\d+')\n",
    "print(p.findall(\"I went to him at 11 A.M. on 4th July 1886\"))"
   ]
  },
  {
   "cell_type": "code",
   "execution_count": null,
   "metadata": {
    "id": "_8AYwI3OXQug"
   },
   "outputs": [],
   "source": [
    "# \\d+ will match a group on [0-9], group of one or greater size\n",
    "re.findall('\\d+',text)"
   ]
  },
  {
   "cell_type": "code",
   "execution_count": null,
   "metadata": {
    "id": "RRlt6GbLXQuh"
   },
   "outputs": [],
   "source": [
    "re.findall('\\$550',text)"
   ]
  },
  {
   "cell_type": "code",
   "execution_count": null,
   "metadata": {
    "id": "-BElzXiuXQuh"
   },
   "outputs": [],
   "source": [
    "# Finds either of the pattern\n",
    "re.findall('safe|saze',text)"
   ]
  },
  {
   "cell_type": "code",
   "execution_count": null,
   "metadata": {
    "id": "q3ZHmoh1XQui"
   },
   "outputs": [],
   "source": [
    "text"
   ]
  },
  {
   "cell_type": "code",
   "execution_count": null,
   "metadata": {
    "id": "IcsMD-7LXQui"
   },
   "outputs": [],
   "source": [
    "re.findall('[a-z]+',text)"
   ]
  },
  {
   "cell_type": "code",
   "execution_count": null,
   "metadata": {
    "id": "qR6kCDXbXQui"
   },
   "outputs": [],
   "source": [
    "text"
   ]
  },
  {
   "cell_type": "code",
   "execution_count": null,
   "metadata": {
    "id": "FJrmd-tAXQuj"
   },
   "outputs": [],
   "source": [
    "# search for email ids\n",
    "re.findall('[a-z0-9]+@[a-z0-9]+.com',text)"
   ]
  },
  {
   "cell_type": "code",
   "execution_count": null,
   "metadata": {
    "colab": {
     "base_uri": "https://localhost:8080/"
    },
    "executionInfo": {
     "elapsed": 424,
     "status": "ok",
     "timestamp": 1683013028498,
     "user": {
      "displayName": "Rama Chandra Kotturu",
      "userId": "02243285469857073193"
     },
     "user_tz": -330
    },
    "id": "uAO8M-_DXQuj",
    "outputId": "b4b847f2-7165-4eca-cb56-5ce166fa49ff"
   },
   "outputs": [],
   "source": [
    "# \\w is equivalent to [a-zA-Z0-9_].\n",
    "p = re.compile('\\w')\n",
    "print(p.findall(\"He said * in some_lang.\"))\n",
    " \n",
    "# \\w+ matches to group of alphanumeric character.\n",
    "p = re.compile('\\w+')\n",
    "print(p.findall(\"I went to him at 11 A.M., he \\\n",
    "said *** in some_language.\"))\n",
    " \n",
    "# \\W matches to non alphanumeric characters.\n",
    "p = re.compile('\\W')\n",
    "print(p.findall(\"he said *** in some_language.\"))"
   ]
  },
  {
   "cell_type": "code",
   "execution_count": null,
   "metadata": {
    "id": "Nua7euWoZJCD"
   },
   "outputs": [],
   "source": []
  },
  {
   "cell_type": "code",
   "execution_count": null,
   "metadata": {
    "id": "XWyEXH-BXQuk"
   },
   "outputs": [],
   "source": [
    "# split the string by a character or a pattern\n",
    "print(re.split('\\W+', text))"
   ]
  },
  {
   "cell_type": "code",
   "execution_count": null,
   "metadata": {
    "id": "0rz-pxIIXQul"
   },
   "outputs": [],
   "source": [
    "print(re.split('\\d+', text))"
   ]
  },
  {
   "cell_type": "code",
   "execution_count": null,
   "metadata": {
    "id": "w80BlVfuXQul"
   },
   "outputs": [],
   "source": [
    "print(re.split('\\W+', text))"
   ]
  },
  {
   "cell_type": "code",
   "execution_count": null,
   "metadata": {
    "id": "cGOYM1ypXQul"
   },
   "outputs": [],
   "source": [
    "# https://www.geeksforgeeks.org/regular-expression-python-examples-set-1/"
   ]
  },
  {
   "cell_type": "markdown",
   "metadata": {
    "id": "B9rw86ATXQul"
   },
   "source": [
    "##### split()"
   ]
  },
  {
   "cell_type": "code",
   "execution_count": null,
   "metadata": {
    "id": "jHdXyU50XQul"
   },
   "outputs": [],
   "source": [
    "sen1 = \"Take $ 100 and buy 20 oranges 12 Apples, 50 bananas and 30 Guavas. Keep remaining $ with you\""
   ]
  },
  {
   "cell_type": "code",
   "execution_count": null,
   "metadata": {
    "id": "9b6_kMm9XQum"
   },
   "outputs": [],
   "source": [
    "re.split('\\d', sen1)"
   ]
  },
  {
   "cell_type": "code",
   "execution_count": null,
   "metadata": {
    "id": "asJ2O-eJXQum"
   },
   "outputs": [],
   "source": [
    "print(re.split('\\W+', \"Mohan house is near\"))\n",
    "print(re.split('\\W+', \"Mohan's house is near\"))\n",
    "print(re.split('\\W+', 'Neeta, Raghu and Harish are playing'))"
   ]
  },
  {
   "cell_type": "code",
   "execution_count": null,
   "metadata": {
    "id": "XTaxvTxUXQum",
    "scrolled": true
   },
   "outputs": [],
   "source": [
    "print(re.split('\\d+', 'Complete it on or before 15th Jan 2023. The exam will be on 25th Jan 2023', 3))"
   ]
  },
  {
   "cell_type": "code",
   "execution_count": null,
   "metadata": {
    "id": "qwJVUzLUXQum"
   },
   "outputs": [],
   "source": [
    "print(re.split('[a-f]+', 'Come on Neeta.. Cheer up!'))\n",
    "print(re.split('[a-f]+', 'Come on Neeta.. Cheer up!', flags=re.IGNORECASE))"
   ]
  },
  {
   "cell_type": "markdown",
   "metadata": {
    "id": "ubiQo2MKXQun"
   },
   "source": [
    "#### sub()\n",
    "\n",
    "- It is used to find the substring in the given string and replace it with a new string"
   ]
  },
  {
   "cell_type": "code",
   "execution_count": null,
   "metadata": {
    "id": "HX_1g9K8XQun"
   },
   "outputs": [],
   "source": [
    "print(re.sub('am', '#-', 'Ramya came to the CAMPUS yesterday',\n",
    "             flags=re.IGNORECASE))"
   ]
  },
  {
   "cell_type": "code",
   "execution_count": null,
   "metadata": {
    "id": "twIH0oiCXQuo"
   },
   "outputs": [],
   "source": [
    "print(re.sub('am', '&', 'Ramya came to the CAMPUS yesterday'))"
   ]
  },
  {
   "cell_type": "code",
   "execution_count": null,
   "metadata": {
    "id": "M_eoOaOxXQuo",
    "outputId": "3b497401-bd4d-49e3-e314-979cc9b81966"
   },
   "outputs": [],
   "source": [
    "print(re.sub('y$', 'ies', 'emergency'))"
   ]
  },
  {
   "cell_type": "markdown",
   "metadata": {
    "id": "R8QIMQ7GXQup"
   },
   "source": [
    "#### subn()\n",
    "Similar to sub() except that it tells the count of replacement made and the new string"
   ]
  },
  {
   "cell_type": "code",
   "execution_count": null,
   "metadata": {
    "id": "166xjFTmXQuq"
   },
   "outputs": [],
   "source": [
    "print(re.subn('am', '#-', 'Ramya came to the CAMPUS yesterday',\n",
    "             flags=re.IGNORECASE))"
   ]
  },
  {
   "cell_type": "markdown",
   "metadata": {
    "id": "mXCItl4AXQuq"
   },
   "source": [
    "#### escape()\n",
    "It returns a string with BackSlash before every Non-Alphanumeric Character"
   ]
  },
  {
   "cell_type": "code",
   "execution_count": null,
   "metadata": {
    "id": "XRbNi_pqXQur"
   },
   "outputs": [],
   "source": [
    "print(re.escape(\"Hurry up! It's 5pm. We don't have time.\" ))"
   ]
  },
  {
   "cell_type": "markdown",
   "metadata": {
    "id": "X_S6pwliXQur"
   },
   "source": [
    "#### group()\n",
    "It returns the part of the string for which the patterns match."
   ]
  },
  {
   "cell_type": "code",
   "execution_count": null,
   "metadata": {
    "id": "Fo__mIRTXQus"
   },
   "outputs": [],
   "source": [
    "sen = \"Look into this problem\"\n",
    " \n",
    "# here x is the match object\n",
    "res = re.search(r\"\\D{3} t\", sen)\n",
    " \n",
    "print(res.group())"
   ]
  },
  {
   "cell_type": "raw",
   "metadata": {
    "id": "UXPtVIBmXQus"
   },
   "source": [
    "Here, the pattern specifies for the string that contains at least 2 characters which are followed by a space, and that space is followed by a t. "
   ]
  },
  {
   "cell_type": "markdown",
   "metadata": {
    "id": "dv-JHue6XQut"
   },
   "source": [
    "#### match()\n",
    "It tries to match the pattern to whole string. If match is found, it returns the match object else none."
   ]
  },
  {
   "cell_type": "code",
   "execution_count": null,
   "metadata": {
    "id": "ugnkaSBRXQut"
   },
   "outputs": [],
   "source": [
    "sen = \"Engagement is on April 5 and wedding is on May 26\"\n",
    "a = re.match(\"([a-zA-Z]+) (\\d+)\", sen)\n",
    "a"
   ]
  },
  {
   "cell_type": "code",
   "execution_count": null,
   "metadata": {
    "id": "Ay-R392CXQuu"
   },
   "outputs": [],
   "source": [
    "sen1 = \"Jan 26\"\n",
    "a = re.match(\"([a-zA-Z]+) (\\d+)\", sen1)\n",
    "a.group()"
   ]
  },
  {
   "cell_type": "code",
   "execution_count": null,
   "metadata": {
    "id": "t5BJFYqZXQuu"
   },
   "outputs": [],
   "source": []
  }
 ],
 "metadata": {
  "colab": {
   "provenance": []
  },
  "kernelspec": {
   "display_name": "Python 3 (ipykernel)",
   "language": "python",
   "name": "python3"
  },
  "language_info": {
   "codemirror_mode": {
    "name": "ipython",
    "version": 3
   },
   "file_extension": ".py",
   "mimetype": "text/x-python",
   "name": "python",
   "nbconvert_exporter": "python",
   "pygments_lexer": "ipython3",
   "version": "3.11.7"
  }
 },
 "nbformat": 4,
 "nbformat_minor": 4
}
