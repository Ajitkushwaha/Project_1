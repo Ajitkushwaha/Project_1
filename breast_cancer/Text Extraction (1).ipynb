{
 "cells": [
  {
   "cell_type": "markdown",
   "metadata": {
    "id": "PWGRpoulk4UO"
   },
   "source": [
    "## Text Extraction using RegEx\n",
    "Regular expression is a powerful tool for processing and extracting character patterns from text"
   ]
  },
  {
   "cell_type": "code",
   "execution_count": 1,
   "metadata": {
    "id": "2LfZpHwL8WfP"
   },
   "outputs": [],
   "source": [
    "import re"
   ]
  },
  {
   "cell_type": "code",
   "execution_count": 2,
   "metadata": {
    "id": "qsHBiNufk4UV"
   },
   "outputs": [],
   "source": [
    "sen = \"Machine learning is a growing technology which enables computers to \\\n",
    "       learn automatically from past data. We make machine to do specific task \\\n",
    "       without explicitly programming. Machine learning uses various algorithms \\\n",
    "       for building mathematical models and making predictions using historical data or information.\""
   ]
  },
  {
   "cell_type": "markdown",
   "metadata": {
    "id": "hL4ZwEopk4UV"
   },
   "source": [
    "#### findall()\n",
    "It returns a list of all the occurrences of the given pattern from our string"
   ]
  },
  {
   "cell_type": "code",
   "execution_count": 3,
   "metadata": {
    "id": "TROtr7ytk4UV",
    "outputId": "e6e4dd51-ba18-4ad9-91ba-25f4bfe35194"
   },
   "outputs": [
    {
     "data": {
      "text/plain": [
       "['Machine', 'Machine']"
      ]
     },
     "execution_count": 3,
     "metadata": {},
     "output_type": "execute_result"
    }
   ],
   "source": [
    "re.findall('Machine', sen)\n",
    "# return a list of all the occurrences of the word 'Machine' in our string"
   ]
  },
  {
   "cell_type": "code",
   "execution_count": 4,
   "metadata": {
    "id": "CFHJ6Su9k4UW",
    "outputId": "648a8e86-7f6a-4c8f-d928-d16beef9ccc6"
   },
   "outputs": [
    {
     "data": {
      "text/plain": [
       "['Machine', 'machine', 'Machine']"
      ]
     },
     "execution_count": 4,
     "metadata": {},
     "output_type": "execute_result"
    }
   ],
   "source": [
    "re.findall('Machine', sen, flags=re.IGNORECASE)\n",
    "# re.IGNORECASE - ignores the case while performing the search."
   ]
  },
  {
   "cell_type": "code",
   "execution_count": 5,
   "metadata": {
    "id": "UCk_8GAmk4UX",
    "outputId": "dee250d4-8784-455b-b1fb-f8df7a62b398"
   },
   "outputs": [
    {
     "data": {
      "text/plain": [
       "[' learning', 'technology ', ' learning']"
      ]
     },
     "execution_count": 5,
     "metadata": {},
     "output_type": "execute_result"
    }
   ],
   "source": [
    "# Search multiple patterns\n",
    "re.findall('technology | learning', sen)"
   ]
  },
  {
   "cell_type": "code",
   "execution_count": 6,
   "metadata": {
    "id": "EZUqr5brk4UX",
    "outputId": "846e3e84-b5e9-4b71-9d5d-981fc278c934"
   },
   "outputs": [
    {
     "data": {
      "text/plain": [
       "[' learning ', ' from', ' learning ']"
      ]
     },
     "execution_count": 6,
     "metadata": {},
     "output_type": "execute_result"
    }
   ],
   "source": [
    "re.findall('resource | learning | from', sen)"
   ]
  },
  {
   "cell_type": "code",
   "execution_count": 7,
   "metadata": {
    "id": "BtbfP901k4UY",
    "outputId": "d0240cbe-4013-4971-eb22-1735a86641e2"
   },
   "outputs": [
    {
     "data": {
      "text/plain": [
       "['er', 'age', 'is', 'he', 'learned', 'driving', 'at', 'taught', 'her']"
      ]
     },
     "execution_count": 7,
     "metadata": {},
     "output_type": "execute_result"
    }
   ],
   "source": [
    "# Extract only words containing alphabets\n",
    "sen1 = \"Her age is 20. She learned driving at 18. I taught her.\"\n",
    "pattern = '[a-z]+' \n",
    "# The + character is used to match 1 or more repetitions of the preceding regular expression\n",
    "re.findall(pattern, sen1)"
   ]
  },
  {
   "cell_type": "code",
   "execution_count": 8,
   "metadata": {
    "id": "gY00u3ikk4UY",
    "outputId": "7448c231-8e21-4b3d-d8a9-f54d4fd22cb6"
   },
   "outputs": [
    {
     "data": {
      "text/plain": [
       "['Her', 'age', 'is', 'She', 'learned', 'driving', 'at', 'I', 'taught', 'her']"
      ]
     },
     "execution_count": 8,
     "metadata": {},
     "output_type": "execute_result"
    }
   ],
   "source": [
    "re.findall(pattern, sen1, flags=re.IGNORECASE)"
   ]
  },
  {
   "cell_type": "code",
   "execution_count": 9,
   "metadata": {
    "id": "3Gx5lDcDk4UZ",
    "outputId": "3a3435cf-3049-408c-b9e7-57e775f90c99"
   },
   "outputs": [
    {
     "data": {
      "text/plain": [
       "['Her', 'age', 'is', 'She', 'learned', 'driving', 'at', 'I', 'taught', 'her']"
      ]
     },
     "execution_count": 9,
     "metadata": {},
     "output_type": "execute_result"
    }
   ],
   "source": [
    "# without using IGNORECASE\n",
    "pattern ='[a-zA-Z]+'\n",
    "re.findall(pattern, sen1)"
   ]
  },
  {
   "cell_type": "code",
   "execution_count": 10,
   "metadata": {
    "id": "fmt-sHmSk4UZ"
   },
   "outputs": [],
   "source": [
    "# search a specific pattern\n",
    "sen2 = \"@Harish please complete the task. @Navin review it.\""
   ]
  },
  {
   "cell_type": "code",
   "execution_count": 11,
   "metadata": {
    "id": "fiSqItNYk4Ua",
    "outputId": "dc4c3fe2-afb8-40f9-8d2c-c24b93d8a002"
   },
   "outputs": [
    {
     "data": {
      "text/plain": [
       "['Harish', 'Navin']"
      ]
     },
     "execution_count": 11,
     "metadata": {},
     "output_type": "execute_result"
    }
   ],
   "source": [
    "pattern = '@([a-zA-Z]+)'\n",
    "re.findall(pattern, sen2)"
   ]
  },
  {
   "cell_type": "code",
   "execution_count": 12,
   "metadata": {
    "id": "WgHbYu3Vk4Ub",
    "outputId": "0d1b2c66-554f-496e-acd4-7bb95f92751b"
   },
   "outputs": [
    {
     "data": {
      "text/plain": [
       "['@Harish', '@Navin']"
      ]
     },
     "execution_count": 12,
     "metadata": {},
     "output_type": "execute_result"
    }
   ],
   "source": [
    "pattern = '@[a-zA-Z]+'\n",
    "re.findall(pattern, sen2)"
   ]
  },
  {
   "cell_type": "code",
   "execution_count": 13,
   "metadata": {
    "executionInfo": {
     "elapsed": 6,
     "status": "ok",
     "timestamp": 1683016204564,
     "user": {
      "displayName": "Rama Chandra Kotturu",
      "userId": "02243285469857073193"
     },
     "user_tz": -330
    },
    "id": "Tfysl2j38WfQ"
   },
   "outputs": [],
   "source": [
    "## Searching email from the text data.\n",
    "emailtext = 'ok take this to the next level from a google@datamites.com productivity standpoint zed each info@ernet.com time you send an infoi@gmail.com email'"
   ]
  },
  {
   "cell_type": "code",
   "execution_count": 14,
   "metadata": {
    "id": "I2IR5_NS8WfR",
    "outputId": "b67e4b2e-1758-41a4-c2f6-093f8c521a4e"
   },
   "outputs": [
    {
     "data": {
      "text/plain": [
       "['google@datamites.com', 'info@ernet.com', 'infoi@gmail.com']"
      ]
     },
     "execution_count": 14,
     "metadata": {},
     "output_type": "execute_result"
    }
   ],
   "source": [
    "re.findall(r'[a-zA-Z0-9]+@[a-zA-Z0-9]+.[a-z]+',emailtext)"
   ]
  },
  {
   "cell_type": "code",
   "execution_count": 15,
   "metadata": {
    "id": "9AboCjuKk4Uc",
    "outputId": "51220f21-4210-4e9f-9d87-f6419adb50ac"
   },
   "outputs": [
    {
     "data": {
      "text/plain": [
       "<re.Match object; span=(38, 58), match='google@datamites.com'>"
      ]
     },
     "execution_count": 15,
     "metadata": {},
     "output_type": "execute_result"
    }
   ],
   "source": [
    "re.search('\\S+@\\S+', emailtext) "
   ]
  },
  {
   "cell_type": "code",
   "execution_count": 16,
   "metadata": {
    "id": "gSkev5zJ8WfR",
    "outputId": "299b9579-2d7d-43f1-cdf6-3ff850ffd915"
   },
   "outputs": [
    {
     "data": {
      "text/plain": [
       "['google@datamites.com', 'info@ernet.com', 'infoi@gmail.com']"
      ]
     },
     "execution_count": 16,
     "metadata": {},
     "output_type": "execute_result"
    }
   ],
   "source": [
    "re.findall('\\S+@\\S+', emailtext) "
   ]
  },
  {
   "cell_type": "code",
   "execution_count": 17,
   "metadata": {
    "id": "OqqoDtdt8WfS"
   },
   "outputs": [],
   "source": [
    "## searching numbers in text data\n",
    "text = \"This is session on 23 of this 68685 month\""
   ]
  },
  {
   "cell_type": "code",
   "execution_count": 18,
   "metadata": {
    "id": "N__uKJ_38WfT"
   },
   "outputs": [
    {
     "data": {
      "text/plain": [
       "['2', '3', '6', '8', '6', '8', '5']"
      ]
     },
     "execution_count": 18,
     "metadata": {},
     "output_type": "execute_result"
    }
   ],
   "source": [
    "re.findall(r'\\d',text) ## single numbers"
   ]
  },
  {
   "cell_type": "code",
   "execution_count": 19,
   "metadata": {
    "id": "Zraj-XYw8WfU"
   },
   "outputs": [
    {
     "data": {
      "text/plain": [
       "['23', '68685']"
      ]
     },
     "execution_count": 19,
     "metadata": {},
     "output_type": "execute_result"
    }
   ],
   "source": [
    "re.findall(r'\\d+',text)"
   ]
  },
  {
   "cell_type": "code",
   "execution_count": 20,
   "metadata": {
    "id": "86bsTx3r8WfX"
   },
   "outputs": [
    {
     "data": {
      "text/plain": [
       "[]"
      ]
     },
     "execution_count": 20,
     "metadata": {},
     "output_type": "execute_result"
    }
   ],
   "source": [
    "## searching string of numbers separted with some special character(in this cas ips)\n",
    "# b matches word boundary , (?:[0-9]{1,3}\\.) group {3} 3 times,  [0-9]{1,3}  last block without '.'\n",
    "s = re.findall(r'\\b(?:[0-9]{1,3}\\.){3}[0-9]{1,3}\\b', text)\n",
    "s"
   ]
  },
  {
   "cell_type": "code",
   "execution_count": 21,
   "metadata": {
    "id": "1YQWw0g88Wfb"
   },
   "outputs": [],
   "source": [
    "text = 'The cyber security has become one of the most important ascept of the business. \\\n",
    "$550 million has been invested research. 12.45.65.78 is one the most spammed inject ips. \\\n",
    "ask@web.com. $600 million wasted. save safe. sale. hi5@connect.com'"
   ]
  },
  {
   "cell_type": "code",
   "execution_count": 22,
   "metadata": {
    "id": "IbrdKMjC8Wfb",
    "scrolled": true
   },
   "outputs": [
    {
     "data": {
      "text/plain": [
       "['save', 'safe', 'sale']"
      ]
     },
     "execution_count": 22,
     "metadata": {},
     "output_type": "execute_result"
    }
   ],
   "source": [
    "re.findall('sa.e',text)"
   ]
  },
  {
   "cell_type": "code",
   "execution_count": 23,
   "metadata": {
    "id": "W_dPDmza8Wfc"
   },
   "outputs": [
    {
     "data": {
      "text/plain": [
       "['safe']"
      ]
     },
     "execution_count": 23,
     "metadata": {},
     "output_type": "execute_result"
    }
   ],
   "source": [
    "re.findall('safe|saze',text)"
   ]
  },
  {
   "cell_type": "code",
   "execution_count": 24,
   "metadata": {
    "id": "ZTl4c7Df8Wfc",
    "scrolled": true
   },
   "outputs": [
    {
     "data": {
      "text/plain": [
       "['$550']"
      ]
     },
     "execution_count": 24,
     "metadata": {},
     "output_type": "execute_result"
    }
   ],
   "source": [
    "re.findall('\\$550',text)"
   ]
  },
  {
   "cell_type": "code",
   "execution_count": 25,
   "metadata": {
    "id": "9W6pTxVy8Wfc"
   },
   "outputs": [
    {
     "data": {
      "text/plain": [
       "['550', '12', '45', '65', '78', '600', '5']"
      ]
     },
     "execution_count": 25,
     "metadata": {},
     "output_type": "execute_result"
    }
   ],
   "source": [
    "re.findall('\\d+',text)"
   ]
  },
  {
   "cell_type": "code",
   "execution_count": 26,
   "metadata": {
    "id": "GBeCYdKy8Wfd"
   },
   "outputs": [
    {
     "data": {
      "text/plain": [
       "['he',\n",
       " 'cyber',\n",
       " 'security',\n",
       " 'has',\n",
       " 'become',\n",
       " 'one',\n",
       " 'of',\n",
       " 'the',\n",
       " 'most',\n",
       " 'important',\n",
       " 'ascept',\n",
       " 'of',\n",
       " 'the',\n",
       " 'business',\n",
       " 'million',\n",
       " 'has',\n",
       " 'been',\n",
       " 'invested',\n",
       " 'research',\n",
       " 'is',\n",
       " 'one',\n",
       " 'the',\n",
       " 'most',\n",
       " 'spammed',\n",
       " 'inject',\n",
       " 'ips',\n",
       " 'ask',\n",
       " 'web',\n",
       " 'com',\n",
       " 'million',\n",
       " 'wasted',\n",
       " 'save',\n",
       " 'safe',\n",
       " 'sale',\n",
       " 'hi',\n",
       " 'connect',\n",
       " 'com']"
      ]
     },
     "execution_count": 26,
     "metadata": {},
     "output_type": "execute_result"
    }
   ],
   "source": [
    "re.findall('[a-z]+',text)"
   ]
  },
  {
   "cell_type": "code",
   "execution_count": 27,
   "metadata": {
    "id": "VTFv47C_8Wfd"
   },
   "outputs": [
    {
     "data": {
      "text/plain": [
       "['ask@web.com', 'hi5@connect.com']"
      ]
     },
     "execution_count": 27,
     "metadata": {},
     "output_type": "execute_result"
    }
   ],
   "source": [
    "re.findall('[a-z0-9]+@[a-z0-9]+.com',text)"
   ]
  },
  {
   "cell_type": "code",
   "execution_count": null,
   "metadata": {},
   "outputs": [],
   "source": []
  },
  {
   "cell_type": "code",
   "execution_count": null,
   "metadata": {},
   "outputs": [],
   "source": []
  }
 ],
 "metadata": {
  "colab": {
   "provenance": []
  },
  "kernelspec": {
   "display_name": "Python 3 (ipykernel)",
   "language": "python",
   "name": "python3"
  },
  "language_info": {
   "codemirror_mode": {
    "name": "ipython",
    "version": 3
   },
   "file_extension": ".py",
   "mimetype": "text/x-python",
   "name": "python",
   "nbconvert_exporter": "python",
   "pygments_lexer": "ipython3",
   "version": "3.11.7"
  }
 },
 "nbformat": 4,
 "nbformat_minor": 4
}
