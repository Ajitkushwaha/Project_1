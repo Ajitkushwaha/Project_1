{
 "cells": [
  {
   "cell_type": "markdown",
   "id": "411dd925-638d-49b7-83d7-ac8a6502a88e",
   "metadata": {},
   "source": [
    "# Library python"
   ]
  },
  {
   "cell_type": "code",
   "execution_count": 1,
   "id": "3910405f-2742-44c3-ac94-fe115113ae9a",
   "metadata": {},
   "outputs": [],
   "source": [
    "import pandas as pd\n",
    "import numpy as np\n",
    "import warnings\n",
    "warnings.filterwarnings(\"ignore\")"
   ]
  },
  {
   "cell_type": "code",
   "execution_count": 2,
   "id": "887d0838-81f8-4b39-b3dd-6cc94c18838a",
   "metadata": {},
   "outputs": [],
   "source": [
    "job_data = pd.read_csv(\"job_recommendation_dataset.csv\")"
   ]
  },
  {
   "cell_type": "code",
   "execution_count": 3,
   "id": "47328317-9641-4479-ab9a-323d11d79376",
   "metadata": {},
   "outputs": [
    {
     "data": {
      "text/html": [
       "<div>\n",
       "<style scoped>\n",
       "    .dataframe tbody tr th:only-of-type {\n",
       "        vertical-align: middle;\n",
       "    }\n",
       "\n",
       "    .dataframe tbody tr th {\n",
       "        vertical-align: top;\n",
       "    }\n",
       "\n",
       "    .dataframe thead th {\n",
       "        text-align: right;\n",
       "    }\n",
       "</style>\n",
       "<table border=\"1\" class=\"dataframe\">\n",
       "  <thead>\n",
       "    <tr style=\"text-align: right;\">\n",
       "      <th></th>\n",
       "      <th>Job Title</th>\n",
       "      <th>Company</th>\n",
       "      <th>Location</th>\n",
       "      <th>Experience Level</th>\n",
       "      <th>Salary</th>\n",
       "      <th>Industry</th>\n",
       "      <th>Required Skills</th>\n",
       "    </tr>\n",
       "  </thead>\n",
       "  <tbody>\n",
       "    <tr>\n",
       "      <th>0</th>\n",
       "      <td>Early years teacher</td>\n",
       "      <td>Richardson Ltd</td>\n",
       "      <td>Sydney</td>\n",
       "      <td>Senior Level</td>\n",
       "      <td>87000.0</td>\n",
       "      <td>Healthcare</td>\n",
       "      <td>Pharmaceuticals</td>\n",
       "    </tr>\n",
       "    <tr>\n",
       "      <th>1</th>\n",
       "      <td>Counselling psychologist</td>\n",
       "      <td>Ramos, Santiago and Stewart</td>\n",
       "      <td>San Francisco</td>\n",
       "      <td>Mid Level</td>\n",
       "      <td>50000.0</td>\n",
       "      <td>Marketing</td>\n",
       "      <td>Google Ads, SEO, Content Writing</td>\n",
       "    </tr>\n",
       "    <tr>\n",
       "      <th>2</th>\n",
       "      <td>Radio broadcast assistant</td>\n",
       "      <td>Franco Group</td>\n",
       "      <td>New York</td>\n",
       "      <td>Mid Level</td>\n",
       "      <td>77000.0</td>\n",
       "      <td>Healthcare</td>\n",
       "      <td>Patient Care, Nursing, Medical Research, Pharm...</td>\n",
       "    </tr>\n",
       "    <tr>\n",
       "      <th>3</th>\n",
       "      <td>Designer, exhibition/display</td>\n",
       "      <td>Collins Inc</td>\n",
       "      <td>Berlin</td>\n",
       "      <td>Senior Level</td>\n",
       "      <td>90000.0</td>\n",
       "      <td>Software</td>\n",
       "      <td>Machine Learning</td>\n",
       "    </tr>\n",
       "    <tr>\n",
       "      <th>4</th>\n",
       "      <td>Psychotherapist, dance movement</td>\n",
       "      <td>Barker Group</td>\n",
       "      <td>Sydney</td>\n",
       "      <td>Entry Level</td>\n",
       "      <td>112000.0</td>\n",
       "      <td>Healthcare</td>\n",
       "      <td>Nursing, Medical Research, Pharmaceuticals</td>\n",
       "    </tr>\n",
       "  </tbody>\n",
       "</table>\n",
       "</div>"
      ],
      "text/plain": [
       "                         Job Title                      Company  \\\n",
       "0              Early years teacher               Richardson Ltd   \n",
       "1         Counselling psychologist  Ramos, Santiago and Stewart   \n",
       "2        Radio broadcast assistant                 Franco Group   \n",
       "3     Designer, exhibition/display                  Collins Inc   \n",
       "4  Psychotherapist, dance movement                 Barker Group   \n",
       "\n",
       "        Location Experience Level    Salary    Industry  \\\n",
       "0         Sydney     Senior Level   87000.0  Healthcare   \n",
       "1  San Francisco        Mid Level   50000.0   Marketing   \n",
       "2       New York        Mid Level   77000.0  Healthcare   \n",
       "3         Berlin     Senior Level   90000.0    Software   \n",
       "4         Sydney      Entry Level  112000.0  Healthcare   \n",
       "\n",
       "                                     Required Skills  \n",
       "0                                    Pharmaceuticals  \n",
       "1                   Google Ads, SEO, Content Writing  \n",
       "2  Patient Care, Nursing, Medical Research, Pharm...  \n",
       "3                                   Machine Learning  \n",
       "4         Nursing, Medical Research, Pharmaceuticals  "
      ]
     },
     "execution_count": 3,
     "metadata": {},
     "output_type": "execute_result"
    }
   ],
   "source": [
    "job_data.head(5)"
   ]
  },
  {
   "cell_type": "code",
   "execution_count": 4,
   "id": "3e62c506-2002-45c8-86ba-3d06d90d85fa",
   "metadata": {},
   "outputs": [
    {
     "data": {
      "text/html": [
       "<div>\n",
       "<style scoped>\n",
       "    .dataframe tbody tr th:only-of-type {\n",
       "        vertical-align: middle;\n",
       "    }\n",
       "\n",
       "    .dataframe tbody tr th {\n",
       "        vertical-align: top;\n",
       "    }\n",
       "\n",
       "    .dataframe thead th {\n",
       "        text-align: right;\n",
       "    }\n",
       "</style>\n",
       "<table border=\"1\" class=\"dataframe\">\n",
       "  <thead>\n",
       "    <tr style=\"text-align: right;\">\n",
       "      <th></th>\n",
       "      <th>Job Title</th>\n",
       "      <th>Company</th>\n",
       "      <th>Location</th>\n",
       "      <th>Experience Level</th>\n",
       "      <th>Salary</th>\n",
       "      <th>Industry</th>\n",
       "      <th>Required Skills</th>\n",
       "    </tr>\n",
       "  </thead>\n",
       "  <tbody>\n",
       "    <tr>\n",
       "      <th>897</th>\n",
       "      <td>Volunteer coordinator</td>\n",
       "      <td>Smith-Martinez</td>\n",
       "      <td>Sydney</td>\n",
       "      <td>Senior Level</td>\n",
       "      <td>42000.0</td>\n",
       "      <td>Software</td>\n",
       "      <td>AWS, React, C++, Python</td>\n",
       "    </tr>\n",
       "  </tbody>\n",
       "</table>\n",
       "</div>"
      ],
      "text/plain": [
       "                 Job Title         Company Location Experience Level   Salary  \\\n",
       "897  Volunteer coordinator  Smith-Martinez   Sydney     Senior Level  42000.0   \n",
       "\n",
       "     Industry          Required Skills  \n",
       "897  Software  AWS, React, C++, Python  "
      ]
     },
     "execution_count": 4,
     "metadata": {},
     "output_type": "execute_result"
    }
   ],
   "source": [
    "job_data.sample(1)"
   ]
  },
  {
   "cell_type": "markdown",
   "id": "552507fd-13b3-42a7-b8fa-88050ce9c484",
   "metadata": {},
   "source": [
    "# Basice Check"
   ]
  },
  {
   "cell_type": "code",
   "execution_count": 5,
   "id": "053668eb-d8a4-4b12-80f3-95d996bd2721",
   "metadata": {},
   "outputs": [
    {
     "name": "stdout",
     "output_type": "stream",
     "text": [
      "<class 'pandas.core.frame.DataFrame'>\n",
      "RangeIndex: 50000 entries, 0 to 49999\n",
      "Data columns (total 7 columns):\n",
      " #   Column            Non-Null Count  Dtype  \n",
      "---  ------            --------------  -----  \n",
      " 0   Job Title         50000 non-null  object \n",
      " 1   Company           50000 non-null  object \n",
      " 2   Location          50000 non-null  object \n",
      " 3   Experience Level  50000 non-null  object \n",
      " 4   Salary            50000 non-null  float64\n",
      " 5   Industry          50000 non-null  object \n",
      " 6   Required Skills   50000 non-null  object \n",
      "dtypes: float64(1), object(6)\n",
      "memory usage: 2.7+ MB\n"
     ]
    }
   ],
   "source": [
    "job_data.info()"
   ]
  },
  {
   "cell_type": "code",
   "execution_count": 6,
   "id": "2de14fa3-23a8-4562-b252-640afa716ce3",
   "metadata": {},
   "outputs": [
    {
     "data": {
      "text/html": [
       "<div>\n",
       "<style scoped>\n",
       "    .dataframe tbody tr th:only-of-type {\n",
       "        vertical-align: middle;\n",
       "    }\n",
       "\n",
       "    .dataframe tbody tr th {\n",
       "        vertical-align: top;\n",
       "    }\n",
       "\n",
       "    .dataframe thead th {\n",
       "        text-align: right;\n",
       "    }\n",
       "</style>\n",
       "<table border=\"1\" class=\"dataframe\">\n",
       "  <thead>\n",
       "    <tr style=\"text-align: right;\">\n",
       "      <th></th>\n",
       "      <th>Salary</th>\n",
       "    </tr>\n",
       "  </thead>\n",
       "  <tbody>\n",
       "    <tr>\n",
       "      <th>count</th>\n",
       "      <td>50000.000000</td>\n",
       "    </tr>\n",
       "    <tr>\n",
       "      <th>mean</th>\n",
       "      <td>95145.100000</td>\n",
       "    </tr>\n",
       "    <tr>\n",
       "      <th>std</th>\n",
       "      <td>31782.635648</td>\n",
       "    </tr>\n",
       "    <tr>\n",
       "      <th>min</th>\n",
       "      <td>40000.000000</td>\n",
       "    </tr>\n",
       "    <tr>\n",
       "      <th>25%</th>\n",
       "      <td>68000.000000</td>\n",
       "    </tr>\n",
       "    <tr>\n",
       "      <th>50%</th>\n",
       "      <td>95000.000000</td>\n",
       "    </tr>\n",
       "    <tr>\n",
       "      <th>75%</th>\n",
       "      <td>123000.000000</td>\n",
       "    </tr>\n",
       "    <tr>\n",
       "      <th>max</th>\n",
       "      <td>150000.000000</td>\n",
       "    </tr>\n",
       "  </tbody>\n",
       "</table>\n",
       "</div>"
      ],
      "text/plain": [
       "              Salary\n",
       "count   50000.000000\n",
       "mean    95145.100000\n",
       "std     31782.635648\n",
       "min     40000.000000\n",
       "25%     68000.000000\n",
       "50%     95000.000000\n",
       "75%    123000.000000\n",
       "max    150000.000000"
      ]
     },
     "execution_count": 6,
     "metadata": {},
     "output_type": "execute_result"
    }
   ],
   "source": [
    "job_data.describe()"
   ]
  },
  {
   "cell_type": "code",
   "execution_count": 7,
   "id": "113f1281-d716-4f9e-9292-e4cc664145b0",
   "metadata": {},
   "outputs": [
    {
     "data": {
      "text/plain": [
       "Job Title           0\n",
       "Company             0\n",
       "Location            0\n",
       "Experience Level    0\n",
       "Salary              0\n",
       "Industry            0\n",
       "Required Skills     0\n",
       "dtype: int64"
      ]
     },
     "execution_count": 7,
     "metadata": {},
     "output_type": "execute_result"
    }
   ],
   "source": [
    "job_data.isna().sum()"
   ]
  },
  {
   "cell_type": "code",
   "execution_count": 8,
   "id": "2624f03a-25e8-4522-8dd1-0fb7a2e6e1ec",
   "metadata": {},
   "outputs": [
    {
     "data": {
      "text/plain": [
       "0                             Early years teacher\n",
       "1                        Counselling psychologist\n",
       "2                       Radio broadcast assistant\n",
       "3                    Designer, exhibition/display\n",
       "4                 Psychotherapist, dance movement\n",
       "                           ...                   \n",
       "49995                          Veterinary surgeon\n",
       "49996                         Mental health nurse\n",
       "49997                        Field trials officer\n",
       "49998    Geographical information systems officer\n",
       "49999                      Psychotherapist, child\n",
       "Name: Job Title, Length: 50000, dtype: object"
      ]
     },
     "execution_count": 8,
     "metadata": {},
     "output_type": "execute_result"
    }
   ],
   "source": [
    "job_data['Job Title']"
   ]
  },
  {
   "cell_type": "code",
   "execution_count": 9,
   "id": "a216af77-87ca-4d22-a922-de1cba73f003",
   "metadata": {},
   "outputs": [
    {
     "data": {
      "text/plain": [
       "Industry\n",
       "Software         7302\n",
       "Manufacturing    7169\n",
       "Marketing        7158\n",
       "Education        7144\n",
       "Retail           7106\n",
       "Healthcare       7104\n",
       "Finance          7017\n",
       "Name: count, dtype: int64"
      ]
     },
     "execution_count": 9,
     "metadata": {},
     "output_type": "execute_result"
    }
   ],
   "source": [
    "job_data['Industry'].value_counts()"
   ]
  },
  {
   "cell_type": "code",
   "execution_count": 10,
   "id": "00bf7c75-bb1a-4150-8d61-275f7c9349df",
   "metadata": {},
   "outputs": [
    {
     "data": {
      "text/plain": [
       "Experience Level\n",
       "Mid Level       16739\n",
       "Senior Level    16658\n",
       "Entry Level     16603\n",
       "Name: count, dtype: int64"
      ]
     },
     "execution_count": 10,
     "metadata": {},
     "output_type": "execute_result"
    }
   ],
   "source": [
    "job_data['Experience Level'].value_counts()"
   ]
  },
  {
   "cell_type": "code",
   "execution_count": 11,
   "id": "f98ad324-f353-4248-b6f7-f5e86ecc5a8a",
   "metadata": {},
   "outputs": [
    {
     "data": {
      "text/plain": [
       "Required Skills\n",
       "Python                                                679\n",
       "Sales, Merchandising, Customer Service                640\n",
       "Merchandising, Sales, Customer Service                637\n",
       "Supply Chain, Production Planning, Quality Control    619\n",
       "Quality Control, Supply Chain, Production Planning    618\n",
       "                                                     ... \n",
       "React, C++, AWS, Java                                   1\n",
       "Java, AWS, Machine Learning, React                      1\n",
       "React, C++, Java, Machine Learning                      1\n",
       "Python, Java, React, AWS                                1\n",
       "Machine Learning, Python, C++, AWS                      1\n",
       "Name: count, Length: 1559, dtype: int64"
      ]
     },
     "execution_count": 11,
     "metadata": {},
     "output_type": "execute_result"
    }
   ],
   "source": [
    "job_data['Required Skills'].value_counts()"
   ]
  },
  {
   "cell_type": "code",
   "execution_count": 12,
   "id": "954318a4-2f00-43ba-afac-5f3f253ed06a",
   "metadata": {},
   "outputs": [
    {
     "data": {
      "text/plain": [
       "Company\n",
       "Smith PLC                        70\n",
       "Smith Inc                        69\n",
       "Smith and Sons                   65\n",
       "Smith Group                      64\n",
       "Smith Ltd                        54\n",
       "                                 ..\n",
       "Sampson Ltd                       1\n",
       "Garcia, Frederick and Chase       1\n",
       "Schultz, Hutchinson and Scott     1\n",
       "Thompson, Jarvis and Campbell     1\n",
       "Reilly, Anderson and Marsh        1\n",
       "Name: count, Length: 37022, dtype: int64"
      ]
     },
     "execution_count": 12,
     "metadata": {},
     "output_type": "execute_result"
    }
   ],
   "source": [
    "job_data['Company'].value_counts()"
   ]
  },
  {
   "cell_type": "code",
   "execution_count": 13,
   "id": "4be64c85-c2a7-4fb7-a300-00312ae9bd97",
   "metadata": {},
   "outputs": [
    {
     "data": {
      "text/plain": [
       "Location\n",
       "Toronto          7229\n",
       "London           7223\n",
       "New York         7167\n",
       "Sydney           7161\n",
       "San Francisco    7120\n",
       "Bangalore        7052\n",
       "Berlin           7048\n",
       "Name: count, dtype: int64"
      ]
     },
     "execution_count": 13,
     "metadata": {},
     "output_type": "execute_result"
    }
   ],
   "source": [
    "job_data['Location'].value_counts()"
   ]
  },
  {
   "cell_type": "markdown",
   "id": "1b75f622-db07-499f-8153-a196f316805d",
   "metadata": {},
   "source": [
    "# Preprocessing Data"
   ]
  },
  {
   "cell_type": "code",
   "execution_count": 14,
   "id": "2a38e0a9-3267-427f-afa6-00a8cc743247",
   "metadata": {},
   "outputs": [],
   "source": [
    "import re"
   ]
  },
  {
   "cell_type": "code",
   "execution_count": 15,
   "id": "3481fe52-27d0-4bab-9d7d-d325493b9bae",
   "metadata": {},
   "outputs": [],
   "source": [
    "job_data[\"Job Title\"] = job_data[\"Job Title\"].str.replace(r'[^\\w\\s]', \"_\", regex=True)"
   ]
  },
  {
   "cell_type": "code",
   "execution_count": 16,
   "id": "12565b3c-ca42-4997-8866-a3ed7793d16e",
   "metadata": {},
   "outputs": [],
   "source": [
    "def test_space(text):\n",
    "    text = str(text).strip()\n",
    "    text = re.sub(r\"[^\\w\\s]\", \"_\", text)\n",
    "    text = re.sub(r\"\\s+\", \"_\", text)\n",
    "    return text"
   ]
  },
  {
   "cell_type": "code",
   "execution_count": 17,
   "id": "02c5e15e-e834-4ffa-b22a-0dd8947dd9ea",
   "metadata": {},
   "outputs": [],
   "source": [
    "job_data['Company'] = job_data[\"Company\"].apply(test_space)"
   ]
  },
  {
   "cell_type": "code",
   "execution_count": 18,
   "id": "ed3605c7-f597-4e72-afa2-55c046ed72b4",
   "metadata": {},
   "outputs": [],
   "source": [
    "job_data['Location'] = job_data['Location'].apply(test_space)"
   ]
  },
  {
   "cell_type": "code",
   "execution_count": 19,
   "id": "802384c7-97b5-4af0-8bbe-6bf24af1978a",
   "metadata": {},
   "outputs": [],
   "source": [
    "job_data['Job Title'] = job_data['Job Title'].apply(test_space)"
   ]
  },
  {
   "cell_type": "code",
   "execution_count": 20,
   "id": "a6489010-c32f-4021-9b5b-8cb4d8a8bcf3",
   "metadata": {},
   "outputs": [],
   "source": [
    "job_data['Required Skills'] = job_data['Required Skills'].apply(test_space)"
   ]
  },
  {
   "cell_type": "code",
   "execution_count": 21,
   "id": "e49015b9-7ed8-4e5b-8265-d8e3c3ec692b",
   "metadata": {},
   "outputs": [
    {
     "data": {
      "text/html": [
       "<div>\n",
       "<style scoped>\n",
       "    .dataframe tbody tr th:only-of-type {\n",
       "        vertical-align: middle;\n",
       "    }\n",
       "\n",
       "    .dataframe tbody tr th {\n",
       "        vertical-align: top;\n",
       "    }\n",
       "\n",
       "    .dataframe thead th {\n",
       "        text-align: right;\n",
       "    }\n",
       "</style>\n",
       "<table border=\"1\" class=\"dataframe\">\n",
       "  <thead>\n",
       "    <tr style=\"text-align: right;\">\n",
       "      <th></th>\n",
       "      <th>Job Title</th>\n",
       "      <th>Company</th>\n",
       "      <th>Location</th>\n",
       "      <th>Experience Level</th>\n",
       "      <th>Salary</th>\n",
       "      <th>Industry</th>\n",
       "      <th>Required Skills</th>\n",
       "    </tr>\n",
       "  </thead>\n",
       "  <tbody>\n",
       "    <tr>\n",
       "      <th>0</th>\n",
       "      <td>Early_years_teacher</td>\n",
       "      <td>Richardson_Ltd</td>\n",
       "      <td>Sydney</td>\n",
       "      <td>Senior Level</td>\n",
       "      <td>87000.0</td>\n",
       "      <td>Healthcare</td>\n",
       "      <td>Pharmaceuticals</td>\n",
       "    </tr>\n",
       "    <tr>\n",
       "      <th>1</th>\n",
       "      <td>Counselling_psychologist</td>\n",
       "      <td>Ramos__Santiago_and_Stewart</td>\n",
       "      <td>San_Francisco</td>\n",
       "      <td>Mid Level</td>\n",
       "      <td>50000.0</td>\n",
       "      <td>Marketing</td>\n",
       "      <td>Google_Ads__SEO__Content_Writing</td>\n",
       "    </tr>\n",
       "    <tr>\n",
       "      <th>2</th>\n",
       "      <td>Radio_broadcast_assistant</td>\n",
       "      <td>Franco_Group</td>\n",
       "      <td>New_York</td>\n",
       "      <td>Mid Level</td>\n",
       "      <td>77000.0</td>\n",
       "      <td>Healthcare</td>\n",
       "      <td>Patient_Care__Nursing__Medical_Research__Pharm...</td>\n",
       "    </tr>\n",
       "    <tr>\n",
       "      <th>3</th>\n",
       "      <td>Designer__exhibition_display</td>\n",
       "      <td>Collins_Inc</td>\n",
       "      <td>Berlin</td>\n",
       "      <td>Senior Level</td>\n",
       "      <td>90000.0</td>\n",
       "      <td>Software</td>\n",
       "      <td>Machine_Learning</td>\n",
       "    </tr>\n",
       "    <tr>\n",
       "      <th>4</th>\n",
       "      <td>Psychotherapist__dance_movement</td>\n",
       "      <td>Barker_Group</td>\n",
       "      <td>Sydney</td>\n",
       "      <td>Entry Level</td>\n",
       "      <td>112000.0</td>\n",
       "      <td>Healthcare</td>\n",
       "      <td>Nursing__Medical_Research__Pharmaceuticals</td>\n",
       "    </tr>\n",
       "  </tbody>\n",
       "</table>\n",
       "</div>"
      ],
      "text/plain": [
       "                         Job Title                      Company  \\\n",
       "0              Early_years_teacher               Richardson_Ltd   \n",
       "1         Counselling_psychologist  Ramos__Santiago_and_Stewart   \n",
       "2        Radio_broadcast_assistant                 Franco_Group   \n",
       "3     Designer__exhibition_display                  Collins_Inc   \n",
       "4  Psychotherapist__dance_movement                 Barker_Group   \n",
       "\n",
       "        Location Experience Level    Salary    Industry  \\\n",
       "0         Sydney     Senior Level   87000.0  Healthcare   \n",
       "1  San_Francisco        Mid Level   50000.0   Marketing   \n",
       "2       New_York        Mid Level   77000.0  Healthcare   \n",
       "3         Berlin     Senior Level   90000.0    Software   \n",
       "4         Sydney      Entry Level  112000.0  Healthcare   \n",
       "\n",
       "                                     Required Skills  \n",
       "0                                    Pharmaceuticals  \n",
       "1                   Google_Ads__SEO__Content_Writing  \n",
       "2  Patient_Care__Nursing__Medical_Research__Pharm...  \n",
       "3                                   Machine_Learning  \n",
       "4         Nursing__Medical_Research__Pharmaceuticals  "
      ]
     },
     "execution_count": 21,
     "metadata": {},
     "output_type": "execute_result"
    }
   ],
   "source": [
    "job_data.head()"
   ]
  },
  {
   "cell_type": "code",
   "execution_count": 22,
   "id": "6e4a0a22-62d3-42c4-a9fc-076fdce5d54c",
   "metadata": {},
   "outputs": [
    {
     "name": "stdout",
     "output_type": "stream",
     "text": [
      "<class 'pandas.core.frame.DataFrame'>\n",
      "RangeIndex: 50000 entries, 0 to 49999\n",
      "Data columns (total 7 columns):\n",
      " #   Column            Non-Null Count  Dtype  \n",
      "---  ------            --------------  -----  \n",
      " 0   Job Title         50000 non-null  object \n",
      " 1   Company           50000 non-null  object \n",
      " 2   Location          50000 non-null  object \n",
      " 3   Experience Level  50000 non-null  object \n",
      " 4   Salary            50000 non-null  float64\n",
      " 5   Industry          50000 non-null  object \n",
      " 6   Required Skills   50000 non-null  object \n",
      "dtypes: float64(1), object(6)\n",
      "memory usage: 2.7+ MB\n"
     ]
    }
   ],
   "source": [
    "job_data.info()"
   ]
  },
  {
   "cell_type": "markdown",
   "id": "3ad881a5-64cf-4132-99e5-9cf764cef603",
   "metadata": {},
   "source": [
    "# Train Test split"
   ]
  },
  {
   "cell_type": "code",
   "execution_count": null,
   "id": "139efcb5-80a7-411e-8045-be7f0f5d3237",
   "metadata": {},
   "outputs": [],
   "source": []
  },
  {
   "cell_type": "code",
   "execution_count": 23,
   "id": "9f001aa5-409e-450a-b2a5-4034b630899d",
   "metadata": {},
   "outputs": [],
   "source": [
    "from sklearn.model_selection import train_test_split\n",
    "X_train,X_test,y_train,y_test = train_test_split(job_data.drop(columns=['Salary']),job_data['Salary'],\n",
    "                                                test_size=0.2)"
   ]
  },
  {
   "cell_type": "code",
   "execution_count": null,
   "id": "72d8f391-531a-42c8-bb92-466a41ae58a9",
   "metadata": {},
   "outputs": [],
   "source": []
  },
  {
   "cell_type": "code",
   "execution_count": 24,
   "id": "9032f110-3901-4da5-9318-6a857fe5cc74",
   "metadata": {},
   "outputs": [
    {
     "data": {
      "text/html": [
       "<div>\n",
       "<style scoped>\n",
       "    .dataframe tbody tr th:only-of-type {\n",
       "        vertical-align: middle;\n",
       "    }\n",
       "\n",
       "    .dataframe tbody tr th {\n",
       "        vertical-align: top;\n",
       "    }\n",
       "\n",
       "    .dataframe thead th {\n",
       "        text-align: right;\n",
       "    }\n",
       "</style>\n",
       "<table border=\"1\" class=\"dataframe\">\n",
       "  <thead>\n",
       "    <tr style=\"text-align: right;\">\n",
       "      <th></th>\n",
       "      <th>Job Title</th>\n",
       "      <th>Company</th>\n",
       "      <th>Location</th>\n",
       "      <th>Experience Level</th>\n",
       "      <th>Industry</th>\n",
       "      <th>Required Skills</th>\n",
       "    </tr>\n",
       "  </thead>\n",
       "  <tbody>\n",
       "    <tr>\n",
       "      <th>23086</th>\n",
       "      <td>Scientist__clinical__histocompatibility_and_im...</td>\n",
       "      <td>Fry_Porter</td>\n",
       "      <td>Bangalore</td>\n",
       "      <td>Senior Level</td>\n",
       "      <td>Marketing</td>\n",
       "      <td>SEO</td>\n",
       "    </tr>\n",
       "    <tr>\n",
       "      <th>7719</th>\n",
       "      <td>Metallurgist</td>\n",
       "      <td>Hall_LLC</td>\n",
       "      <td>New_York</td>\n",
       "      <td>Mid Level</td>\n",
       "      <td>Education</td>\n",
       "      <td>EdTech__Curriculum_Design__Research</td>\n",
       "    </tr>\n",
       "    <tr>\n",
       "      <th>25795</th>\n",
       "      <td>Loss_adjuster__chartered</td>\n",
       "      <td>Roy_and_Sons</td>\n",
       "      <td>New_York</td>\n",
       "      <td>Entry Level</td>\n",
       "      <td>Finance</td>\n",
       "      <td>SQL__Risk_Analysis</td>\n",
       "    </tr>\n",
       "    <tr>\n",
       "      <th>7953</th>\n",
       "      <td>Clinical_scientist__histocompatibility_and_imm...</td>\n",
       "      <td>Simmons_Morgan</td>\n",
       "      <td>New_York</td>\n",
       "      <td>Entry Level</td>\n",
       "      <td>Software</td>\n",
       "      <td>React</td>\n",
       "    </tr>\n",
       "    <tr>\n",
       "      <th>8178</th>\n",
       "      <td>Facilities_manager</td>\n",
       "      <td>Silva_Ltd</td>\n",
       "      <td>London</td>\n",
       "      <td>Entry Level</td>\n",
       "      <td>Finance</td>\n",
       "      <td>Financial_Modeling__SQL__Python__Excel</td>\n",
       "    </tr>\n",
       "    <tr>\n",
       "      <th>...</th>\n",
       "      <td>...</td>\n",
       "      <td>...</td>\n",
       "      <td>...</td>\n",
       "      <td>...</td>\n",
       "      <td>...</td>\n",
       "      <td>...</td>\n",
       "    </tr>\n",
       "    <tr>\n",
       "      <th>4703</th>\n",
       "      <td>Education_officer__environmental</td>\n",
       "      <td>Barrett_LLC</td>\n",
       "      <td>Berlin</td>\n",
       "      <td>Entry Level</td>\n",
       "      <td>Education</td>\n",
       "      <td>EdTech__Teaching</td>\n",
       "    </tr>\n",
       "    <tr>\n",
       "      <th>43759</th>\n",
       "      <td>Astronomer</td>\n",
       "      <td>Acevedo_Inc</td>\n",
       "      <td>Sydney</td>\n",
       "      <td>Mid Level</td>\n",
       "      <td>Healthcare</td>\n",
       "      <td>Nursing</td>\n",
       "    </tr>\n",
       "    <tr>\n",
       "      <th>25869</th>\n",
       "      <td>Teacher__English_as_a_foreign_language</td>\n",
       "      <td>Heath_Willis</td>\n",
       "      <td>Berlin</td>\n",
       "      <td>Senior Level</td>\n",
       "      <td>Education</td>\n",
       "      <td>EdTech__Curriculum_Design</td>\n",
       "    </tr>\n",
       "    <tr>\n",
       "      <th>11913</th>\n",
       "      <td>Health_and_safety_adviser</td>\n",
       "      <td>Freeman__Thompson_and_Lee</td>\n",
       "      <td>Toronto</td>\n",
       "      <td>Senior Level</td>\n",
       "      <td>Manufacturing</td>\n",
       "      <td>Supply_Chain__Quality_Control__Production_Plan...</td>\n",
       "    </tr>\n",
       "    <tr>\n",
       "      <th>8671</th>\n",
       "      <td>Product_process_development_scientist</td>\n",
       "      <td>Smith_and_Sons</td>\n",
       "      <td>Toronto</td>\n",
       "      <td>Entry Level</td>\n",
       "      <td>Software</td>\n",
       "      <td>C__</td>\n",
       "    </tr>\n",
       "  </tbody>\n",
       "</table>\n",
       "<p>40000 rows × 6 columns</p>\n",
       "</div>"
      ],
      "text/plain": [
       "                                               Job Title  \\\n",
       "23086  Scientist__clinical__histocompatibility_and_im...   \n",
       "7719                                        Metallurgist   \n",
       "25795                           Loss_adjuster__chartered   \n",
       "7953   Clinical_scientist__histocompatibility_and_imm...   \n",
       "8178                                  Facilities_manager   \n",
       "...                                                  ...   \n",
       "4703                    Education_officer__environmental   \n",
       "43759                                         Astronomer   \n",
       "25869             Teacher__English_as_a_foreign_language   \n",
       "11913                          Health_and_safety_adviser   \n",
       "8671               Product_process_development_scientist   \n",
       "\n",
       "                         Company   Location Experience Level       Industry  \\\n",
       "23086                 Fry_Porter  Bangalore     Senior Level      Marketing   \n",
       "7719                    Hall_LLC   New_York        Mid Level      Education   \n",
       "25795               Roy_and_Sons   New_York      Entry Level        Finance   \n",
       "7953              Simmons_Morgan   New_York      Entry Level       Software   \n",
       "8178                   Silva_Ltd     London      Entry Level        Finance   \n",
       "...                          ...        ...              ...            ...   \n",
       "4703                 Barrett_LLC     Berlin      Entry Level      Education   \n",
       "43759                Acevedo_Inc     Sydney        Mid Level     Healthcare   \n",
       "25869               Heath_Willis     Berlin     Senior Level      Education   \n",
       "11913  Freeman__Thompson_and_Lee    Toronto     Senior Level  Manufacturing   \n",
       "8671              Smith_and_Sons    Toronto      Entry Level       Software   \n",
       "\n",
       "                                         Required Skills  \n",
       "23086                                                SEO  \n",
       "7719                 EdTech__Curriculum_Design__Research  \n",
       "25795                                 SQL__Risk_Analysis  \n",
       "7953                                               React  \n",
       "8178              Financial_Modeling__SQL__Python__Excel  \n",
       "...                                                  ...  \n",
       "4703                                    EdTech__Teaching  \n",
       "43759                                            Nursing  \n",
       "25869                          EdTech__Curriculum_Design  \n",
       "11913  Supply_Chain__Quality_Control__Production_Plan...  \n",
       "8671                                                 C__  \n",
       "\n",
       "[40000 rows x 6 columns]"
      ]
     },
     "execution_count": 24,
     "metadata": {},
     "output_type": "execute_result"
    }
   ],
   "source": [
    "X_train"
   ]
  },
  {
   "cell_type": "code",
   "execution_count": 25,
   "id": "b00979c0-1427-4eed-8315-89cdc6881c87",
   "metadata": {},
   "outputs": [
    {
     "data": {
      "text/plain": [
       "23086     62000.0\n",
       "7719     109000.0\n",
       "25795    132000.0\n",
       "7953     145000.0\n",
       "8178      75000.0\n",
       "           ...   \n",
       "4703      91000.0\n",
       "43759    126000.0\n",
       "25869     48000.0\n",
       "11913    142000.0\n",
       "8671      64000.0\n",
       "Name: Salary, Length: 40000, dtype: float64"
      ]
     },
     "execution_count": 25,
     "metadata": {},
     "output_type": "execute_result"
    }
   ],
   "source": [
    "y_train"
   ]
  },
  {
   "cell_type": "markdown",
   "id": "e4be1480-799a-4e3f-829f-255f876e36d3",
   "metadata": {},
   "source": [
    "# Encoding"
   ]
  },
  {
   "cell_type": "code",
   "execution_count": 34,
   "id": "ce2b3643-a60a-417a-a261-42a51f25deb5",
   "metadata": {},
   "outputs": [],
   "source": [
    "from sklearn.compose import ColumnTransformer\n",
    "from sklearn.preprocessing import OneHotEncoder\n",
    "from sklearn.pipeline import Pipeline,make_pipeline\n",
    "from sklearn.feature_selection import SelectKBest,chi2\n",
    "from sklearn.tree import DecisionTreeClassifier\n",
    "from sklearn.preprocessing import OrdinalEncoder"
   ]
  },
  {
   "cell_type": "markdown",
   "id": "a5e8b1b2-49e3-4e20-8eac-39906932924d",
   "metadata": {},
   "source": [
    "# JOb_Title"
   ]
  },
  {
   "cell_type": "code",
   "execution_count": 27,
   "id": "5255034e-6a84-4de9-8c31-5847b96691a9",
   "metadata": {},
   "outputs": [],
   "source": [
    "# trf1 = "
   ]
  },
  {
   "cell_type": "markdown",
   "id": "22140987-611a-4926-ab9c-ea4d216e4efb",
   "metadata": {},
   "source": [
    "# Company"
   ]
  },
  {
   "cell_type": "code",
   "execution_count": 28,
   "id": "73ec644e-8397-40bd-a7ed-5b4962b3aa5c",
   "metadata": {},
   "outputs": [],
   "source": [
    "# trf2 = "
   ]
  },
  {
   "cell_type": "markdown",
   "id": "3fc33dd7-89dd-484c-9fb0-bc6ac6fbcc7d",
   "metadata": {},
   "source": [
    "# one hot encoding for location, Industry"
   ]
  },
  {
   "cell_type": "code",
   "execution_count": 29,
   "id": "166201fa-138a-4551-942b-e24d916a6248",
   "metadata": {},
   "outputs": [],
   "source": [
    "trf3 = ColumnTransformer([\n",
    "    ('ohe_sex_embarked',OneHotEncoder(sparse_output=True,handle_unknown='ignore'),[2,4])\n",
    "],remainder='passthrough')"
   ]
  },
  {
   "cell_type": "markdown",
   "id": "1de4df43-12a4-4a9d-bfa1-f451e1d45074",
   "metadata": {},
   "source": [
    "# Experince Level for OrdinalEncoder "
   ]
  },
  {
   "cell_type": "code",
   "execution_count": 35,
   "id": "76abe606-4cec-438a-a685-714c592f550b",
   "metadata": {},
   "outputs": [],
   "source": [
    "trf4 = ColumnTransformer(transformers=[\n",
    "    ('tnf2',OrdinalEncoder(categories=[['Entry Level','Mid Level','Senior Level']]),['Experience Level']),\n",
    "],remainder='passthrough')"
   ]
  },
  {
   "cell_type": "markdown",
   "id": "5f9a54f1-9bab-4351-8184-1313cda3c9e6",
   "metadata": {},
   "source": [
    "# Required Skills"
   ]
  },
  {
   "cell_type": "code",
   "execution_count": null,
   "id": "d2ee2d02-40e8-4c9b-9c10-eacaff51d865",
   "metadata": {},
   "outputs": [],
   "source": [
    "# trf5 = "
   ]
  },
  {
   "cell_type": "code",
   "execution_count": null,
   "id": "e9443619-e83d-4072-ad4d-bcf27f9b784f",
   "metadata": {},
   "outputs": [],
   "source": []
  }
 ],
 "metadata": {
  "kernelspec": {
   "display_name": "Python 3 (ipykernel)",
   "language": "python",
   "name": "python3"
  },
  "language_info": {
   "codemirror_mode": {
    "name": "ipython",
    "version": 3
   },
   "file_extension": ".py",
   "mimetype": "text/x-python",
   "name": "python",
   "nbconvert_exporter": "python",
   "pygments_lexer": "ipython3",
   "version": "3.13.5"
  }
 },
 "nbformat": 4,
 "nbformat_minor": 5
}
