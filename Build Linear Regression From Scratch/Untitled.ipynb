{
 "cells": [
  {
   "cell_type": "code",
   "execution_count": 38,
   "id": "3f10a1af-c2db-410e-bd12-81df5b714750",
   "metadata": {},
   "outputs": [],
   "source": [
    "class MeraLR:\n",
    "\n",
    "    def __init__(self):\n",
    "        self.m = None\n",
    "        self.b = None\n",
    "\n",
    "    def fit(self,X_train,y_train):\n",
    "        num = 0\n",
    "        dem = 0\n",
    "        for i in range(X_train.shape[0]):\n",
    "          num = num + ((X_train[i] - X_train.mean()) * (y_train[i] - y_train.mean()))\n",
    "          dem = dem +  ((X_train[i] - X_train.mean()) *(X_train[i] - X_train.mean()))\n",
    "        self.m = num/dem\n",
    "        self.b = (y_train.mean() - self.m * X_train.mean())\n",
    "        print(self.m)\n",
    "        print(self.b)\n",
    "            \n",
    "\n",
    "    def predict(self,X_text):\n",
    "        print(X_test)\n",
    "\n",
    "        return self.m * X_test + self.b\n",
    "        "
   ]
  },
  {
   "cell_type": "code",
   "execution_count": 11,
   "id": "cc0ebc6f-e60c-4fc4-a253-1ab4d7387817",
   "metadata": {},
   "outputs": [],
   "source": [
    "import pandas as pd\n",
    "import numpy as np\n",
    "from sklearn.model_selection import train_test_split\n"
   ]
  },
  {
   "cell_type": "code",
   "execution_count": 4,
   "id": "999e7cf5-176b-48e6-99ec-3b1c69dcd096",
   "metadata": {},
   "outputs": [],
   "source": [
    "df = pd.read_csv('placement.csv')"
   ]
  },
  {
   "cell_type": "code",
   "execution_count": 5,
   "id": "a8d73e0b-168b-4c14-8baf-52a13ccb7953",
   "metadata": {},
   "outputs": [
    {
     "data": {
      "text/html": [
       "<div>\n",
       "<style scoped>\n",
       "    .dataframe tbody tr th:only-of-type {\n",
       "        vertical-align: middle;\n",
       "    }\n",
       "\n",
       "    .dataframe tbody tr th {\n",
       "        vertical-align: top;\n",
       "    }\n",
       "\n",
       "    .dataframe thead th {\n",
       "        text-align: right;\n",
       "    }\n",
       "</style>\n",
       "<table border=\"1\" class=\"dataframe\">\n",
       "  <thead>\n",
       "    <tr style=\"text-align: right;\">\n",
       "      <th></th>\n",
       "      <th>cgpa</th>\n",
       "      <th>package</th>\n",
       "    </tr>\n",
       "  </thead>\n",
       "  <tbody>\n",
       "    <tr>\n",
       "      <th>0</th>\n",
       "      <td>6.89</td>\n",
       "      <td>3.26</td>\n",
       "    </tr>\n",
       "    <tr>\n",
       "      <th>1</th>\n",
       "      <td>5.12</td>\n",
       "      <td>1.98</td>\n",
       "    </tr>\n",
       "    <tr>\n",
       "      <th>2</th>\n",
       "      <td>7.82</td>\n",
       "      <td>3.25</td>\n",
       "    </tr>\n",
       "    <tr>\n",
       "      <th>3</th>\n",
       "      <td>7.42</td>\n",
       "      <td>3.67</td>\n",
       "    </tr>\n",
       "    <tr>\n",
       "      <th>4</th>\n",
       "      <td>6.94</td>\n",
       "      <td>3.57</td>\n",
       "    </tr>\n",
       "  </tbody>\n",
       "</table>\n",
       "</div>"
      ],
      "text/plain": [
       "   cgpa  package\n",
       "0  6.89     3.26\n",
       "1  5.12     1.98\n",
       "2  7.82     3.25\n",
       "3  7.42     3.67\n",
       "4  6.94     3.57"
      ]
     },
     "execution_count": 5,
     "metadata": {},
     "output_type": "execute_result"
    }
   ],
   "source": [
    "df.head()"
   ]
  },
  {
   "cell_type": "code",
   "execution_count": 9,
   "id": "9e03080e-4cb3-4508-a156-a5759c35b671",
   "metadata": {},
   "outputs": [],
   "source": [
    "X = df.iloc[:,0].values\n",
    "y=df.iloc[:,1].values"
   ]
  },
  {
   "cell_type": "code",
   "execution_count": 23,
   "id": "96a44516-aefa-4692-abd7-0dd886ac5907",
   "metadata": {},
   "outputs": [
    {
     "data": {
      "text/plain": [
       "(160,)"
      ]
     },
     "execution_count": 23,
     "metadata": {},
     "output_type": "execute_result"
    }
   ],
   "source": [
    "X_train.shape"
   ]
  },
  {
   "cell_type": "code",
   "execution_count": 21,
   "id": "c0a519e2-0c1d-453d-b038-2cd860d7eeac",
   "metadata": {},
   "outputs": [],
   "source": [
    "X_train,X_test,y_train,y_test = train_test_split(X,y,test_size=0.2,random_state = 2)"
   ]
  },
  {
   "cell_type": "code",
   "execution_count": 39,
   "id": "809c7e78-8f0b-4fde-8df1-adf5a96a0df8",
   "metadata": {},
   "outputs": [],
   "source": [
    "lr = MeraLR()"
   ]
  },
  {
   "cell_type": "code",
   "execution_count": 40,
   "id": "a1a6d655-1605-475f-83d2-430043f11118",
   "metadata": {},
   "outputs": [
    {
     "name": "stdout",
     "output_type": "stream",
     "text": [
      "0.5579519734250721\n",
      "-0.8961119222429152\n"
     ]
    }
   ],
   "source": [
    "lr.fit(X_train,y_train)"
   ]
  },
  {
   "cell_type": "code",
   "execution_count": 42,
   "id": "3db45399-c210-46d9-8f41-e517a1d92456",
   "metadata": {},
   "outputs": [
    {
     "name": "stdout",
     "output_type": "stream",
     "text": [
      "[8.58 7.15 5.88 6.22 4.57 4.79 5.32 6.86 8.35 6.87 8.94 7.9  6.93 5.91\n",
      " 7.32 7.82 5.09 7.42 6.94 7.73 6.19 7.28 6.73 7.2  8.21 6.75 7.87 7.6\n",
      " 8.63 5.12 8.15 7.36 8.31 6.6  6.59 7.47 7.93 6.29 6.37 6.47]\n",
      "[3.89111601 3.09324469 2.38464568 2.57434935 1.6537286  1.77647803\n",
      " 2.07219258 2.93143862 3.76278706 2.93701814 4.09197872 3.51170867\n",
      " 2.97049525 2.40138424 3.18809652 3.46707251 1.94386362 3.24389172\n",
      " 2.97607477 3.41685683 2.55761079 3.16577844 2.85890486 3.12114229\n",
      " 3.68467378 2.8700639  3.49497011 3.34432308 3.91901361 1.96060218\n",
      " 3.65119666 3.2104146  3.74046898 2.7863711  2.78079158 3.27178932\n",
      " 3.52844723 2.61340599 2.65804215 2.71383735]\n"
     ]
    }
   ],
   "source": [
    "print(lr.predict(X_test[0]))"
   ]
  },
  {
   "cell_type": "code",
   "execution_count": null,
   "id": "392ffe8b-32ce-4801-87c9-25e0b341e9e2",
   "metadata": {},
   "outputs": [],
   "source": []
  }
 ],
 "metadata": {
  "kernelspec": {
   "display_name": "Python 3 (ipykernel)",
   "language": "python",
   "name": "python3"
  },
  "language_info": {
   "codemirror_mode": {
    "name": "ipython",
    "version": 3
   },
   "file_extension": ".py",
   "mimetype": "text/x-python",
   "name": "python",
   "nbconvert_exporter": "python",
   "pygments_lexer": "ipython3",
   "version": "3.13.5"
  }
 },
 "nbformat": 4,
 "nbformat_minor": 5
}
